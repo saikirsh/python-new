{
  "nbformat": 4,
  "nbformat_minor": 0,
  "metadata": {
    "colab": {
      "name": "Dictionaries.ipynb",
      "provenance": [],
      "authorship_tag": "ABX9TyPX81lpUeV6rubjy4a0z/sS",
      "include_colab_link": true
    },
    "kernelspec": {
      "name": "python3",
      "display_name": "Python 3"
    },
    "language_info": {
      "name": "python"
    }
  },
  "cells": [
    {
      "cell_type": "markdown",
      "metadata": {
        "id": "view-in-github",
        "colab_type": "text"
      },
      "source": [
        "<a href=\"https://colab.research.google.com/github/saikirsh/python-new/blob/module-2/Dictionaries.ipynb\" target=\"_parent\"><img src=\"https://colab.research.google.com/assets/colab-badge.svg\" alt=\"Open In Colab\"/></a>"
      ]
    },
    {
      "cell_type": "code",
      "execution_count": null,
      "metadata": {
        "colab": {
          "base_uri": "https://localhost:8080/"
        },
        "id": "TCgyoYzlSGht",
        "outputId": "5cc62845-164d-45c9-e839-e7cba570a3e9"
      },
      "outputs": [
        {
          "output_type": "stream",
          "name": "stdout",
          "text": [
            "{'name': 'sai krishna', 'friend': 'sheshu', 'since': 2021, 'first meet': 'oct 20'}\n"
          ]
        }
      ],
      "source": [
        "#Dictionary Example\n",
        "x =\t{\n",
        "  \"name\": \"sai krishna\",\n",
        "  \"friend\": \"sheshu\",\n",
        "  \"since\": 2021,\n",
        "  \"first meet\":\"oct 20\"\n",
        "}\n",
        "print(x)\n"
      ]
    },
    {
      "cell_type": "code",
      "source": [
        "#Dictionary Items\n",
        "x =\t{\n",
        "  \"name\": \"sai krishna\",\n",
        "  \"friend\": \"sheshu\",\n",
        "  \"since\": 2021\n",
        "}\n",
        "print(x[\"name\"])\n",
        "print(x[\"friend\"])\n",
        "print(x[\"since\"])"
      ],
      "metadata": {
        "colab": {
          "base_uri": "https://localhost:8080/"
        },
        "id": "UmPSIRwcTh-N",
        "outputId": "59194b31-60f1-4b89-98f7-c58d77637f9f"
      },
      "execution_count": null,
      "outputs": [
        {
          "output_type": "stream",
          "name": "stdout",
          "text": [
            "sai krishna\n",
            "sheshu\n",
            "2021\n"
          ]
        }
      ]
    },
    {
      "cell_type": "code",
      "source": [
        "#Duplicates Not Allowed\n",
        "x =\t{\n",
        "  \"name\": \"sai krishna\",\n",
        "  \"friend\": \"sheshu\",\n",
        "  \"since\": 2021,\n",
        "  \"since\":\"oct 2021\"\n",
        "}\n",
        "print(x)\n"
      ],
      "metadata": {
        "colab": {
          "base_uri": "https://localhost:8080/"
        },
        "id": "GMFEPXqvUG3s",
        "outputId": "de2e2b42-9ee9-4582-ebff-37d7cea94d4c"
      },
      "execution_count": null,
      "outputs": [
        {
          "output_type": "stream",
          "name": "stdout",
          "text": [
            "{'name': 'sai krishna', 'friend': 'sheshu', 'since': 'oct 2021'}\n"
          ]
        }
      ]
    },
    {
      "cell_type": "code",
      "source": [
        "#Dictionary Length\n",
        "x =\t{\n",
        "  \"name\": \"sai krishna\",\n",
        "  \"friend\": \"sheshu\",\n",
        "  \"since\": 2021\n",
        "}\n",
        "print(len(x))"
      ],
      "metadata": {
        "colab": {
          "base_uri": "https://localhost:8080/"
        },
        "id": "7-Y1W2ogUk4k",
        "outputId": "031e6ab1-4e38-4ddd-c8db-dc2fbe2503b7"
      },
      "execution_count": null,
      "outputs": [
        {
          "output_type": "stream",
          "name": "stdout",
          "text": [
            "3\n"
          ]
        }
      ]
    },
    {
      "cell_type": "code",
      "source": [
        "#Dictionary Items - Data Types\n",
        "x =\t{\n",
        "  \"name\": \"sai krishna\",\n",
        "  \"friend\": \"sheshu\",\n",
        "  \"since\": 2021,\n",
        "  \"first meet\":[\"oct\",\"Nov\"]\n",
        "}\n",
        "print(x)"
      ],
      "metadata": {
        "colab": {
          "base_uri": "https://localhost:8080/"
        },
        "id": "NDcjliW-U09k",
        "outputId": "2a32170e-203d-43bc-89b7-4ae908dfb367"
      },
      "execution_count": null,
      "outputs": [
        {
          "output_type": "stream",
          "name": "stdout",
          "text": [
            "{'name': 'sai krishna', 'friend': 'sheshu', 'since': 2021, 'first meet': ['oct', 'Nov']}\n"
          ]
        }
      ]
    },
    {
      "cell_type": "code",
      "source": [
        "#type()\n",
        "x =\t{\n",
        "  \"name\": \"sai krishna\",\n",
        "  \"friend\": \"sheshu\",\n",
        "  \"since\": 2021\n",
        "}\n",
        "print(type(x))\n"
      ],
      "metadata": {
        "colab": {
          "base_uri": "https://localhost:8080/"
        },
        "id": "PmyvMWX4V0ho",
        "outputId": "77cc2f29-98ea-4297-97e0-ff599a7d79df"
      },
      "execution_count": null,
      "outputs": [
        {
          "output_type": "stream",
          "name": "stdout",
          "text": [
            "<class 'dict'>\n"
          ]
        }
      ]
    },
    {
      "cell_type": "code",
      "source": [
        "#Accessing Items\n",
        "x =\t{\n",
        "  \"name\": \"sai krishna\",\n",
        "  \"friend\": \"sheshu\",\n",
        "  \"since\": 2021\n",
        "}\n",
        "y=x[\"friend\"]\n",
        "print(y)"
      ],
      "metadata": {
        "colab": {
          "base_uri": "https://localhost:8080/"
        },
        "id": "7ldRVEKaWAHC",
        "outputId": "14a2e8f0-f030-4df4-c92b-843fe3d0ffb8"
      },
      "execution_count": null,
      "outputs": [
        {
          "output_type": "stream",
          "name": "stdout",
          "text": [
            "sheshu\n"
          ]
        }
      ]
    },
    {
      "cell_type": "code",
      "source": [
        "#There is also a method called get() that will give you the same result:\n",
        "x =\t{\n",
        "  \"name\": \"sai krishna\",\n",
        "  \"friend\": \"sheshu\",\n",
        "  \"since\": 2021\n",
        "}\n",
        "y=x.get(\"name\")\n",
        "print(y)"
      ],
      "metadata": {
        "colab": {
          "base_uri": "https://localhost:8080/"
        },
        "id": "EfXkWUO9XGsS",
        "outputId": "502d52ae-e9ef-47e0-e961-0df76a31dd3e"
      },
      "execution_count": null,
      "outputs": [
        {
          "output_type": "stream",
          "name": "stdout",
          "text": [
            "sai krishna\n"
          ]
        }
      ]
    },
    {
      "cell_type": "code",
      "source": [
        "#Get Keys\n",
        "x =\t{\n",
        "  \"name\": \"sai krishna\",\n",
        "  \"friend\": \"sheshu\",\n",
        "  \"since\": 2021\n",
        "}\n",
        "y=x.keys()\n",
        "print(y)"
      ],
      "metadata": {
        "colab": {
          "base_uri": "https://localhost:8080/"
        },
        "id": "MhfkHxkgXgw5",
        "outputId": "7cfb03b3-c3f2-4bd4-d348-3188b83cbc46"
      },
      "execution_count": null,
      "outputs": [
        {
          "output_type": "stream",
          "name": "stdout",
          "text": [
            "dict_keys(['name', 'friend', 'since'])\n"
          ]
        }
      ]
    },
    {
      "cell_type": "code",
      "source": [
        "#The list of the keys is a view of the dictionary, meaning that any changes done to the dictionary will be reflected in the keys list.\n",
        "x =\t{\n",
        "  \"name\": \"sai krishna\",\n",
        "  \"friend\": \"sheshu\",\n",
        "  \"since\": 2021\n",
        "}\n",
        "y=x.keys()\n",
        "print(y)#before the change\n",
        "x[\"fist meet \"]=\"oct 2021\"\n",
        "print(y)#after the change"
      ],
      "metadata": {
        "colab": {
          "base_uri": "https://localhost:8080/"
        },
        "id": "6aBehskZYJqa",
        "outputId": "413f9f2a-d4a1-4720-b914-04230dc17b1f"
      },
      "execution_count": null,
      "outputs": [
        {
          "output_type": "stream",
          "name": "stdout",
          "text": [
            "dict_keys(['name', 'friend', 'since'])\n",
            "dict_keys(['name', 'friend', 'since', 'fist meet '])\n"
          ]
        }
      ]
    },
    {
      "cell_type": "code",
      "source": [
        "#Get Values\n",
        "x =\t{\n",
        "  \"name\": \"sai krishna\",\n",
        "  \"friend\": \"sheshu\",\n",
        "  \"since\": 2021\n",
        "}\n",
        "y=x.values()\n",
        "print(y)"
      ],
      "metadata": {
        "colab": {
          "base_uri": "https://localhost:8080/"
        },
        "id": "Fj3soo0jZIf6",
        "outputId": "ea978ecc-a560-4846-c9e9-2a4c31a0a8b3"
      },
      "execution_count": null,
      "outputs": [
        {
          "output_type": "stream",
          "name": "stdout",
          "text": [
            "dict_values(['sai krishna', 'sheshu', 2021])\n"
          ]
        }
      ]
    },
    {
      "cell_type": "code",
      "source": [
        "x =\t{\n",
        "  \"name\": \"sai krishna\",\n",
        "  \"friend\": \"sheshu\",\n",
        "  \"since\": 2021\n",
        "}\n",
        "y=x.values()\n",
        "print(y)#before the change\n",
        "x[\"fist meet \"]=\"oct 2021\"\n",
        "print(y)#after the change"
      ],
      "metadata": {
        "colab": {
          "base_uri": "https://localhost:8080/"
        },
        "id": "mNIti9cVZd2x",
        "outputId": "78ec6cbc-e9f0-4679-a841-934be413baf8"
      },
      "execution_count": null,
      "outputs": [
        {
          "output_type": "stream",
          "name": "stdout",
          "text": [
            "dict_values(['sai krishna', 'sheshu', 2021])\n",
            "dict_values(['sai krishna', 'sheshu', 2021, 'oct 2021'])\n"
          ]
        }
      ]
    },
    {
      "cell_type": "code",
      "source": [
        "#Get Items\n",
        "x =\t{\n",
        "  \"name\": \"sai krishna\",\n",
        "  \"friend\": \"sheshu\",\n",
        "  \"since\": 2021\n",
        "}\n",
        "y=x.items()\n",
        "print(y)"
      ],
      "metadata": {
        "colab": {
          "base_uri": "https://localhost:8080/"
        },
        "id": "gcvReSsCZ_H4",
        "outputId": "743a631d-d39f-4fee-eee7-945ad68eca5a"
      },
      "execution_count": null,
      "outputs": [
        {
          "output_type": "stream",
          "name": "stdout",
          "text": [
            "dict_items([('name', 'sai krishna'), ('friend', 'sheshu'), ('since', 2021)])\n"
          ]
        }
      ]
    },
    {
      "cell_type": "code",
      "source": [
        "x =\t{\n",
        "  \"name\": \"sai krishna\",\n",
        "  \"friend\": \"sheshu\",\n",
        "  \"since\": 2021\n",
        "}\n",
        "y=x.items()\n",
        "print(y)#before the change\n",
        "x[\"fist meet \"]=\"oct 2021\"\n",
        "print(y)#after the change"
      ],
      "metadata": {
        "colab": {
          "base_uri": "https://localhost:8080/"
        },
        "id": "1vKVoHM6aYIw",
        "outputId": "d33d8175-64ac-4098-8943-94721db77267"
      },
      "execution_count": null,
      "outputs": [
        {
          "output_type": "stream",
          "name": "stdout",
          "text": [
            "dict_items([('name', 'sai krishna'), ('friend', 'sheshu'), ('since', 2021)])\n",
            "dict_items([('name', 'sai krishna'), ('friend', 'sheshu'), ('since', 2021), ('fist meet ', 'oct 2021')])\n"
          ]
        }
      ]
    },
    {
      "cell_type": "code",
      "source": [
        "#Check if Key Exists\n",
        "x =\t{\n",
        "  \"name\": \"sai krishna\",\n",
        "  \"friend\": \"sheshu\",\n",
        "  \"since\": 2021\n",
        "}\n",
        "if \"name\" in x:\n",
        "  print(\"Yes, 'model' is one of the keys in the x dictionary\")"
      ],
      "metadata": {
        "colab": {
          "base_uri": "https://localhost:8080/"
        },
        "id": "DPZifCHzagw2",
        "outputId": "ea287c32-8124-4526-b216-ddd29e856e1b"
      },
      "execution_count": null,
      "outputs": [
        {
          "output_type": "stream",
          "name": "stdout",
          "text": [
            "Yes, 'model' is one of the keys in the x dictionary\n"
          ]
        }
      ]
    },
    {
      "cell_type": "code",
      "source": [
        "x =\t{\n",
        "  \"name\": \"sai krishna\",\n",
        "  \"friend\": \"sheshu\",\n",
        "  \"since\": 2021\n",
        "}\n",
        "if \"friend\" in x:\n",
        "  print(\"Yes, 'model' is one of the keys in the x dictionary\")"
      ],
      "metadata": {
        "colab": {
          "base_uri": "https://localhost:8080/"
        },
        "id": "X4MBa_wVbMKf",
        "outputId": "410cb115-9857-47c7-c4af-21e5e4303c18"
      },
      "execution_count": null,
      "outputs": [
        {
          "output_type": "stream",
          "name": "stdout",
          "text": [
            "Yes, 'model' is one of the keys in the x dictionary\n"
          ]
        }
      ]
    },
    {
      "cell_type": "code",
      "source": [
        "#Change Values\n",
        "x =\t{\n",
        "  \"name\": \"sai krishna\",\n",
        "  \"friend\": \"sheshu\",\n",
        "  \"since\": 2021\n",
        "}\n",
        "x[\"since\"]=\"oct 2021\"\n",
        "print(x)"
      ],
      "metadata": {
        "colab": {
          "base_uri": "https://localhost:8080/"
        },
        "id": "NFrq7DFtbZLf",
        "outputId": "d6cdde96-71dd-47fb-9968-6758e3dfbe0c"
      },
      "execution_count": null,
      "outputs": [
        {
          "output_type": "stream",
          "name": "stdout",
          "text": [
            "{'name': 'sai krishna', 'friend': 'sheshu', 'since': 'oct 2021'}\n"
          ]
        }
      ]
    },
    {
      "cell_type": "code",
      "source": [
        "#Update Dictionary\n",
        "x =\t{\n",
        "  \"name\": \"sai krishna\",\n",
        "  \"friend\": \"sheshu\",\n",
        "  \"since\": 2021\n",
        "}\n",
        "x.update({\"since\":\"oct 2021\"})\n",
        "print(x)"
      ],
      "metadata": {
        "colab": {
          "base_uri": "https://localhost:8080/"
        },
        "id": "K4w3j16obv73",
        "outputId": "3fce9aee-d74e-4b9c-ac9f-b469230a9219"
      },
      "execution_count": null,
      "outputs": [
        {
          "output_type": "stream",
          "name": "stdout",
          "text": [
            "{'name': 'sai krishna', 'friend': 'sheshu', 'since': 'oct 2021'}\n"
          ]
        }
      ]
    },
    {
      "cell_type": "code",
      "source": [
        "#Python - Add Dictionary Items\n",
        "#Adding Items\n",
        "x =\t{\n",
        "  \"name\": \"sai krishna\",\n",
        "  \"friend\": \"sheshu\",\n",
        "  \"since\": 2021\n",
        "}\n",
        "x[\"first meet\"]=\"oct 2021\"\n",
        "print(x)"
      ],
      "metadata": {
        "colab": {
          "base_uri": "https://localhost:8080/"
        },
        "id": "vxP_o5W_cTO_",
        "outputId": "3b6c7e25-bcb9-47f7-a4d9-612093815948"
      },
      "execution_count": null,
      "outputs": [
        {
          "output_type": "stream",
          "name": "stdout",
          "text": [
            "{'name': 'sai krishna', 'friend': 'sheshu', 'since': 2021, 'first meet': 'oct 2021'}\n"
          ]
        }
      ]
    },
    {
      "cell_type": "code",
      "source": [
        "#Update Dictionary\n",
        "x =\t{\n",
        "  \"name\": \"sai krishna\",\n",
        "  \"friend\": \"sheshu\",\n",
        "  \"since\": 2021\n",
        "}\n",
        "x.update({\"first meet\":\"oct 2021\"})\n",
        "print(x)"
      ],
      "metadata": {
        "colab": {
          "base_uri": "https://localhost:8080/"
        },
        "id": "PGoF_V0scpWA",
        "outputId": "6e425c7e-114e-41f6-e625-1d4b3f030cb9"
      },
      "execution_count": null,
      "outputs": [
        {
          "output_type": "stream",
          "name": "stdout",
          "text": [
            "{'name': 'sai krishna', 'friend': 'sheshu', 'since': 2021, 'first meet': 'oct 2021'}\n"
          ]
        }
      ]
    },
    {
      "cell_type": "code",
      "source": [
        "#Removing Items\n",
        "x =\t{\n",
        "  \"name\": \"sai krishna\",\n",
        "  \"friend\": \"sheshu\",\n",
        "  \"since\": 2021\n",
        "}\n",
        "x.pop(\"since\")\n",
        "print(x)"
      ],
      "metadata": {
        "colab": {
          "base_uri": "https://localhost:8080/"
        },
        "id": "Se1XH5Dkc-me",
        "outputId": "fe909fc8-cb2a-428a-d397-13ecbca89360"
      },
      "execution_count": null,
      "outputs": [
        {
          "output_type": "stream",
          "name": "stdout",
          "text": [
            "{'name': 'sai krishna', 'friend': 'sheshu'}\n"
          ]
        }
      ]
    },
    {
      "cell_type": "code",
      "source": [
        "#The popitem() method removes the last inserted item\n",
        "x =\t{\n",
        "  \"name\": \"sai krishna\",\n",
        "  \"friend\": \"sheshu\",\n",
        "  \"since\": 2021\n",
        "}\n",
        "x.popitem()\n",
        "print(x)"
      ],
      "metadata": {
        "colab": {
          "base_uri": "https://localhost:8080/"
        },
        "id": "720AGUsada1N",
        "outputId": "163cfcac-cb5d-4e6f-efbd-612c0036d657"
      },
      "execution_count": null,
      "outputs": [
        {
          "output_type": "stream",
          "name": "stdout",
          "text": [
            "{'name': 'sai krishna', 'friend': 'sheshu'}\n"
          ]
        }
      ]
    },
    {
      "cell_type": "code",
      "source": [
        "#del\n",
        "x =\t{\n",
        "  \"name\": \"sai krishna\",\n",
        "  \"friend\": \"sheshu\",\n",
        "  \"since\": 2021\n",
        "}\n",
        "del x[\"since\"]\n",
        "print(x)"
      ],
      "metadata": {
        "colab": {
          "base_uri": "https://localhost:8080/"
        },
        "id": "oTyyYsXteBEm",
        "outputId": "353114e0-cec8-460b-a853-f072acb4d819"
      },
      "execution_count": null,
      "outputs": [
        {
          "output_type": "stream",
          "name": "stdout",
          "text": [
            "{'name': 'sai krishna', 'friend': 'sheshu'}\n"
          ]
        }
      ]
    },
    {
      "cell_type": "code",
      "source": [
        "#clear\n",
        "x =\t{\n",
        "  \"name\": \"sai krishna\",\n",
        "  \"friend\": \"sheshu\",\n",
        "  \"since\": 2021\n",
        "}\n",
        "x.clear()\n",
        "print(x)"
      ],
      "metadata": {
        "colab": {
          "base_uri": "https://localhost:8080/"
        },
        "id": "gp-tNUdBeXlF",
        "outputId": "44c2e710-e4b6-4583-f632-02d7d080966e"
      },
      "execution_count": null,
      "outputs": [
        {
          "output_type": "stream",
          "name": "stdout",
          "text": [
            "{}\n"
          ]
        }
      ]
    },
    {
      "cell_type": "code",
      "source": [
        "#Loop Through a Dictionary\n",
        "#Print all key names in the dictionary, one by one:\n",
        "x =\t{\n",
        "  \"name\": \"sai krishna\",\n",
        "  \"friend\": \"sheshu\",\n",
        "  \"since\": 2021\n",
        "}\n",
        "for y in x:\n",
        "  print(y)"
      ],
      "metadata": {
        "colab": {
          "base_uri": "https://localhost:8080/"
        },
        "id": "qCExOYiSejRV",
        "outputId": "6c4db60d-93a0-4763-ae6d-43d0c5aeb083"
      },
      "execution_count": null,
      "outputs": [
        {
          "output_type": "stream",
          "name": "stdout",
          "text": [
            "name\n",
            "friend\n",
            "since\n"
          ]
        }
      ]
    },
    {
      "cell_type": "code",
      "source": [
        "#Print all values in the dictionary, one by one:\n",
        "x =\t{\n",
        "  \"name\": \"sai krishna\",\n",
        "  \"friend\": \"sheshu\",\n",
        "  \"since\": 2021\n",
        "}\n",
        "for y in x:\n",
        "  print(x[y])"
      ],
      "metadata": {
        "colab": {
          "base_uri": "https://localhost:8080/"
        },
        "id": "fu7EVtk5e9Gb",
        "outputId": "5016d766-6d5b-414f-a336-0c174909fc0a"
      },
      "execution_count": null,
      "outputs": [
        {
          "output_type": "stream",
          "name": "stdout",
          "text": [
            "sai krishna\n",
            "sheshu\n",
            "2021\n"
          ]
        }
      ]
    },
    {
      "cell_type": "code",
      "source": [
        "#You can also use the values() method to return values of a dictionary:\n",
        "x =\t{\n",
        "  \"name\": \"sai krishna\",\n",
        "  \"friend\": \"sheshu\",\n",
        "  \"since\": 2021\n",
        "}\n",
        "for y in x.values():\n",
        "  print(y)"
      ],
      "metadata": {
        "colab": {
          "base_uri": "https://localhost:8080/"
        },
        "id": "np6vITcyfKN2",
        "outputId": "811fef61-7ddf-4849-c700-d7ec58bb1e1a"
      },
      "execution_count": null,
      "outputs": [
        {
          "output_type": "stream",
          "name": "stdout",
          "text": [
            "sai krishna\n",
            "sheshu\n",
            "2021\n"
          ]
        }
      ]
    },
    {
      "cell_type": "code",
      "source": [
        "#You can use the keys() method to return the keys of a dictionary:\n",
        "x =\t{\n",
        "  \"name\": \"sai krishna\",\n",
        "  \"friend\": \"sheshu\",\n",
        "  \"since\": 2021\n",
        "}\n",
        "for y in x.keys():\n",
        "  print(y)"
      ],
      "metadata": {
        "colab": {
          "base_uri": "https://localhost:8080/"
        },
        "id": "xA0LCMYhSsCb",
        "outputId": "ef432653-a72c-4985-f443-fb263826971d"
      },
      "execution_count": null,
      "outputs": [
        {
          "output_type": "stream",
          "name": "stdout",
          "text": [
            "name\n",
            "friend\n",
            "since\n"
          ]
        }
      ]
    },
    {
      "cell_type": "code",
      "source": [
        "#Loop through both keys and values, by using the items() method:\n",
        "x =\t{\n",
        "  \"name\": \"sai krishna\",\n",
        "  \"friend\": \"sheshu\",\n",
        "  \"since\": 2021\n",
        "}\n",
        "for x,y in x.items():\n",
        "  print(x,y)"
      ],
      "metadata": {
        "colab": {
          "base_uri": "https://localhost:8080/"
        },
        "id": "fOvqX8nmTMvz",
        "outputId": "65d67f88-3d03-4935-bd15-9f88be1fc070"
      },
      "execution_count": null,
      "outputs": [
        {
          "output_type": "stream",
          "name": "stdout",
          "text": [
            "name sai krishna\n",
            "friend sheshu\n",
            "since 2021\n"
          ]
        }
      ]
    },
    {
      "cell_type": "markdown",
      "source": [
        "Python - Copy Dictionaries"
      ],
      "metadata": {
        "id": "px_veoqZTyYB"
      }
    },
    {
      "cell_type": "code",
      "source": [
        "#Python - Copy Dictionaries\n",
        "#Copy a Dictionary\n",
        "x =\t{\n",
        "  \"name\": \"sai krishna\",\n",
        "  \"friend\": \"sheshu\",\n",
        "  \"since\": 2021\n",
        "}\n",
        "y = x.copy()\n",
        "print(y)"
      ],
      "metadata": {
        "colab": {
          "base_uri": "https://localhost:8080/"
        },
        "id": "DrAKGYOpTtp9",
        "outputId": "bc86e565-694f-41c9-f068-46c3fa85da63"
      },
      "execution_count": null,
      "outputs": [
        {
          "output_type": "stream",
          "name": "stdout",
          "text": [
            "{'name': 'sai krishna', 'friend': 'sheshu', 'since': 2021}\n"
          ]
        }
      ]
    },
    {
      "cell_type": "code",
      "source": [
        "#Make a copy of a dictionary with the dict() function:\n",
        "x =\t{\n",
        "  \"name\": \"sai krishna\",\n",
        "  \"friend\": \"sheshu\",\n",
        "  \"since\": 2021\n",
        "}\n",
        "y =dict(x)\n",
        "print(y)"
      ],
      "metadata": {
        "colab": {
          "base_uri": "https://localhost:8080/"
        },
        "id": "VZ36ND5Fcon2",
        "outputId": "a37168c9-db1f-485a-ae00-29d0ac8ab960"
      },
      "execution_count": null,
      "outputs": [
        {
          "output_type": "stream",
          "name": "stdout",
          "text": [
            "{'name': 'sai krishna', 'friend': 'sheshu', 'since': 2021}\n"
          ]
        }
      ]
    },
    {
      "cell_type": "markdown",
      "source": [
        "Python - Nested Dictionaries"
      ],
      "metadata": {
        "id": "i2FuVuGdhKwI"
      }
    },
    {
      "cell_type": "code",
      "source": [
        "#Python - Nested Dictionaries\n",
        "myfriends = {\n",
        "  \"friend1\" : {\n",
        "    \"name\" : \"yeshwanth\",\n",
        "    \"since\" : 2016\n",
        "  },\n",
        "  \"friend2\" : {\n",
        "    \"name\" : \"sheshu\",\n",
        "    \"since\" : 2021\n",
        "  },\n",
        "  \"friend3\" : {\n",
        "    \"name\" : \"praneeth\",\n",
        "    \"since\" : 2022\n",
        "    }\n",
        "}\n",
        "\n",
        "print(myfriends)"
      ],
      "metadata": {
        "colab": {
          "base_uri": "https://localhost:8080/"
        },
        "id": "8ciocdN0fbUu",
        "outputId": "7d70be74-d8e1-4abd-f2ea-85aa13e78da7"
      },
      "execution_count": null,
      "outputs": [
        {
          "output_type": "stream",
          "name": "stdout",
          "text": [
            "{'friend1': {'name': 'yeshwanth', 'since': 2016}, 'friend2': {'name': 'sheshu', 'since': 2021}, 'friend3': {'name': 'praneeth', 'since': 2022}}\n"
          ]
        }
      ]
    },
    {
      "cell_type": "code",
      "source": [
        "#Create three dictionaries, then create one dictionary that will contain the other three dictionaries:\n",
        "friend1 = {\n",
        "  \"name\" : \"yeshwanth\",\n",
        "  \"since\" : 2016\n",
        "}\n",
        "friend2 = {\n",
        "  \"name\" : \"sheshu\",\n",
        "  \"year\" : 2021\n",
        "}\n",
        "friend3 = {\n",
        "  \"name\" : \"praneeth\",\n",
        "  \"year\" : 2022\n",
        "}\n",
        "\n",
        "myfriends= {\n",
        "  \"friend1\" : friend1,\n",
        "  \"friend2\" : friend2,\n",
        "  \"friend3\" : friend3\n",
        "}\n",
        "\n",
        "print(myfriends)"
      ],
      "metadata": {
        "colab": {
          "base_uri": "https://localhost:8080/"
        },
        "id": "dLoKYDyEigPD",
        "outputId": "c1d7db19-52a5-42f5-9890-8db97b135465"
      },
      "execution_count": null,
      "outputs": [
        {
          "output_type": "stream",
          "name": "stdout",
          "text": [
            "{'friend1': {'name': 'yeshwanth', 'since': 2016}, 'friend2': {'name': 'sheshu', 'year': 2021}, 'friend3': {'name': 'praneeth', 'year': 2022}}\n"
          ]
        }
      ]
    }
  ]
}