{
  "nbformat": 4,
  "nbformat_minor": 0,
  "metadata": {
    "colab": {
      "name": "Tuples.ipynb",
      "provenance": [],
      "authorship_tag": "ABX9TyNrQSF+p/CEJQKBqNpq/s7V",
      "include_colab_link": true
    },
    "kernelspec": {
      "name": "python3",
      "display_name": "Python 3"
    },
    "language_info": {
      "name": "python"
    }
  },
  "cells": [
    {
      "cell_type": "markdown",
      "metadata": {
        "id": "view-in-github",
        "colab_type": "text"
      },
      "source": [
        "<a href=\"https://colab.research.google.com/github/saikirsh/python-new/blob/module-2/Tuples.ipynb\" target=\"_parent\"><img src=\"https://colab.research.google.com/assets/colab-badge.svg\" alt=\"Open In Colab\"/></a>"
      ]
    },
    {
      "cell_type": "code",
      "execution_count": null,
      "metadata": {
        "colab": {
          "base_uri": "https://localhost:8080/"
        },
        "id": "lYSjZrhwYDtR",
        "outputId": "14e0717f-147d-4ca2-bb67-e18234b1985f"
      },
      "outputs": [
        {
          "output_type": "stream",
          "name": "stdout",
          "text": [
            "('sai', 'krishna', 'praneeth')\n"
          ]
        }
      ],
      "source": [
        "# Tuple\n",
        "x=(\"sai\",\"krishna\",\"praneeth\")\n",
        "print(x)"
      ]
    },
    {
      "cell_type": "code",
      "source": [
        "x=(\"sai\",\"krishna\",\"praneeth\")\n",
        "print(x[0])"
      ],
      "metadata": {
        "colab": {
          "base_uri": "https://localhost:8080/"
        },
        "id": "zu0DJGzbaXab",
        "outputId": "99e704a1-1594-4152-95d7-11836e6f5178"
      },
      "execution_count": null,
      "outputs": [
        {
          "output_type": "stream",
          "name": "stdout",
          "text": [
            "sai\n"
          ]
        }
      ]
    },
    {
      "cell_type": "code",
      "source": [
        "# duplicates\n",
        "x=(\"sai\",\"krishna\",\"praneeth\",\"sai\",\"praneeth\")\n",
        "print(x)"
      ],
      "metadata": {
        "colab": {
          "base_uri": "https://localhost:8080/"
        },
        "id": "SL_08sp2auGS",
        "outputId": "e3435cfd-15ca-42e1-b1c6-a2899e29de03"
      },
      "execution_count": null,
      "outputs": [
        {
          "output_type": "stream",
          "name": "stdout",
          "text": [
            "('sai', 'krishna', 'praneeth', 'sai', 'praneeth')\n"
          ]
        }
      ]
    },
    {
      "cell_type": "code",
      "source": [
        "# Tuple Lenght\n",
        "x=tuple((\"sai\",\"krishna\",\"praneeth\"))\n",
        "print(len(x))"
      ],
      "metadata": {
        "colab": {
          "base_uri": "https://localhost:8080/"
        },
        "id": "y2DnodN1bI1L",
        "outputId": "68c536cf-26bc-4042-f124-e3c87cd22932"
      },
      "execution_count": null,
      "outputs": [
        {
          "output_type": "stream",
          "name": "stdout",
          "text": [
            "3\n"
          ]
        }
      ]
    },
    {
      "cell_type": "code",
      "source": [
        "# Create Tuple With One Item\n",
        "x=(type(\"sai\"))\n",
        "print(x)\n",
        "\n",
        "#Not a tuple\n",
        "x=(type(\"sai\"))\n",
        "print(x)"
      ],
      "metadata": {
        "id": "IFRYlqxHbk4C",
        "colab": {
          "base_uri": "https://localhost:8080/"
        },
        "outputId": "99689093-bbd0-4b45-b014-2666634ca636"
      },
      "execution_count": null,
      "outputs": [
        {
          "output_type": "stream",
          "name": "stdout",
          "text": [
            "<class 'str'>\n",
            "<class 'str'>\n"
          ]
        }
      ]
    },
    {
      "cell_type": "code",
      "source": [
        "# Data type\n",
        "x=(\"sai\",\"krishna\",\"praneeth\")\n",
        "y=(1, 7, 9, 0)\n",
        "z=(True,False,True)\n",
        "\n",
        "print(x)\n",
        "print(y)\n",
        "print(z)"
      ],
      "metadata": {
        "colab": {
          "base_uri": "https://localhost:8080/"
        },
        "id": "L-rKyieXxDk0",
        "outputId": "4c983b97-258c-4c50-ac7f-6f8d588f2bfa"
      },
      "execution_count": null,
      "outputs": [
        {
          "output_type": "stream",
          "name": "stdout",
          "text": [
            "('sai', 'krishna', 'praneeth')\n",
            "(1, 7, 9, 0)\n",
            "(True, False, True)\n"
          ]
        }
      ]
    },
    {
      "cell_type": "code",
      "source": [
        "x=(\"sai\",7,True,False,9,\"krishna\")\n",
        "print(type(x))"
      ],
      "metadata": {
        "colab": {
          "base_uri": "https://localhost:8080/"
        },
        "id": "4GYCTxRVyVxL",
        "outputId": "81ca70ef-7505-4b5e-8009-bcd344a583e3"
      },
      "execution_count": null,
      "outputs": [
        {
          "output_type": "stream",
          "name": "stdout",
          "text": [
            "<class 'tuple'>\n"
          ]
        }
      ]
    },
    {
      "cell_type": "code",
      "source": [
        "x=(\"sai\",7,True,False,9,\"krishna\")\n",
        "print(x)"
      ],
      "metadata": {
        "colab": {
          "base_uri": "https://localhost:8080/"
        },
        "id": "3d3ZSxOTy8pM",
        "outputId": "3683a24d-9b78-4fd8-9667-48a9ff7d3e4c"
      },
      "execution_count": null,
      "outputs": [
        {
          "output_type": "stream",
          "name": "stdout",
          "text": [
            "('sai', 7, True, False, 9, 'krishna')\n"
          ]
        }
      ]
    },
    {
      "cell_type": "code",
      "source": [
        "x=tuple((\"sai\",\"krishna\",\"praneeth\"))\n",
        "print(x)"
      ],
      "metadata": {
        "colab": {
          "base_uri": "https://localhost:8080/"
        },
        "id": "RQNEFujRy_oL",
        "outputId": "03d2c8b0-5154-4ccd-bde9-f62e371e063a"
      },
      "execution_count": null,
      "outputs": [
        {
          "output_type": "stream",
          "name": "stdout",
          "text": [
            "('sai', 'krishna', 'praneeth')\n"
          ]
        }
      ]
    },
    {
      "cell_type": "code",
      "source": [
        "x=tuple((\"sai\",7,9,True,False,\"praneeth\"))\n",
        "print(x)"
      ],
      "metadata": {
        "colab": {
          "base_uri": "https://localhost:8080/"
        },
        "id": "JxG9GUJIzejM",
        "outputId": "b8b23c6f-f9d0-4bc3-c8b7-facf5fc4472d"
      },
      "execution_count": null,
      "outputs": [
        {
          "output_type": "stream",
          "name": "stdout",
          "text": [
            "('sai', 7, 9, True, False, 'praneeth')\n"
          ]
        }
      ]
    },
    {
      "cell_type": "code",
      "source": [
        "# Access Tuple Items\n",
        "x=tuple((\"sai\",\"krishna\",\"praneeth\"))\n",
        "print(x[1])"
      ],
      "metadata": {
        "colab": {
          "base_uri": "https://localhost:8080/"
        },
        "id": "2wTPCG1gzn-k",
        "outputId": "d5e640fb-c8de-42c9-cacd-1e4f0d410ff3"
      },
      "execution_count": null,
      "outputs": [
        {
          "output_type": "stream",
          "name": "stdout",
          "text": [
            "krishna\n"
          ]
        }
      ]
    },
    {
      "cell_type": "code",
      "source": [
        "# negative indexing\n",
        "x=tuple((\"sai\",\"krishna\",\"praneeth\"))\n",
        "print(x[-1])"
      ],
      "metadata": {
        "colab": {
          "base_uri": "https://localhost:8080/"
        },
        "id": "S0WvrtBsz69y",
        "outputId": "9e4b52f9-e845-4cb0-de3d-8ed442c112fa"
      },
      "execution_count": null,
      "outputs": [
        {
          "output_type": "stream",
          "name": "stdout",
          "text": [
            "praneeth\n"
          ]
        }
      ]
    },
    {
      "cell_type": "code",
      "source": [
        "#Range of Indexes\n",
        "x=(\"sai\",\"krishna\",\"praneeth\",\"vivek\",\"sheshu\")\n",
        "print(x[1:4])"
      ],
      "metadata": {
        "colab": {
          "base_uri": "https://localhost:8080/"
        },
        "id": "vJ2FAMSs0GcQ",
        "outputId": "bcdca497-974c-4acb-941f-e7b4e89075ef"
      },
      "execution_count": null,
      "outputs": [
        {
          "output_type": "stream",
          "name": "stdout",
          "text": [
            "('krishna', 'praneeth', 'vivek')\n"
          ]
        }
      ]
    },
    {
      "cell_type": "code",
      "source": [
        "x=(\"sai\",\"krishna\",\"praneeth\",\"vivek\",\"sheshu\")\n",
        "print(x[:4])"
      ],
      "metadata": {
        "colab": {
          "base_uri": "https://localhost:8080/"
        },
        "id": "cRHVAACf2Hj8",
        "outputId": "dad10c0f-3ddb-4bcf-b1ac-977b31b0350d"
      },
      "execution_count": null,
      "outputs": [
        {
          "output_type": "stream",
          "name": "stdout",
          "text": [
            "('sai', 'krishna', 'praneeth', 'vivek')\n"
          ]
        }
      ]
    },
    {
      "cell_type": "code",
      "source": [
        "x=(\"sai\",\"krishna\",\"praneeth\",\"vivek\",\"sheshu\")\n",
        "print(x[1:])"
      ],
      "metadata": {
        "colab": {
          "base_uri": "https://localhost:8080/"
        },
        "id": "xqjEPyGb2PkM",
        "outputId": "06bf9248-3a4a-4196-f6e2-f09326406800"
      },
      "execution_count": null,
      "outputs": [
        {
          "output_type": "stream",
          "name": "stdout",
          "text": [
            "('krishna', 'praneeth', 'vivek', 'sheshu')\n"
          ]
        }
      ]
    },
    {
      "cell_type": "code",
      "source": [
        "#Range of Negative Indexes\n",
        "x=(\"sai\",\"krishna\",\"praneeth\",\"vivek\",\"sheshu\")\n",
        "print(x[-4:-1])"
      ],
      "metadata": {
        "colab": {
          "base_uri": "https://localhost:8080/"
        },
        "id": "tZvR1NEG2TLj",
        "outputId": "122e5936-f23f-4f0e-e67f-47bcffce677c"
      },
      "execution_count": null,
      "outputs": [
        {
          "output_type": "stream",
          "name": "stdout",
          "text": [
            "('krishna', 'praneeth', 'vivek')\n"
          ]
        }
      ]
    },
    {
      "cell_type": "code",
      "source": [
        "#Check if Item Exists\n",
        "x=(\"sai\",\"krishna\",\"praneeth\")\n",
        "if \"sai\" in x:\n",
        " print(\"yes,'sai' is in the name tuple\")"
      ],
      "metadata": {
        "colab": {
          "base_uri": "https://localhost:8080/"
        },
        "id": "Y_fnAg962gNe",
        "outputId": "b86bfcd8-aeec-4a8d-9563-1261fca90a33"
      },
      "execution_count": null,
      "outputs": [
        {
          "output_type": "stream",
          "name": "stdout",
          "text": [
            "yes,'sai' is in the name tuple\n"
          ]
        }
      ]
    },
    {
      "cell_type": "code",
      "source": [
        "#Change Tuple Values\n",
        "x=(\"sai\",\"krishna\",\"praneeth\")\n",
        "y=list(x)\n",
        "y[1]=\"vivek\"\n",
        "x=tuple(y)\n",
        "print(x)"
      ],
      "metadata": {
        "colab": {
          "base_uri": "https://localhost:8080/"
        },
        "id": "x6pYzlMb3HTL",
        "outputId": "b0375f6f-bfea-4bdc-b93a-2dbfa07dd0b1"
      },
      "execution_count": null,
      "outputs": [
        {
          "output_type": "stream",
          "name": "stdout",
          "text": [
            "('sai', 'vivek', 'praneeth')\n"
          ]
        }
      ]
    },
    {
      "cell_type": "code",
      "source": [
        "#Add Items\n",
        "x=(\"sai\",\"krishna\",\"praneeth\")\n",
        "y=list(x)\n",
        "y.append(\"vivek\")\n",
        "x=tuple(y)\n",
        "print(x)"
      ],
      "metadata": {
        "colab": {
          "base_uri": "https://localhost:8080/"
        },
        "id": "6OdYP8Ew4V0g",
        "outputId": "220a995d-a56f-40c4-8ab7-73641417d60c"
      },
      "execution_count": null,
      "outputs": [
        {
          "output_type": "stream",
          "name": "stdout",
          "text": [
            "('sai', 'krishna', 'praneeth', 'vivek')\n"
          ]
        }
      ]
    },
    {
      "cell_type": "code",
      "source": [
        "#Add tuple to a tuple\n",
        "x=(\"sai\",\"krishna\",\"praneeth\")\n",
        "y=(\"vivek\",)\n",
        "x+=y\n",
        "print(x)"
      ],
      "metadata": {
        "colab": {
          "base_uri": "https://localhost:8080/"
        },
        "id": "oLfEJCqs5GDz",
        "outputId": "7dbd18e0-c25f-4db1-96f9-17c1371b115c"
      },
      "execution_count": null,
      "outputs": [
        {
          "output_type": "stream",
          "name": "stdout",
          "text": [
            "('sai', 'krishna', 'praneeth', 'vivek')\n"
          ]
        }
      ]
    },
    {
      "cell_type": "code",
      "source": [
        "#Remove Items\n",
        "x=(\"sai\",\"krishna\",\"praneeth\")\n",
        "y=list(x)\n",
        "y.remove(\"sai\")\n",
        "x=tuple(y)\n",
        "print(x)"
      ],
      "metadata": {
        "colab": {
          "base_uri": "https://localhost:8080/"
        },
        "id": "Gr7CRngH5qoz",
        "outputId": "c7498283-7c57-4c29-fc78-1804f76616fe"
      },
      "execution_count": null,
      "outputs": [
        {
          "output_type": "stream",
          "name": "stdout",
          "text": [
            "('krishna', 'praneeth')\n"
          ]
        }
      ]
    },
    {
      "cell_type": "code",
      "source": [
        "#Unpacking a Tuple\n",
        "x=(\"sai\",\"krishna\",\"praneeth\")\n",
        "(goodboy,handsome,wastefellow)=x\n",
        "print(goodboy)\n",
        "print(handsome)\n",
        "print(wastefellow)\n"
      ],
      "metadata": {
        "colab": {
          "base_uri": "https://localhost:8080/"
        },
        "id": "P5dXJPRU54fD",
        "outputId": "db21e49f-56c7-47c0-cb0e-67cb1f17eb7a"
      },
      "execution_count": null,
      "outputs": [
        {
          "output_type": "stream",
          "name": "stdout",
          "text": [
            "sai\n",
            "krishna\n",
            "praneeth\n"
          ]
        }
      ]
    },
    {
      "cell_type": "code",
      "source": [
        "#Using Asterisk*\n",
        "x=(\"sai\",\"krishna\",\"praneeth\",\"vivek\",\"sheshu\")\n",
        "(goodboy,handsome,*wastefellow)=x\n",
        "print(goodboy)\n",
        "print(handsome)\n",
        "print(wastefellow)"
      ],
      "metadata": {
        "colab": {
          "base_uri": "https://localhost:8080/"
        },
        "id": "WP8dZpiD6zZc",
        "outputId": "798999e8-1723-46c6-d579-b9874ec71e13"
      },
      "execution_count": null,
      "outputs": [
        {
          "output_type": "stream",
          "name": "stdout",
          "text": [
            "sai\n",
            "krishna\n",
            "['praneeth', 'vivek', 'sheshu']\n"
          ]
        }
      ]
    },
    {
      "cell_type": "code",
      "source": [
        "x=(\"sai\",\"praneeth\",\"vivek\",\"sheshu\",\"krishna\")\n",
        "(goodboy,*wastefellow,handsome)=x\n",
        "print(goodboy)\n",
        "print(wastefellow)\n",
        "print(handsome)"
      ],
      "metadata": {
        "colab": {
          "base_uri": "https://localhost:8080/"
        },
        "id": "R8GnOS3U7I5z",
        "outputId": "a023148d-4ecb-482b-adc8-2fd0e5af9647"
      },
      "execution_count": null,
      "outputs": [
        {
          "output_type": "stream",
          "name": "stdout",
          "text": [
            "sai\n",
            "['praneeth', 'vivek', 'sheshu']\n",
            "krishna\n"
          ]
        }
      ]
    },
    {
      "cell_type": "code",
      "source": [
        "#Loop Through a Tuple\n",
        "y=(\"sai\",\"krishna\",\"praneeth\")\n",
        "for x in y:\n",
        "  print(x)\n"
      ],
      "metadata": {
        "colab": {
          "base_uri": "https://localhost:8080/"
        },
        "id": "23i5R0lr7jT8",
        "outputId": "35cf8b1b-6647-4c3e-939e-3e8b6d40a420"
      },
      "execution_count": null,
      "outputs": [
        {
          "output_type": "stream",
          "name": "stdout",
          "text": [
            "sai\n",
            "krishna\n",
            "praneeth\n"
          ]
        }
      ]
    },
    {
      "cell_type": "code",
      "source": [
        "#Loop Through a Tuple\n",
        "y=(\"sai\",\"krishna\",\"praneeth\")\n",
        "for y in y:\n",
        "  print(y)\n"
      ],
      "metadata": {
        "colab": {
          "base_uri": "https://localhost:8080/"
        },
        "id": "Jn5E-B6L9WZs",
        "outputId": "7e690dac-5f62-4da2-ae9f-5c8dfbecf850"
      },
      "execution_count": null,
      "outputs": [
        {
          "output_type": "stream",
          "name": "stdout",
          "text": [
            "sai\n",
            "krishna\n",
            "praneeth\n"
          ]
        }
      ]
    },
    {
      "cell_type": "code",
      "source": [
        "#Loop Through a Tuple\n",
        "y=(\"sai\",\"krishna\",\"praneeth\")\n",
        "for z in y:\n",
        "  print(x)\n"
      ],
      "metadata": {
        "colab": {
          "base_uri": "https://localhost:8080/"
        },
        "id": "dp-DYhas9gpr",
        "outputId": "79244542-4c75-44aa-f3ed-eccd492e175a"
      },
      "execution_count": null,
      "outputs": [
        {
          "output_type": "stream",
          "name": "stdout",
          "text": [
            "praneeth\n",
            "praneeth\n",
            "praneeth\n"
          ]
        }
      ]
    },
    {
      "cell_type": "code",
      "source": [
        "#Loop Through the Index Numbers\n",
        "x=(\"sai\",\"krishna\",\"praneeth\")\n",
        "for i in range(len(x)):\n",
        "  print(x[i])"
      ],
      "metadata": {
        "colab": {
          "base_uri": "https://localhost:8080/"
        },
        "id": "2Xss1f95-RFM",
        "outputId": "aae53628-38b1-4543-aa12-612f6e6c3bf5"
      },
      "execution_count": null,
      "outputs": [
        {
          "output_type": "stream",
          "name": "stdout",
          "text": [
            "sai\n",
            "krishna\n",
            "praneeth\n"
          ]
        }
      ]
    },
    {
      "cell_type": "code",
      "source": [
        "#Using a While Loop\n",
        "x=(\"sai\",\"krishna\",\"praneeth\")\n",
        "i = 0\n",
        "while i < len(x):\n",
        "  print(x[i])\n",
        "  i = i + 1\n"
      ],
      "metadata": {
        "colab": {
          "base_uri": "https://localhost:8080/"
        },
        "id": "b-QMEOfV-g6r",
        "outputId": "66b2eb95-d0ed-40e6-aed0-44fd8d62e37d"
      },
      "execution_count": null,
      "outputs": [
        {
          "output_type": "stream",
          "name": "stdout",
          "text": [
            "sai\n",
            "krishna\n",
            "praneeth\n"
          ]
        }
      ]
    }
  ]
}