{
  "nbformat": 4,
  "nbformat_minor": 0,
  "metadata": {
    "colab": {
      "name": "PYTHON EXERCISE 1.ipynb",
      "provenance": [],
      "authorship_tag": "ABX9TyMgtJ+2GX8/wwhUq3kVszJJ",
      "include_colab_link": true
    },
    "kernelspec": {
      "name": "python3",
      "display_name": "Python 3"
    },
    "language_info": {
      "name": "python"
    }
  },
  "cells": [
    {
      "cell_type": "markdown",
      "metadata": {
        "id": "view-in-github",
        "colab_type": "text"
      },
      "source": [
        "<a href=\"https://colab.research.google.com/github/saikirsh/python-new/blob/module-1/PYTHON_EXERCISE_1.ipynb\" target=\"_parent\"><img src=\"https://colab.research.google.com/assets/colab-badge.svg\" alt=\"Open In Colab\"/></a>"
      ]
    },
    {
      "cell_type": "code",
      "execution_count": null,
      "metadata": {
        "colab": {
          "base_uri": "https://localhost:8080/"
        },
        "id": "2sAkGmnXStVH",
        "outputId": "62af1352-cfce-400d-db6a-50c0d0099a88"
      },
      "outputs": [
        {
          "output_type": "stream",
          "name": "stdout",
          "text": [
            "enter the value of 1st triangle 10\n",
            "enter the value of 2nd triangle 10\n",
            "enter the value of 3rd triangle 10\n",
            "Equilateral triangle\n"
          ]
        }
      ],
      "source": [
        "# checking  whether the triangle is equilateral, isosceles or scalene triangle\n",
        "a=input(\"enter the value of 1st triangle\")\n",
        "b=input(\"enter the value of 2nd triangle\")\n",
        "c=input(\"enter the value of 3rd triangle\")\n",
        "if a==b==c:\n",
        "     print(\"Equilateral triangle\")\n",
        "elif a==b or b==c or c==a:\n",
        "      print(\"isosceles triangle\")\n",
        "else:\n",
        "    print(\"Scalene triangle\")"
      ]
    },
    {
      "cell_type": "code",
      "source": [
        "# checking whether entered year is leap or not\n",
        "\n",
        "a=int(input(\"Enter year:\"))\n",
        "if (a%4==0):\n",
        "   \n",
        "    print(\"leap year\")\n",
        "else:\n",
        "    print(\"not leap year\")\n",
        "\n",
        " "
      ],
      "metadata": {
        "colab": {
          "base_uri": "https://localhost:8080/"
        },
        "id": "DMD41ZECTS7z",
        "outputId": "7f83151e-be39-4a5b-8874-75a23b02fdf8"
      },
      "execution_count": null,
      "outputs": [
        {
          "output_type": "stream",
          "name": "stdout",
          "text": [
            "Enter year: 2022\n",
            "not leap year\n"
          ]
        }
      ]
    },
    {
      "cell_type": "code",
      "source": [
        "# find minimum among the numers\n",
        "a=input(\"enter the value of 1st number\")\n",
        "b=input(\"enter the value of 2nd number\")\n",
        "c=input(\"enter the value of 3rd number\")\n",
        "if a<b and a<c:\n",
        "     print(\"1st number is minimum\")\n",
        "elif a==b or b==c or c==a:\n",
        "      print(\"2nd number is minimum\")\n",
        "else:\n",
        "    print(\"3rd number is minimum\")"
      ],
      "metadata": {
        "colab": {
          "base_uri": "https://localhost:8080/"
        },
        "id": "JwHcqkNiVV_L",
        "outputId": "94fc3490-c3e3-4603-9ebb-e6a37480e6c1"
      },
      "execution_count": null,
      "outputs": [
        {
          "output_type": "stream",
          "name": "stdout",
          "text": [
            "enter the value of 1st number 2\n",
            "enter the value of 2nd number 3\n",
            "enter the value of 3rd number 5\n",
            "1st number is minimum\n"
          ]
        }
      ]
    },
    {
      "cell_type": "code",
      "source": [
        "# check whether a number is positive or negative or zero  \n",
        "num = float(input(\"Enter a number: \"))\n",
        "if num > 0:\n",
        "   print(\"Positive number\")\n",
        "elif num == 0:\n",
        "   print(\"Zero\")\n",
        "else:\n",
        "   print(\"Negative number\") "
      ],
      "metadata": {
        "colab": {
          "base_uri": "https://localhost:8080/"
        },
        "id": "Or7lui8tW61z",
        "outputId": "b83ae258-7f5f-40f3-a493-8fe1ded6b536"
      },
      "execution_count": null,
      "outputs": [
        {
          "output_type": "stream",
          "name": "stdout",
          "text": [
            "Enter a number:  5\n",
            "Positive number\n"
          ]
        }
      ]
    }
  ]
}