{
  "nbformat": 4,
  "nbformat_minor": 0,
  "metadata": {
    "colab": {
      "name": "Assignment",
      "provenance": [],
      "authorship_tag": "ABX9TyO3l3Ig5C6RZfzoAG/xmqNT",
      "include_colab_link": true
    },
    "kernelspec": {
      "name": "python3",
      "display_name": "Python 3"
    },
    "language_info": {
      "name": "python"
    }
  },
  "cells": [
    {
      "cell_type": "markdown",
      "metadata": {
        "id": "view-in-github",
        "colab_type": "text"
      },
      "source": [
        "<a href=\"https://colab.research.google.com/github/saikirsh/python-new/blob/module-2/Assignment.ipynb\" target=\"_parent\"><img src=\"https://colab.research.google.com/assets/colab-badge.svg\" alt=\"Open In Colab\"/></a>"
      ]
    },
    {
      "cell_type": "markdown",
      "source": [
        "1)write a python program to find power of number with recursion and without recursion(input n=2 , p=3)"
      ],
      "metadata": {
        "id": "ov_ElEzRk5DN"
      }
    },
    {
      "cell_type": "code",
      "source": [
        "def power(N,P):\n",
        "\tif P==0:\n",
        "\t\treturn 1\n",
        "\telif N==0:\n",
        "\t\treturn 0\n",
        "\telif P==1:\n",
        "\t\treturn N\n",
        "\telse:\n",
        "\t\treturn N*power(N,P-1)\n",
        "print(power(2,3))"
      ],
      "metadata": {
        "colab": {
          "base_uri": "https://localhost:8080/"
        },
        "id": "fMLPuM8ClvUM",
        "outputId": "b6333ca8-552f-4b07-cdc3-11a4824f1f43"
      },
      "execution_count": null,
      "outputs": [
        {
          "output_type": "stream",
          "name": "stdout",
          "text": [
            "8\n"
          ]
        }
      ]
    },
    {
      "cell_type": "code",
      "source": [
        "def power(n,p):\n",
        "    if(p==1):\n",
        "        return(n)\n",
        "    elif(p==0):\n",
        "        return(1)   \n",
        "    elif(p!=1):\n",
        "        return(n*power(n,p-1))\n",
        "n=int(input(\"Enter  value n : \"))\n",
        "p=int(input(\"Enter value p : \"))\n",
        "print(\"Result:\",power(n,p))"
      ],
      "metadata": {
        "colab": {
          "base_uri": "https://localhost:8080/"
        },
        "id": "eba_LB-Rno_F",
        "outputId": "7e45fb4d-4600-44bc-cbe9-df7c78bd1d59"
      },
      "execution_count": null,
      "outputs": [
        {
          "output_type": "stream",
          "name": "stdout",
          "text": [
            "Enter  value n : 2\n",
            "Enter value p : 3\n",
            "Result: 8\n"
          ]
        }
      ]
    },
    {
      "cell_type": "markdown",
      "source": [
        "2)write a program to sort tuple by total digits (input: list=[(3,4,6,723),(1,2),(134,234,34)])\n",
        "      output:[(1,2)(3,4,6,723)(34,134,234)]"
      ],
      "metadata": {
        "id": "lMMZOFfcmsj8"
      }
    },
    {
      "cell_type": "code",
      "source": [
        "a=eval(input(\"enter list of tuple=\"))\n",
        "for i in range(0,len(a)):\n",
        "  a[i]=sorted(a[i])\n",
        "print(sorted(a))"
      ],
      "metadata": {
        "colab": {
          "base_uri": "https://localhost:8080/"
        },
        "id": "5RzS9MH2mwsE",
        "outputId": "bdf93d62-ab48-45c7-b2b1-562d6e62b123"
      },
      "execution_count": null,
      "outputs": [
        {
          "output_type": "stream",
          "name": "stdout",
          "text": [
            "enter list of tuple=[(3,4,6,723),(1,2),(134,234,34)]\n",
            "[[1, 2], [3, 4, 6, 723], [34, 134, 234]]\n"
          ]
        }
      ]
    },
    {
      "cell_type": "markdown",
      "source": [
        "3)Take five subjects from the user and display the grade of the student,if average is 90-100(o),80-89(a+),70-79(a)..."
      ],
      "metadata": {
        "id": "-1N7x-niqB8s"
      }
    },
    {
      "cell_type": "code",
      "source": [
        "a=int(input(\"marks of 1st subject:\"))\n",
        "b=int(input(\"marks of 2nd subject:\"))\n",
        "c=int(input(\"marks of 3rd subject:\"))\n",
        "d=int(input(\"marks of 4th subject:\"))\n",
        "e=int(input(\"11marks of 5th subject:\"))\n",
        "avg=(a+b+c+d+e)/5;\n",
        "if avg>=90:\n",
        "  print(\"O grade\")\n",
        "elif avg>=80 and avg<89:\n",
        "  print(\"A+ grade\")\n",
        "elif avg>=70 and avg<79:\n",
        "  print(\"A grade\")\n",
        "else:\n",
        "  print(\"Fail\")"
      ],
      "metadata": {
        "colab": {
          "base_uri": "https://localhost:8080/"
        },
        "id": "MYcDYFhrwrGs",
        "outputId": "4d2149df-90f4-4dcc-f081-4ec921326832"
      },
      "execution_count": null,
      "outputs": [
        {
          "output_type": "stream",
          "name": "stdout",
          "text": [
            "marks of 1st subject:90\n",
            "marks of 2nd subject:85\n",
            "marks of 3rd subject:93\n",
            "marks of 4th subject:77\n",
            "11marks of 5th subject:77\n",
            "A+ grade\n"
          ]
        }
      ]
    },
    {
      "cell_type": "markdown",
      "source": [
        "4)write a python program that prints 1 if all three given numbers are ascending order."
      ],
      "metadata": {
        "id": "O8t-JX77xD2E"
      }
    },
    {
      "cell_type": "code",
      "source": [
        "a,b,c=map(int,input().split())\n",
        "if b!=a+1 or c!=b+1:\n",
        " print(0)\n",
        "elif b==a+1 and c==b+1:\n",
        " print(1)"
      ],
      "metadata": {
        "colab": {
          "base_uri": "https://localhost:8080/"
        },
        "id": "c9VkuNbP106e",
        "outputId": "45772028-db88-4a4c-d67b-a4a72603f7da"
      },
      "execution_count": null,
      "outputs": [
        {
          "output_type": "stream",
          "name": "stdout",
          "text": [
            "4 5 6\n",
            "1\n"
          ]
        }
      ]
    },
    {
      "cell_type": "markdown",
      "source": [
        "5)check a given number is perfect number are not"
      ],
      "metadata": {
        "id": "3QAZh2idzxmt"
      }
    },
    {
      "cell_type": "code",
      "source": [
        "n = int(input(\"Enter any number: \"))\n",
        "sum1 = 0\n",
        "for i in range(1, n):\n",
        "    if(n % i == 0):\n",
        "        sum1 = sum1 + i\n",
        "if (sum1 == n):\n",
        "    print(\"The number is a Perfect number!\")\n",
        "else:\n",
        "    print(\"The number is not a Perfect number!\")"
      ],
      "metadata": {
        "colab": {
          "base_uri": "https://localhost:8080/"
        },
        "id": "6yJVxrA2z36b",
        "outputId": "0e99eb91-31a4-49fc-ee16-327ec5375fbf"
      },
      "execution_count": null,
      "outputs": [
        {
          "output_type": "stream",
          "name": "stdout",
          "text": [
            "Enter any number: 226\n",
            "The number is not a Perfect number!\n"
          ]
        }
      ]
    },
    {
      "cell_type": "markdown",
      "source": [
        "6)check a given string is a pallindrome or not"
      ],
      "metadata": {
        "id": "0Mw5JMUg1Qgd"
      }
    },
    {
      "cell_type": "code",
      "source": [
        "def isPalindrome(s):\n",
        "    return s == s[::-1]\n",
        "s = \"malayalam\"\n",
        "ans = isPalindrome(s)\n",
        " \n",
        "if ans:\n",
        "    print(\"Yes\")\n",
        "else:\n",
        "    print(\"No\")"
      ],
      "metadata": {
        "colab": {
          "base_uri": "https://localhost:8080/"
        },
        "id": "xayNk2rU1Usk",
        "outputId": "dd7a86c7-f5fa-4d17-c8b8-e905e7d9dbd0"
      },
      "execution_count": null,
      "outputs": [
        {
          "output_type": "stream",
          "name": "stdout",
          "text": [
            "Yes\n"
          ]
        }
      ]
    },
    {
      "cell_type": "code",
      "source": [
        "string=input((\"Enter a string:\"))\n",
        "if(string==string[::-1]):\n",
        "      print(\"The string is a palindrome\")\n",
        "else:\n",
        "      print(\"Not a palindrome\")"
      ],
      "metadata": {
        "colab": {
          "base_uri": "https://localhost:8080/"
        },
        "id": "TPGVPGbo3D60",
        "outputId": "eaf0556f-8873-490f-a943-2ca6d427b5ab"
      },
      "execution_count": null,
      "outputs": [
        {
          "output_type": "stream",
          "name": "stdout",
          "text": [
            "Enter a string: india\n",
            "Not a palindrome\n"
          ]
        }
      ]
    },
    {
      "cell_type": "markdown",
      "source": [
        "7)find the gcd of two numbers with and without recursion(5,3=1)\n"
      ],
      "metadata": {
        "id": "wP-jB2Zn3Nhk"
      }
    },
    {
      "cell_type": "code",
      "source": [
        "import math\n",
        "print(\"The gcd of 5 and 3 is : \", end=\"1\")\n",
        "print(math.gcd(5, 3))"
      ],
      "metadata": {
        "colab": {
          "base_uri": "https://localhost:8080/"
        },
        "id": "CSbOCa-U3ZHt",
        "outputId": "df5b9deb-a594-4226-bb7e-a1bb1bd60d55"
      },
      "execution_count": null,
      "outputs": [
        {
          "output_type": "stream",
          "name": "stdout",
          "text": [
            "The gcd of 5 and 3 is : 11\n"
          ]
        }
      ]
    },
    {
      "cell_type": "markdown",
      "source": [
        "8)print sum of even digits in a given number\n"
      ],
      "metadata": {
        "id": "YtzenepC4AuE"
      }
    },
    {
      "cell_type": "code",
      "source": [
        "sum=0\n",
        "for i in range(15):\n",
        "  if i%2==0:\n",
        "    sum=sum+i\n",
        "print(\"sum =\",sum)"
      ],
      "metadata": {
        "colab": {
          "base_uri": "https://localhost:8080/"
        },
        "id": "4W-wIxU_48zm",
        "outputId": "062f6b09-61f6-4618-f62c-3a1abed3cb3b"
      },
      "execution_count": null,
      "outputs": [
        {
          "output_type": "stream",
          "name": "stdout",
          "text": [
            "sum = 56\n"
          ]
        }
      ]
    },
    {
      "cell_type": "markdown",
      "source": [
        "9)calculate the product of digits of a number"
      ],
      "metadata": {
        "id": "4_Yx9vpU6OWF"
      }
    },
    {
      "cell_type": "code",
      "source": [
        "def getProduct(x):\n",
        "    product = 1\n",
        "    while (x != 0):\n",
        "        product = product * (x % 10)\n",
        "        x = x // 10\n",
        "    return product\n",
        "x = 456\n",
        "print(getProduct(x))"
      ],
      "metadata": {
        "id": "JATcVaQf6SeN",
        "colab": {
          "base_uri": "https://localhost:8080/"
        },
        "outputId": "93bacb9d-9241-40d9-c00e-688bece46d12"
      },
      "execution_count": null,
      "outputs": [
        {
          "output_type": "stream",
          "name": "stdout",
          "text": [
            "120\n"
          ]
        }
      ]
    },
    {
      "cell_type": "markdown",
      "source": [
        "10)write a program to calculate the sum of squares given by user(123=14)"
      ],
      "metadata": {
        "id": "5gGE0tq5chMV"
      }
    },
    {
      "cell_type": "code",
      "source": [
        "def squaresum(x):\n",
        "    return (n * (n + 1) / 2) * (2 * n + 1) / 3\n",
        "x = 14\n",
        "print(squaresum(x))\n"
      ],
      "metadata": {
        "colab": {
          "base_uri": "https://localhost:8080/"
        },
        "id": "DFKr0vCQdzGl",
        "outputId": "4d2b82b4-0358-47b3-f19c-e404774df3cc"
      },
      "execution_count": null,
      "outputs": [
        {
          "output_type": "stream",
          "name": "stdout",
          "text": [
            "1015.0\n"
          ]
        }
      ]
    },
    {
      "cell_type": "markdown",
      "source": [
        "11.given a string is s= abcdefcba how many times ith character from the front equals last ith element\n",
        "            print(countfrontbackmatches('abcdefcba'))"
      ],
      "metadata": {
        "id": "RjrpUfz5eXhI"
      }
    },
    {
      "cell_type": "markdown",
      "source": [
        "12)given an integer n, return a list containing 1223334444.. and finaly n repeated n times(n>0)\n",
        "          print(repeatnumtimes(4))"
      ],
      "metadata": {
        "id": "xOOOVGh6f0IX"
      }
    }
  ]
}