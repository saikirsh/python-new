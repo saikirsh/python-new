{
  "nbformat": 4,
  "nbformat_minor": 0,
  "metadata": {
    "colab": {
      "name": "list.ipynb",
      "provenance": [],
      "collapsed_sections": [],
      "authorship_tag": "ABX9TyP6ZVOUkhfF4f8vKFH5esyA",
      "include_colab_link": true
    },
    "kernelspec": {
      "name": "python3",
      "display_name": "Python 3"
    },
    "language_info": {
      "name": "python"
    }
  },
  "cells": [
    {
      "cell_type": "markdown",
      "metadata": {
        "id": "view-in-github",
        "colab_type": "text"
      },
      "source": [
        "<a href=\"https://colab.research.google.com/github/saikirsh/python-new/blob/module-2/list.ipynb\" target=\"_parent\"><img src=\"https://colab.research.google.com/assets/colab-badge.svg\" alt=\"Open In Colab\"/></a>"
      ]
    },
    {
      "cell_type": "code",
      "execution_count": null,
      "metadata": {
        "colab": {
          "base_uri": "https://localhost:8080/"
        },
        "id": "cprQcTZTVxl9",
        "outputId": "9a80cb9b-1468-48ea-9757-04e01847c9df"
      },
      "outputs": [
        {
          "output_type": "stream",
          "name": "stdout",
          "text": [
            "['Apple', 'Guava', 'mango', 'pineapple', 'Orange']\n"
          ]
        }
      ],
      "source": [
        "# List\n",
        "fruit =[\"Apple\",\"Guava\",\"mango\",\"pineapple\",\"Orange\"]\n",
        "\n",
        "print (fruit)"
      ]
    },
    {
      "cell_type": "code",
      "source": [
        "fruit =[\"Apple\",\"Guava\",\"mango\",\"pineapple\",\"Orange\"]\n",
        "\n",
        "print (fruit[0])"
      ],
      "metadata": {
        "colab": {
          "base_uri": "https://localhost:8080/"
        },
        "id": "D0WW4vDZXD-I",
        "outputId": "e69946c9-8130-469a-82e3-cc86ca6d6bb8"
      },
      "execution_count": null,
      "outputs": [
        {
          "output_type": "stream",
          "name": "stdout",
          "text": [
            "Apple\n"
          ]
        }
      ]
    },
    {
      "cell_type": "code",
      "source": [
        "fruit =[\"Apple\",\"Guava\",\"mango\",\"pineapple\",\"Orange\"]\n",
        "\n",
        "print (fruit[1])"
      ],
      "metadata": {
        "colab": {
          "base_uri": "https://localhost:8080/"
        },
        "id": "qkI_xkWOXdAx",
        "outputId": "aec3de4d-0ec5-4de0-c554-a7c25b83897c"
      },
      "execution_count": null,
      "outputs": [
        {
          "output_type": "stream",
          "name": "stdout",
          "text": [
            "Guava\n"
          ]
        }
      ]
    },
    {
      "cell_type": "code",
      "source": [
        "fruit =[\"Apple\",\"Guava\",\"mango\",\"pineapple\",\"Orange\"]\n",
        "\n",
        "print (fruit[2])"
      ],
      "metadata": {
        "colab": {
          "base_uri": "https://localhost:8080/"
        },
        "id": "SoeZefgZXok_",
        "outputId": "ee1d9a26-a42e-4013-b960-c2fa9e1d6ec5"
      },
      "execution_count": null,
      "outputs": [
        {
          "output_type": "stream",
          "name": "stdout",
          "text": [
            "mango\n"
          ]
        }
      ]
    },
    {
      "cell_type": "code",
      "source": [
        "fruit =[\"Apple\",\"Guava\",\"mango\",\"pineapple\",\"Orange\"]\n",
        "\n",
        "print (fruit[-1])"
      ],
      "metadata": {
        "colab": {
          "base_uri": "https://localhost:8080/"
        },
        "id": "3fv7BnmrXs0e",
        "outputId": "cc1006a0-62ba-44c5-854b-fbc0f5cd5c9a"
      },
      "execution_count": null,
      "outputs": [
        {
          "output_type": "stream",
          "name": "stdout",
          "text": [
            "Orange\n"
          ]
        }
      ]
    },
    {
      "cell_type": "code",
      "source": [
        "fruit =[\"Apple\",\"Guava\",\"mango\",\"pineapple\",\"Orange\"]\n",
        "\n",
        "print (fruit[-2])"
      ],
      "metadata": {
        "colab": {
          "base_uri": "https://localhost:8080/"
        },
        "id": "WtQMofDuXxPP",
        "outputId": "54dbe189-d761-4a4b-dd44-f6462310e6b6"
      },
      "execution_count": null,
      "outputs": [
        {
          "output_type": "stream",
          "name": "stdout",
          "text": [
            "pineapple\n"
          ]
        }
      ]
    },
    {
      "cell_type": "code",
      "source": [
        "fruit =[\"Apple\",\"Guava\",\"mango\",\"pineapple\",\"Orange\"]\n",
        "\n",
        "print (fruit)\n",
        "print (fruit[0])\n",
        "print (fruit[1])\n",
        "print (fruit[-1])"
      ],
      "metadata": {
        "colab": {
          "base_uri": "https://localhost:8080/"
        },
        "id": "qWsoTQ6wZlhG",
        "outputId": "96d8e095-87f0-4003-8af8-d5294718c654"
      },
      "execution_count": null,
      "outputs": [
        {
          "output_type": "stream",
          "name": "stdout",
          "text": [
            "['Apple', 'Guava', 'mango', 'pineapple', 'Orange']\n",
            "Apple\n",
            "Guava\n",
            "Orange\n"
          ]
        }
      ]
    },
    {
      "cell_type": "code",
      "source": [
        "fruit =[\"Apple\",\"Guava\",\"mango\",\"pineapple\",\"Orange\"]\n",
        "\n",
        "print (fruit)\n",
        "print (fruit[0:2])\n",
        "print (fruit[:2])\n",
        "print (fruit[1:2])"
      ],
      "metadata": {
        "colab": {
          "base_uri": "https://localhost:8080/"
        },
        "id": "65iKa8BkX91w",
        "outputId": "c67a0e5d-8536-47dd-c795-5167204e520f"
      },
      "execution_count": null,
      "outputs": [
        {
          "output_type": "stream",
          "name": "stdout",
          "text": [
            "['Apple', 'Guava', 'mango', 'pineapple', 'Orange']\n",
            "['Apple', 'Guava']\n",
            "['Apple', 'Guava']\n",
            "['Guava']\n"
          ]
        }
      ]
    },
    {
      "cell_type": "code",
      "source": [
        "fruit =[\"Apple\",\"Guava\",\"mango\",\"pineapple\",\"Orange\"]\n",
        "\n",
        "print (fruit)\n",
        "print (fruit[0:2])\n",
        "print (fruit[:2])\n",
        "print (fruit[1:2])\n",
        "print (fruit[1:])"
      ],
      "metadata": {
        "colab": {
          "base_uri": "https://localhost:8080/"
        },
        "id": "Q6d0gWC0ZbtB",
        "outputId": "85336147-740a-436e-fb91-f7b26d3755bf"
      },
      "execution_count": null,
      "outputs": [
        {
          "output_type": "stream",
          "name": "stdout",
          "text": [
            "['Apple', 'Guava', 'mango', 'pineapple', 'Orange']\n",
            "['Apple', 'Guava']\n",
            "['Apple', 'Guava']\n",
            "['Guava']\n",
            "['Guava', 'mango', 'pineapple', 'Orange']\n"
          ]
        }
      ]
    },
    {
      "cell_type": "code",
      "source": [
        "fruit =[\"Apple\",\"Guava\",\"mango\",\"pineapple\",\"Orange\"]\n",
        "\n",
        "print (fruit[-1])\n",
        "print (fruit[0::3])\n",
        "print (fruit[1::4])\n",
        "print (fruit[1:4])"
      ],
      "metadata": {
        "colab": {
          "base_uri": "https://localhost:8080/"
        },
        "id": "PE45yHkoZjug",
        "outputId": "6ea9de3f-9e5c-47e4-9da1-9fccb1c27b13"
      },
      "execution_count": null,
      "outputs": [
        {
          "output_type": "stream",
          "name": "stdout",
          "text": [
            "Orange\n",
            "['Apple', 'pineapple']\n",
            "['Guava']\n",
            "['Guava', 'mango', 'pineapple']\n"
          ]
        }
      ]
    },
    {
      "cell_type": "code",
      "source": [
        "#append\n",
        "fruit =[\"Apple\",\"Guava\",\"mango\",\"pineapple\",\"Orange\"]\n",
        "\n",
        "print (fruit)\n",
        "fruit.append(\"muskmelon\")\n",
        "print (fruit)"
      ],
      "metadata": {
        "id": "ZDsQjZXlavgP",
        "colab": {
          "base_uri": "https://localhost:8080/"
        },
        "outputId": "d8e2b7af-2d5f-485e-bcd7-e8d714f740fc"
      },
      "execution_count": null,
      "outputs": [
        {
          "output_type": "stream",
          "name": "stdout",
          "text": [
            "['Apple', 'Guava', 'mango', 'pineapple', 'Orange']\n",
            "['Apple', 'Guava', 'mango', 'pineapple', 'Orange', 'muskmelon']\n"
          ]
        }
      ]
    },
    {
      "cell_type": "code",
      "source": [
        "fruit =[\"Apple\",\"Guava\",\"mango\",\"pineapple\",\"Orange\"]\n",
        "\n",
        "fruit.append(\"muskmelon\")\n",
        "print (fruit)\n",
        "print (fruit[-1])"
      ],
      "metadata": {
        "colab": {
          "base_uri": "https://localhost:8080/"
        },
        "id": "yTspyWaQdcFg",
        "outputId": "9da2c05a-adf5-4ec6-e129-39bb5eacd7f2"
      },
      "execution_count": null,
      "outputs": [
        {
          "output_type": "stream",
          "name": "stdout",
          "text": [
            "['Apple', 'Guava', 'mango', 'pineapple', 'Orange', 'muskmelon']\n",
            "muskmelon\n"
          ]
        }
      ]
    },
    {
      "cell_type": "code",
      "source": [
        "#insert\n",
        "fruit =[\"Apple\",\"Guava\",\"mango\",\"pineapple\",\"Orange\"]\n",
        "\n",
        "print (fruit)\n",
        "fruit.insert(2,\"muskmelon\")\n",
        "print (fruit)"
      ],
      "metadata": {
        "colab": {
          "base_uri": "https://localhost:8080/"
        },
        "id": "ZGc-hrs7erG7",
        "outputId": "0adb9554-9b80-4114-bafb-c779c1a785d1"
      },
      "execution_count": null,
      "outputs": [
        {
          "output_type": "stream",
          "name": "stdout",
          "text": [
            "['Apple', 'Guava', 'mango', 'pineapple', 'Orange']\n",
            "['Apple', 'Guava', 'muskmelon', 'mango', 'pineapple', 'Orange']\n"
          ]
        }
      ]
    },
    {
      "cell_type": "code",
      "source": [
        "fruit =[\"Apple\",\"Guava\",\"mango\",\"pineapple\",\"Orange\"]\n",
        "\n",
        "\n",
        "print (fruit)\n",
        "fruit.insert(3,\"muskmelon\")\n",
        "print (fruit)"
      ],
      "metadata": {
        "colab": {
          "base_uri": "https://localhost:8080/"
        },
        "id": "qF1YVTdjfuIC",
        "outputId": "e51407a0-7873-4359-b5dd-e325a6302697"
      },
      "execution_count": null,
      "outputs": [
        {
          "output_type": "stream",
          "name": "stdout",
          "text": [
            "['Apple', 'Guava', 'mango', 'pineapple', 'Orange']\n",
            "['Apple', 'Guava', 'mango', 'muskmelon', 'pineapple', 'Orange']\n"
          ]
        }
      ]
    },
    {
      "cell_type": "code",
      "source": [
        "#pop\n",
        "fruit =[\"Apple\",\"Guava\",\"mango\",\"pineapple\",\"Orange\"]\n",
        "\n",
        "print (fruit)\n",
        "fruit.pop(2)\n",
        "print (fruit)"
      ],
      "metadata": {
        "colab": {
          "base_uri": "https://localhost:8080/"
        },
        "id": "T7oqD5LBf0Bx",
        "outputId": "7f27fa5b-38bc-4a75-c799-f83b263eb4c8"
      },
      "execution_count": null,
      "outputs": [
        {
          "output_type": "stream",
          "name": "stdout",
          "text": [
            "['Apple', 'Guava', 'mango', 'pineapple', 'Orange']\n",
            "['Apple', 'Guava', 'pineapple', 'Orange']\n"
          ]
        }
      ]
    },
    {
      "cell_type": "code",
      "source": [
        "#clear\n",
        "fruit =[\"Apple\",\"Guava\",\"mango\",\"pineapple\",\"Orange\"]\n",
        "\n",
        "print (fruit)\n",
        "fruit.clear()\n",
        "print (fruit)"
      ],
      "metadata": {
        "colab": {
          "base_uri": "https://localhost:8080/"
        },
        "id": "Tx3PGYMFgDSx",
        "outputId": "b0d6ae8c-f603-49cf-94c7-2277eaecc20b"
      },
      "execution_count": null,
      "outputs": [
        {
          "output_type": "stream",
          "name": "stdout",
          "text": [
            "['Apple', 'Guava', 'mango', 'pineapple', 'Orange']\n",
            "[]\n"
          ]
        }
      ]
    },
    {
      "cell_type": "code",
      "source": [
        "fruit =[\"Apple\",\"Guava\",\"mango\",\"pineapple\",\"Orange\"]\n",
        "\n",
        "print (fruit)\n",
        "fruit.insert(2,\"muskmelon\")\n",
        "print (fruit)"
      ],
      "metadata": {
        "id": "EgFnfMwbgf_R"
      },
      "execution_count": null,
      "outputs": []
    },
    {
      "cell_type": "code",
      "source": [
        "fruit =[\"Apple\",\"Guava\",\"mango\",\"pineapple\",\"Orange\"]\n",
        "\n",
        "print (fruit)\n",
        "fruit.pop(2,)\n",
        "print (fruit)"
      ],
      "metadata": {
        "colab": {
          "base_uri": "https://localhost:8080/"
        },
        "id": "ZTtDZODqgwe7",
        "outputId": "e8100695-9b10-48b5-c45b-5fbf4f211dfa"
      },
      "execution_count": null,
      "outputs": [
        {
          "output_type": "stream",
          "name": "stdout",
          "text": [
            "['Apple', 'Guava', 'mango', 'pineapple', 'Orange']\n",
            "['Apple', 'Guava', 'pineapple', 'Orange']\n"
          ]
        }
      ]
    },
    {
      "cell_type": "code",
      "source": [
        "#clear\n",
        "fruit =[\"Apple\",\"Guava\",\"mango\",\"pineapple\",\"Orange\"]\n",
        "\n",
        "print (fruit)\n",
        "fruit.clear()\n",
        "print (fruit)"
      ],
      "metadata": {
        "colab": {
          "base_uri": "https://localhost:8080/"
        },
        "id": "4vslYCgeg4aS",
        "outputId": "bed5c2bb-eba3-480e-b5bb-ea85dd8e4e28"
      },
      "execution_count": null,
      "outputs": [
        {
          "output_type": "stream",
          "name": "stdout",
          "text": [
            "['Apple', 'Guava', 'mango', 'pineapple', 'Orange']\n",
            "[]\n"
          ]
        }
      ]
    },
    {
      "cell_type": "code",
      "source": [
        "#remove\n",
        "fruit =[\"Apple\",\"Guava\",\"mango\",\"pineapple\",\"Orange\"]\n",
        "\n",
        "print (fruit)\n",
        "fruit.remove(\"mango\")\n",
        "print (fruit)"
      ],
      "metadata": {
        "colab": {
          "base_uri": "https://localhost:8080/"
        },
        "id": "tyYCx9cnhErx",
        "outputId": "31de517c-13aa-4641-e283-601fbdce8f5f"
      },
      "execution_count": null,
      "outputs": [
        {
          "output_type": "stream",
          "name": "stdout",
          "text": [
            "['Apple', 'Guava', 'mango', 'pineapple', 'Orange']\n",
            "['Apple', 'Guava', 'pineapple', 'Orange']\n"
          ]
        }
      ]
    },
    {
      "cell_type": "code",
      "source": [
        "#number sort\n",
        "num=[\"1\",\"5\",\"7\",\"4\",\"3\"]\n",
        "\n",
        "print(num)\n",
        "num.sort()\n",
        "print(num)"
      ],
      "metadata": {
        "colab": {
          "base_uri": "https://localhost:8080/"
        },
        "id": "5RoeznYkh3Py",
        "outputId": "2b7679d5-404c-4c10-d3ce-49bf673ff212"
      },
      "execution_count": null,
      "outputs": [
        {
          "output_type": "stream",
          "name": "stdout",
          "text": [
            "['1', '5', '7', '4', '3']\n",
            "['1', '3', '4', '5', '7']\n"
          ]
        }
      ]
    },
    {
      "cell_type": "code",
      "source": [
        "#number sort\n",
        "num=[\"1\",\"5\",\"7\",\"4\",\"3\"]\n",
        "\n",
        "print(num)\n",
        "num.sort(reverse=True)\n",
        "print(num)"
      ],
      "metadata": {
        "colab": {
          "base_uri": "https://localhost:8080/"
        },
        "id": "vOlPZ2VEicM6",
        "outputId": "33bed4e7-1878-4367-de4e-26f5599b46c0"
      },
      "execution_count": null,
      "outputs": [
        {
          "output_type": "stream",
          "name": "stdout",
          "text": [
            "['1', '5', '7', '4', '3']\n",
            "['7', '5', '4', '3', '1']\n"
          ]
        }
      ]
    },
    {
      "cell_type": "code",
      "source": [
        "#alpha\n",
        "fruit =[\"Apple\",\"Guava\",\"mango\",\"pineapple\",\"Orange\"]\n",
        "\n",
        "print (fruit)\n",
        "fruit.sort()\n",
        "print (fruit)"
      ],
      "metadata": {
        "colab": {
          "base_uri": "https://localhost:8080/"
        },
        "id": "UMvLKI5wjFNy",
        "outputId": "e5eddf49-fbe7-4a62-d34f-1cd264110c12"
      },
      "execution_count": null,
      "outputs": [
        {
          "output_type": "stream",
          "name": "stdout",
          "text": [
            "['Apple', 'Guava', 'mango', 'pineapple', 'Orange']\n",
            "['Apple', 'Guava', 'Orange', 'mango', 'pineapple']\n"
          ]
        }
      ]
    },
    {
      "cell_type": "code",
      "source": [
        "#reverse\n",
        "fruit =[\"Apple\",\"Guava\",\"mango\",\"pineapple\",\"Orange\"]\n",
        "\n",
        "print (fruit)\n",
        "fruit.reverse()\n",
        "print (fruit)"
      ],
      "metadata": {
        "colab": {
          "base_uri": "https://localhost:8080/"
        },
        "id": "kvcQcCQajrlb",
        "outputId": "02b9483c-7edd-470d-a49d-89c7ea089e6a"
      },
      "execution_count": null,
      "outputs": [
        {
          "output_type": "stream",
          "name": "stdout",
          "text": [
            "['Apple', 'Guava', 'mango', 'pineapple', 'Orange']\n",
            "['Orange', 'pineapple', 'mango', 'Guava', 'Apple']\n"
          ]
        }
      ]
    },
    {
      "cell_type": "code",
      "source": [
        "#copy\n",
        "fruit =[\"Apple\",\"Guava\",\"mango\",\"pineapple\",\"Orange\"]\n",
        "\n",
        "print (fruit)\n",
        "fruit.copy()\n",
        "print (fruit)"
      ],
      "metadata": {
        "colab": {
          "base_uri": "https://localhost:8080/"
        },
        "id": "CAchNqEUkMIj",
        "outputId": "247d4ea5-1ff2-4b4c-dec1-d2f49849e568"
      },
      "execution_count": null,
      "outputs": [
        {
          "output_type": "stream",
          "name": "stdout",
          "text": [
            "['Apple', 'Guava', 'mango', 'pineapple', 'Orange']\n",
            "['Apple', 'Guava', 'mango', 'pineapple', 'Orange']\n"
          ]
        }
      ]
    },
    {
      "cell_type": "code",
      "source": [
        "fruit =[\"Apple\",\"Guava\",\"mango\",\"pineapple\",\"Orange\"]\n",
        "\n",
        "fruit[1] = \"blackcurrant\"\n",
        "print(fruit)\n"
      ],
      "metadata": {
        "id": "OmbF_xSAkteL",
        "colab": {
          "base_uri": "https://localhost:8080/"
        },
        "outputId": "09eae494-5613-478f-d96e-3849cab24d10"
      },
      "execution_count": null,
      "outputs": [
        {
          "output_type": "stream",
          "name": "stdout",
          "text": [
            "['Apple', 'blackcurrant', 'mango', 'pineapple', 'Orange']\n"
          ]
        }
      ]
    },
    {
      "cell_type": "code",
      "source": [
        "fruit =[\"Apple\",\"Guava\",\"mango\",\"pineapple\",\"Orange\"]\n",
        "\n",
        "x=fruit.count(\"mango\")\n",
        "print (x)"
      ],
      "metadata": {
        "colab": {
          "base_uri": "https://localhost:8080/"
        },
        "id": "5v6mNvJ_1R88",
        "outputId": "d585aabd-377e-43ee-ebb9-5c15efeee956"
      },
      "execution_count": null,
      "outputs": [
        {
          "output_type": "stream",
          "name": "stdout",
          "text": [
            "1\n"
          ]
        }
      ]
    },
    {
      "cell_type": "code",
      "source": [
        "#Extend\n",
        "fruit =[\"Apple\",\"Guava\",\"mango\",\"pineapple\",\"Orange\"]\n",
        "cars=[\"bmw\",\"ford\",\"volvo\"]\n",
        "\n",
        "fruit.extend(cars)\n",
        "print(fruit)"
      ],
      "metadata": {
        "colab": {
          "base_uri": "https://localhost:8080/"
        },
        "id": "bBnQipCv2jH8",
        "outputId": "4eee8752-603c-44a7-8436-2922e5cbd2f5"
      },
      "execution_count": null,
      "outputs": [
        {
          "output_type": "stream",
          "name": "stdout",
          "text": [
            "['Apple', 'Guava', 'mango', 'pineapple', 'Orange', 'bmw', 'ford', 'volvo']\n"
          ]
        }
      ]
    },
    {
      "cell_type": "code",
      "source": [
        "#Index\n",
        "fruit =[\"Apple\",\"Guava\",\"mango\",\"pineapple\",\"Orange\"]\n",
        "\n",
        "x = fruit.index(\"Apple\")\n",
        "print(x)"
      ],
      "metadata": {
        "colab": {
          "base_uri": "https://localhost:8080/"
        },
        "id": "HAW0xSH73XV_",
        "outputId": "64294d4b-bcac-4efa-b662-9cbaac671563"
      },
      "execution_count": null,
      "outputs": [
        {
          "output_type": "stream",
          "name": "stdout",
          "text": [
            "0\n"
          ]
        }
      ]
    },
    {
      "cell_type": "code",
      "source": [
        "# list lenght\n",
        "fruit =[\"Apple\",\"Guava\",\"mango\",\"pineapple\",\"Orange\"]\n",
        "print(len(fruit))"
      ],
      "metadata": {
        "colab": {
          "base_uri": "https://localhost:8080/"
        },
        "id": "ANatf37C3sMz",
        "outputId": "91cb7ac9-4065-42a8-ace7-05195e43e762"
      },
      "execution_count": null,
      "outputs": [
        {
          "output_type": "stream",
          "name": "stdout",
          "text": [
            "5\n"
          ]
        }
      ]
    },
    {
      "cell_type": "code",
      "source": [
        "# list items\n",
        "fruit = [\"Apple\",\"Guava\",\"mango\",\"pineapple\",\"Orange\"]\n",
        "num = [1, 5, 7, 9, 3]\n",
        "list = [True, False, False]\n",
        "\n",
        "print(fruit)\n",
        "print(num)\n",
        "print(list)"
      ],
      "metadata": {
        "id": "qYic4nEv4ENq",
        "colab": {
          "base_uri": "https://localhost:8080/"
        },
        "outputId": "2a37b0cc-6afb-4024-d1d4-0dec36fa94f5"
      },
      "execution_count": null,
      "outputs": [
        {
          "output_type": "stream",
          "name": "stdout",
          "text": [
            "['Apple', 'Guava', 'mango', 'pineapple', 'Orange']\n",
            "[1, 5, 7, 9, 3]\n",
            "[True, False, False]\n"
          ]
        }
      ]
    },
    {
      "cell_type": "code",
      "source": [
        "list = [\"abc\", 34, True, 43, \"cba\"]\n",
        "\n",
        "print(list)\n"
      ],
      "metadata": {
        "colab": {
          "base_uri": "https://localhost:8080/"
        },
        "id": "aLobf0_Q44zx",
        "outputId": "7c76207f-5929-418e-a698-6fcbb4e4cf25"
      },
      "execution_count": null,
      "outputs": [
        {
          "output_type": "stream",
          "name": "stdout",
          "text": [
            "['abc', 34, True, 43, 'cba']\n"
          ]
        }
      ]
    },
    {
      "cell_type": "code",
      "source": [
        "fruit =[\"Apple\",\"Guava\",\"mango\",\"pineapple\",\"Orange\"]\n",
        "\n",
        "print(type(fruit))"
      ],
      "metadata": {
        "colab": {
          "base_uri": "https://localhost:8080/"
        },
        "id": "4k4s2D1L5I8s",
        "outputId": "5962662a-de7e-4152-a61b-2bf9919563de"
      },
      "execution_count": null,
      "outputs": [
        {
          "output_type": "stream",
          "name": "stdout",
          "text": [
            "<class 'list'>\n"
          ]
        }
      ]
    }
  ]
}