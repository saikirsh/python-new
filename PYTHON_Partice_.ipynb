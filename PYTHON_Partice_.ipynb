{
  "cells": [
    {
      "cell_type": "markdown",
      "metadata": {
        "id": "view-in-github",
        "colab_type": "text"
      },
      "source": [
        "<a href=\"https://colab.research.google.com/github/saikirsh/python-new/blob/module-1/PYTHON_Partice_.ipynb\" target=\"_parent\"><img src=\"https://colab.research.google.com/assets/colab-badge.svg\" alt=\"Open In Colab\"/></a>"
      ]
    },
    {
      "cell_type": "code",
      "source": [
        ""
      ],
      "metadata": {
        "id": "aHjpmU2hL3Vz"
      },
      "id": "aHjpmU2hL3Vz",
      "execution_count": null,
      "outputs": []
    },
    {
      "cell_type": "code",
      "source": [
        ""
      ],
      "metadata": {
        "id": "_UnVIyaYL2-q"
      },
      "id": "_UnVIyaYL2-q",
      "execution_count": null,
      "outputs": []
    },
    {
      "cell_type": "markdown",
      "id": "7541a69e",
      "metadata": {
        "id": "7541a69e"
      },
      "source": [
        "## Average of 3 numders"
      ]
    },
    {
      "cell_type": "code",
      "execution_count": null,
      "id": "5bf4788f",
      "metadata": {
        "id": "5bf4788f",
        "outputId": "c7a9dd7b-f9b6-4391-dd7a-f1483f7c7d2b"
      },
      "outputs": [
        {
          "name": "stdout",
          "output_type": "stream",
          "text": [
            "20.0\n"
          ]
        }
      ],
      "source": [
        "a=10\n",
        "b=20\n",
        "c=30\n",
        "\n",
        "avg=(a+b+c)/3\n",
        "\n",
        "print(avg)"
      ]
    },
    {
      "cell_type": "markdown",
      "id": "d52de3cf",
      "metadata": {
        "id": "d52de3cf"
      },
      "source": [
        "## Multiplication of 3 numbers "
      ]
    },
    {
      "cell_type": "code",
      "execution_count": null,
      "id": "42e166cd",
      "metadata": {
        "id": "42e166cd",
        "outputId": "8d7db4d4-b748-498b-c5ee-acfade8d6ed1",
        "colab": {
          "base_uri": "https://localhost:8080/"
        }
      },
      "outputs": [
        {
          "output_type": "stream",
          "name": "stdout",
          "text": [
            "200\n"
          ]
        }
      ],
      "source": [
        "a=5\n",
        "b=4\n",
        "c=10\n",
        "\n",
        "prod=a*b*c\n",
        "\n",
        "print(prod)"
      ]
    },
    {
      "cell_type": "markdown",
      "id": "3d3f5c89",
      "metadata": {
        "id": "3d3f5c89"
      },
      "source": [
        "## Addition of two numbers (Dynamic)"
      ]
    },
    {
      "cell_type": "code",
      "execution_count": null,
      "id": "e4fcef49",
      "metadata": {
        "id": "e4fcef49",
        "outputId": "fe29bab7-1cef-42ad-f7b2-3f190853665e"
      },
      "outputs": [
        {
          "name": "stdout",
          "output_type": "stream",
          "text": [
            "Enter a first number 5\n",
            "Enter a second number 10\n",
            "15\n"
          ]
        }
      ],
      "source": [
        "a=int(input(\"Enter a first number\"))\n",
        "b=int(input(\"Enter a second number\"))\n",
        "\n",
        "c=a+b\n",
        "\n",
        "print (c)"
      ]
    },
    {
      "cell_type": "markdown",
      "id": "45b5e827",
      "metadata": {
        "id": "45b5e827"
      },
      "source": [
        "## average of 3 numbers (Dynamic)"
      ]
    },
    {
      "cell_type": "code",
      "execution_count": null,
      "id": "23bfe2db",
      "metadata": {
        "id": "23bfe2db",
        "outputId": "d808dd38-023a-4cec-c0a7-3e22e4f7e34d"
      },
      "outputs": [
        {
          "name": "stdout",
          "output_type": "stream",
          "text": [
            "Enter a first number 10\n",
            "Enter a second number 20\n",
            "Enter a third number 30\n",
            "20.0\n"
          ]
        }
      ],
      "source": [
        "a=int(input(\"Enter a first number\"))\n",
        "b=int(input(\"Enter a second number\"))\n",
        "c=int(input(\"Enter a third number\"))\n",
        "\n",
        "Avg=(a+b+c)/3\n",
        "\n",
        "print(Avg)"
      ]
    },
    {
      "cell_type": "markdown",
      "id": "ccd3573a",
      "metadata": {
        "id": "ccd3573a"
      },
      "source": [
        "## Conversions data type"
      ]
    },
    {
      "cell_type": "markdown",
      "id": "18dde512",
      "metadata": {
        "id": "18dde512"
      },
      "source": [
        "### Convert int to float "
      ]
    },
    {
      "cell_type": "code",
      "execution_count": null,
      "id": "2b521b31",
      "metadata": {
        "id": "2b521b31",
        "outputId": "cb0d305c-0621-428a-c4c9-ec2cf2327d9a"
      },
      "outputs": [
        {
          "name": "stdout",
          "output_type": "stream",
          "text": [
            "<class 'int'>\n",
            "<class 'float'>\n"
          ]
        }
      ],
      "source": [
        "a=10\n",
        "b=float(a)\n",
        "print (type(a))\n",
        "print(type(b))"
      ]
    },
    {
      "cell_type": "markdown",
      "id": "4713ea82",
      "metadata": {
        "id": "4713ea82"
      },
      "source": [
        "### Convert float into int "
      ]
    },
    {
      "cell_type": "code",
      "execution_count": null,
      "id": "c2f21fad",
      "metadata": {
        "id": "c2f21fad",
        "outputId": "b97731db-a274-4531-e86e-b789a9fc1086"
      },
      "outputs": [
        {
          "name": "stdout",
          "output_type": "stream",
          "text": [
            "<class 'float'>\n",
            "<class 'int'>\n"
          ]
        }
      ],
      "source": [
        "a=10.0\n",
        "b=int(a)\n",
        "print (type(a))\n",
        "print(type(b))"
      ]
    },
    {
      "cell_type": "markdown",
      "id": "85e2490c",
      "metadata": {
        "id": "85e2490c"
      },
      "source": [
        "### Convert int to string"
      ]
    },
    {
      "cell_type": "code",
      "execution_count": null,
      "id": "a1e224f5",
      "metadata": {
        "id": "a1e224f5",
        "outputId": "e936dccc-379a-4abd-8385-39441b91233e"
      },
      "outputs": [
        {
          "name": "stdout",
          "output_type": "stream",
          "text": [
            "<class 'int'>\n",
            "<class 'str'>\n"
          ]
        }
      ],
      "source": [
        "a=10\n",
        "b=str(a)\n",
        "print (type(a))\n",
        "print(type(b))"
      ]
    },
    {
      "cell_type": "markdown",
      "id": "f403451a",
      "metadata": {
        "id": "f403451a"
      },
      "source": [
        "### Convert string to int"
      ]
    },
    {
      "cell_type": "code",
      "execution_count": null,
      "id": "b40aee98",
      "metadata": {
        "id": "b40aee98",
        "outputId": "b59bc2f5-0eb2-4ec3-ef9f-bc4e8b9d7742"
      },
      "outputs": [
        {
          "name": "stdout",
          "output_type": "stream",
          "text": [
            "<class 'str'>\n",
            "<class 'int'>\n",
            "10\n"
          ]
        }
      ],
      "source": [
        "a=\"10\"\n",
        "b=int(a)\n",
        "print (type(a))\n",
        "print(type(b))\n",
        "print(b)"
      ]
    },
    {
      "cell_type": "markdown",
      "id": "7112b22c",
      "metadata": {
        "id": "7112b22c"
      },
      "source": [
        "## Boolean"
      ]
    },
    {
      "cell_type": "code",
      "execution_count": null,
      "id": "a7f278b2",
      "metadata": {
        "id": "a7f278b2"
      },
      "outputs": [],
      "source": [
        "a=10\n",
        "print(bool(a))\n",
        "print(type(a))\n",
        "\n",
        "True"
      ]
    }
  ],
  "metadata": {
    "kernelspec": {
      "display_name": "Python 3 (ipykernel)",
      "language": "python",
      "name": "python3"
    },
    "language_info": {
      "codemirror_mode": {
        "name": "ipython",
        "version": 3
      },
      "file_extension": ".py",
      "mimetype": "text/x-python",
      "name": "python",
      "nbconvert_exporter": "python",
      "pygments_lexer": "ipython3",
      "version": "3.9.7"
    },
    "colab": {
      "name": "PYTHON Partice .ipynb",
      "provenance": [],
      "include_colab_link": true
    }
  },
  "nbformat": 4,
  "nbformat_minor": 5
}