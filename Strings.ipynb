{
  "nbformat": 4,
  "nbformat_minor": 0,
  "metadata": {
    "colab": {
      "name": "Strings.ipynb",
      "provenance": [],
      "authorship_tag": "ABX9TyMzIF65JGJXdxL6+1UeJ5Sc",
      "include_colab_link": true
    },
    "kernelspec": {
      "name": "python3",
      "display_name": "Python 3"
    },
    "language_info": {
      "name": "python"
    }
  },
  "cells": [
    {
      "cell_type": "markdown",
      "metadata": {
        "id": "view-in-github",
        "colab_type": "text"
      },
      "source": [
        "<a href=\"https://colab.research.google.com/github/saikirsh/python-new/blob/module-1/Strings.ipynb\" target=\"_parent\"><img src=\"https://colab.research.google.com/assets/colab-badge.svg\" alt=\"Open In Colab\"/></a>"
      ]
    },
    {
      "cell_type": "code",
      "execution_count": null,
      "metadata": {
        "colab": {
          "base_uri": "https://localhost:8080/"
        },
        "id": "vR0xjUMC6x2w",
        "outputId": "a3eccf7a-2a38-4c82-c7da-e8b42265a249"
      },
      "outputs": [
        {
          "output_type": "stream",
          "name": "stdout",
          "text": [
            "sai krishna\n"
          ]
        }
      ],
      "source": [
        "#slicing\n",
        "\n",
        "a=\"sai krishna\"\n",
        "print(a)"
      ]
    },
    {
      "cell_type": "code",
      "source": [
        "a=\"sai krishna\"\n",
        "\n",
        "print(a)\n",
        "print(type(a))"
      ],
      "metadata": {
        "colab": {
          "base_uri": "https://localhost:8080/"
        },
        "id": "SEsPs0GC7odD",
        "outputId": "dd79909f-d41d-4777-8ab1-edf3fac36d02"
      },
      "execution_count": null,
      "outputs": [
        {
          "output_type": "stream",
          "name": "stdout",
          "text": [
            "sai krishna\n",
            "<class 'str'>\n"
          ]
        }
      ]
    },
    {
      "cell_type": "code",
      "source": [
        "a=\"sai krishna\"\n",
        "\n",
        "print(a)\n",
        "print(type(a))\n",
        "print(a[1])"
      ],
      "metadata": {
        "colab": {
          "base_uri": "https://localhost:8080/"
        },
        "id": "qJlOw1R276Tk",
        "outputId": "398f9686-ecbd-464c-bfc0-4f746c65ca17"
      },
      "execution_count": null,
      "outputs": [
        {
          "output_type": "stream",
          "name": "stdout",
          "text": [
            "sai krishna\n",
            "<class 'str'>\n",
            "a\n"
          ]
        }
      ]
    },
    {
      "cell_type": "code",
      "source": [
        "a=\"sai krishna\"\n",
        "\n",
        "print(a[2:5])"
      ],
      "metadata": {
        "colab": {
          "base_uri": "https://localhost:8080/"
        },
        "id": "6a6y4qEC8Pf5",
        "outputId": "fdaf85ef-099f-4e23-c8ba-9c93241cea92"
      },
      "execution_count": null,
      "outputs": [
        {
          "output_type": "stream",
          "name": "stdout",
          "text": [
            "i k\n"
          ]
        }
      ]
    },
    {
      "cell_type": "code",
      "source": [
        "a=\"sai krishna\"\n",
        "\n",
        "print(len(a))"
      ],
      "metadata": {
        "colab": {
          "base_uri": "https://localhost:8080/"
        },
        "id": "er_EIcjt8h0m",
        "outputId": "ad340192-c0b6-4ea9-8c70-5e3a4910f61c"
      },
      "execution_count": null,
      "outputs": [
        {
          "output_type": "stream",
          "name": "stdout",
          "text": [
            "11\n"
          ]
        }
      ]
    },
    {
      "cell_type": "code",
      "source": [
        "#finding\n",
        "a=\"RRR movie has be released\"\n",
        "\n",
        "print(\"RRR\" in a)"
      ],
      "metadata": {
        "colab": {
          "base_uri": "https://localhost:8080/"
        },
        "id": "XMFisxmT8q0m",
        "outputId": "390e5178-4e10-4ebc-edce-7f2a8894d031"
      },
      "execution_count": null,
      "outputs": [
        {
          "output_type": "stream",
          "name": "stdout",
          "text": [
            "True\n"
          ]
        }
      ]
    },
    {
      "cell_type": "code",
      "source": [
        "a=\"RRR movie has be released\"\n",
        "b=\"sai krishna\"\n",
        "print(\"RRR\" in b)"
      ],
      "metadata": {
        "colab": {
          "base_uri": "https://localhost:8080/"
        },
        "id": "EXhGG2k59TXf",
        "outputId": "06dfda4a-f868-4f4f-b6f1-f0567d2a4a63"
      },
      "execution_count": null,
      "outputs": [
        {
          "output_type": "stream",
          "name": "stdout",
          "text": [
            "False\n"
          ]
        }
      ]
    },
    {
      "cell_type": "code",
      "source": [
        "a=\"RRR movie has be released\"\n",
        "\n",
        "print(\"Ram charan\" in a)"
      ],
      "metadata": {
        "colab": {
          "base_uri": "https://localhost:8080/"
        },
        "id": "z4otM1hb9pjp",
        "outputId": "d0f96134-5c85-4642-e264-4a118b26e61c"
      },
      "execution_count": null,
      "outputs": [
        {
          "output_type": "stream",
          "name": "stdout",
          "text": [
            "False\n"
          ]
        }
      ]
    },
    {
      "cell_type": "code",
      "source": [
        "#slicing\n",
        "a=\"RRR movie has be released\"\n",
        "\n",
        "print(a[2:5])"
      ],
      "metadata": {
        "colab": {
          "base_uri": "https://localhost:8080/"
        },
        "id": "Jlbf2c1-9xrk",
        "outputId": "b7cf63fc-ab9c-4ada-f0ab-527a9e5d2d7d"
      },
      "execution_count": null,
      "outputs": [
        {
          "output_type": "stream",
          "name": "stdout",
          "text": [
            "R m\n"
          ]
        }
      ]
    },
    {
      "cell_type": "code",
      "source": [
        "# modify strings upper case\n",
        "a=\"RRR movie has be released\"\n",
        "print(a.upper())"
      ],
      "metadata": {
        "colab": {
          "base_uri": "https://localhost:8080/"
        },
        "id": "IEcrHKzDX94I",
        "outputId": "9af656cb-7d82-4219-c330-a6f24468a3b6"
      },
      "execution_count": null,
      "outputs": [
        {
          "output_type": "stream",
          "name": "stdout",
          "text": [
            "RRR MOVIE HAS BE RELEASED\n"
          ]
        }
      ]
    },
    {
      "cell_type": "code",
      "source": [
        "# modify strings lower case\n",
        "a=\"RRR movie has be released\"\n",
        "print(a.lower())"
      ],
      "metadata": {
        "colab": {
          "base_uri": "https://localhost:8080/"
        },
        "id": "L9Pq7SBmYgNg",
        "outputId": "ea1d67dd-0585-44cf-f2d5-06c79e6c9b13"
      },
      "execution_count": null,
      "outputs": [
        {
          "output_type": "stream",
          "name": "stdout",
          "text": [
            "rrr movie has be released\n"
          ]
        }
      ]
    },
    {
      "cell_type": "code",
      "source": [
        "# modify strings remove whitespace\n",
        "a=\"   RRR movie has be released  \"\n",
        "print(a.strip())"
      ],
      "metadata": {
        "colab": {
          "base_uri": "https://localhost:8080/"
        },
        "id": "Gbw4t3WsY_lo",
        "outputId": "e7cf9d63-3ca6-4ea7-ec5a-75bffd260ca4"
      },
      "execution_count": null,
      "outputs": [
        {
          "output_type": "stream",
          "name": "stdout",
          "text": [
            "RRR movie has be released\n"
          ]
        }
      ]
    },
    {
      "cell_type": "code",
      "source": [
        "# modify strings replace\n",
        "a=\"RRR movie has be released\"\n",
        "print(a.replace(\"RRR\",\"radhya shyam\"))"
      ],
      "metadata": {
        "colab": {
          "base_uri": "https://localhost:8080/"
        },
        "id": "K92b_xfxZgMz",
        "outputId": "0ae53199-9ba6-4121-86b2-46ca8e3298b7"
      },
      "execution_count": null,
      "outputs": [
        {
          "output_type": "stream",
          "name": "stdout",
          "text": [
            "radhya shyam movie has be released\n"
          ]
        }
      ]
    },
    {
      "cell_type": "code",
      "source": [
        "# modify string split string\n",
        "a=\"RRR movie has be released\"\n",
        "print(a.split())"
      ],
      "metadata": {
        "colab": {
          "base_uri": "https://localhost:8080/"
        },
        "id": "m_KgVoTGan-h",
        "outputId": "7a906618-748d-43eb-a5af-f869a9509047"
      },
      "execution_count": null,
      "outputs": [
        {
          "output_type": "stream",
          "name": "stdout",
          "text": [
            "['RRR', 'movie', 'has', 'be', 'released']\n"
          ]
        }
      ]
    },
    {
      "cell_type": "code",
      "source": [
        "# modify string split string type 2\n",
        "a=\"RRR,movie,has,be,released\"\n",
        "print(a.split(\",\"))"
      ],
      "metadata": {
        "colab": {
          "base_uri": "https://localhost:8080/"
        },
        "id": "YdI5Oz5Ib3Ug",
        "outputId": "53710f60-2113-4c75-b051-5215cc83dbf2"
      },
      "execution_count": null,
      "outputs": [
        {
          "output_type": "stream",
          "name": "stdout",
          "text": [
            "['RRR', 'movie', 'has', 'be', 'released']\n"
          ]
        }
      ]
    },
    {
      "cell_type": "code",
      "source": [
        "# modify string split string\n",
        "a=\"apple,mango\"\n",
        "print(a.split(\",\"))"
      ],
      "metadata": {
        "colab": {
          "base_uri": "https://localhost:8080/"
        },
        "id": "N4hHXjOTc6-O",
        "outputId": "85b8d629-f7f8-4486-ab9c-76b4625a485a"
      },
      "execution_count": null,
      "outputs": [
        {
          "output_type": "stream",
          "name": "stdout",
          "text": [
            "['apple', 'mango']\n"
          ]
        }
      ]
    },
    {
      "cell_type": "code",
      "source": [
        "# concatention\n",
        "a=\"123\"\n",
        "b=\"RRR movie has be released\"\n",
        "print(a+\" \"+b)"
      ],
      "metadata": {
        "colab": {
          "base_uri": "https://localhost:8080/"
        },
        "id": "8W2IEY2Ad0Xu",
        "outputId": "39b2293d-1c76-4a68-d2a8-e2de4c765103"
      },
      "execution_count": null,
      "outputs": [
        {
          "output_type": "stream",
          "name": "stdout",
          "text": [
            "123 RRR movie has be released\n"
          ]
        }
      ]
    },
    {
      "cell_type": "code",
      "source": [
        "#format string\n",
        "a= 25\n",
        "b=\"RRR movie release date {}\"\n",
        "print(b.format(a))"
      ],
      "metadata": {
        "colab": {
          "base_uri": "https://localhost:8080/"
        },
        "id": "77u46m1ufaQ8",
        "outputId": "df137057-16fe-4361-8f11-9671e0779091"
      },
      "execution_count": null,
      "outputs": [
        {
          "output_type": "stream",
          "name": "stdout",
          "text": [
            "RRR movie release date 25\n"
          ]
        }
      ]
    },
    {
      "cell_type": "code",
      "source": [
        "#format string 2\n",
        "a=3\n",
        "b=60\n",
        "c=\"I want {1} sprites for cost of {0} rupees\"\n",
        "print(c.format(b,a))"
      ],
      "metadata": {
        "colab": {
          "base_uri": "https://localhost:8080/"
        },
        "id": "ZP7Ru8EPiqO0",
        "outputId": "1bf40755-df30-4592-f4a3-22ff538c2aad"
      },
      "execution_count": null,
      "outputs": [
        {
          "output_type": "stream",
          "name": "stdout",
          "text": [
            "I want 3 sprites for cost of 60 rupees\n"
          ]
        }
      ]
    },
    {
      "cell_type": "code",
      "source": [
        "#format string 3\n",
        "a=3\n",
        "b=4\n",
        "c=140\n",
        "d=\"I want {} sprites and {} thumpup for cost of {} rupees\"\n",
        "print(d.format(a,b,c))"
      ],
      "metadata": {
        "colab": {
          "base_uri": "https://localhost:8080/"
        },
        "id": "gnavNEqmj-8b",
        "outputId": "57d4005c-c7ab-41c8-80cc-6c4f97c71db0"
      },
      "execution_count": null,
      "outputs": [
        {
          "output_type": "stream",
          "name": "stdout",
          "text": [
            "I want 3 sprites and 4 thumpup for cost of 140 rupees\n"
          ]
        }
      ]
    },
    {
      "cell_type": "code",
      "source": [
        "#format string 3\n",
        "a=3\n",
        "b=4\n",
        "c=140\n",
        "d=\"I want {1} sprites and {0} thumpup for cost of {2} rupees\"\n",
        "print(d.format(a,b,c))"
      ],
      "metadata": {
        "colab": {
          "base_uri": "https://localhost:8080/"
        },
        "id": "SXI5LQjGklGy",
        "outputId": "e95180bc-e6de-40b0-fd6a-cb1325be21c7"
      },
      "execution_count": null,
      "outputs": [
        {
          "output_type": "stream",
          "name": "stdout",
          "text": [
            "I want 4 sprites and 3 thumpup for cost of 140 rupees\n"
          ]
        }
      ]
    },
    {
      "cell_type": "code",
      "source": [
        "#Escape Characters  \n",
        "a=\"Praneet is a\\\"lafoot fellow\\\" in the whole gitam.\" \n",
        "print(a)"
      ],
      "metadata": {
        "colab": {
          "base_uri": "https://localhost:8080/"
        },
        "id": "m3XcRuPtlDtq",
        "outputId": "16931647-6589-4ba8-d2d8-d5333e536089"
      },
      "execution_count": null,
      "outputs": [
        {
          "output_type": "stream",
          "name": "stdout",
          "text": [
            "Praneet is a\"lafoot fellow\" in the whole gitam.\n"
          ]
        }
      ]
    },
    {
      "cell_type": "code",
      "source": [
        "# Blackslash \n",
        "a=\"Hello\\\\World\"\n",
        "print(a)"
      ],
      "metadata": {
        "colab": {
          "base_uri": "https://localhost:8080/"
        },
        "id": "9cufqJywmvzK",
        "outputId": "fc93cbe0-a0c5-4688-987a-385007bc040f"
      },
      "execution_count": null,
      "outputs": [
        {
          "output_type": "stream",
          "name": "stdout",
          "text": [
            "Hello\\World\n"
          ]
        }
      ]
    },
    {
      "cell_type": "code",
      "source": [
        "#New line \n",
        "a=\"Hello\\nworld\"\n",
        "print(a)"
      ],
      "metadata": {
        "colab": {
          "base_uri": "https://localhost:8080/"
        },
        "id": "a6QXh0lTnOzB",
        "outputId": "33db3063-8c93-4402-87a2-b1c876ad76c3"
      },
      "execution_count": null,
      "outputs": [
        {
          "output_type": "stream",
          "name": "stdout",
          "text": [
            "Hello\n",
            "world\n"
          ]
        }
      ]
    },
    {
      "cell_type": "code",
      "source": [
        "#blackspace\n",
        "a=\"Hello\\bworld\"\n",
        "print(a)"
      ],
      "metadata": {
        "colab": {
          "base_uri": "https://localhost:8080/"
        },
        "id": "tFT9us67nxB0",
        "outputId": "8282d90e-0d63-48a4-90af-9ac72fb5c468"
      },
      "execution_count": null,
      "outputs": [
        {
          "output_type": "stream",
          "name": "stdout",
          "text": [
            "Hello\bworld\n"
          ]
        }
      ]
    },
    {
      "cell_type": "code",
      "source": [
        "#form feed\n",
        "a=\"Hello  \\f  world\"\n",
        "print(a)"
      ],
      "metadata": {
        "colab": {
          "base_uri": "https://localhost:8080/"
        },
        "id": "8XGimOP5oM4q",
        "outputId": "8aef2033-5c50-4dc9-c8ec-3f5a9dd1daa8"
      },
      "execution_count": null,
      "outputs": [
        {
          "output_type": "stream",
          "name": "stdout",
          "text": [
            "Hello  \f  world\n"
          ]
        }
      ]
    },
    {
      "cell_type": "code",
      "source": [
        "#Tab\n",
        "a=\"Hello\\tworld\"\n",
        "print(a)"
      ],
      "metadata": {
        "colab": {
          "base_uri": "https://localhost:8080/"
        },
        "id": "zbW_KrZwonzz",
        "outputId": "6fe010cd-bdbe-402f-a8f8-293b71e03b28"
      },
      "execution_count": null,
      "outputs": [
        {
          "output_type": "stream",
          "name": "stdout",
          "text": [
            "Hello\tworld\n"
          ]
        }
      ]
    },
    {
      "cell_type": "code",
      "source": [
        "#Carriage Return\n",
        "a=\"Hello\\rworld\"\n",
        "print(a)"
      ],
      "metadata": {
        "colab": {
          "base_uri": "https://localhost:8080/"
        },
        "id": "dX5fpFWmo7b4",
        "outputId": "3ff11b83-b2ed-440b-ac4e-b85cfbf2f2f0"
      },
      "execution_count": null,
      "outputs": [
        {
          "output_type": "stream",
          "name": "stdout",
          "text": [
            "Hello\rworld\n"
          ]
        }
      ]
    },
    {
      "cell_type": "code",
      "source": [
        ""
      ],
      "metadata": {
        "id": "1PdPAOIWubN5"
      },
      "execution_count": null,
      "outputs": []
    }
  ]
}