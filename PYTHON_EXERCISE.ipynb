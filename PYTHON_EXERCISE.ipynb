{
  "cells": [
    {
      "cell_type": "markdown",
      "metadata": {
        "id": "view-in-github",
        "colab_type": "text"
      },
      "source": [
        "<a href=\"https://colab.research.google.com/github/saikirsh/python-new/blob/module-1/PYTHON_EXERCISE.ipynb\" target=\"_parent\"><img src=\"https://colab.research.google.com/assets/colab-badge.svg\" alt=\"Open In Colab\"/></a>"
      ]
    },
    {
      "cell_type": "markdown",
      "id": "008625c0",
      "metadata": {
        "id": "008625c0"
      },
      "source": [
        "## Average of 3 numbers"
      ]
    },
    {
      "cell_type": "code",
      "execution_count": null,
      "id": "4e715ea0",
      "metadata": {
        "id": "4e715ea0",
        "outputId": "e06e2472-98cf-4edc-82b1-3af87bfa443a"
      },
      "outputs": [
        {
          "name": "stdout",
          "output_type": "stream",
          "text": [
            "15.0\n"
          ]
        }
      ],
      "source": [
        "a = 10\n",
        "b = 15\n",
        "c = 20\n",
        "\n",
        "avg = (a+b+c)/3\n",
        "\n",
        "print (avg)"
      ]
    },
    {
      "cell_type": "markdown",
      "id": "545bd473",
      "metadata": {
        "id": "545bd473"
      },
      "source": [
        "### Multiplication of 3 numbers"
      ]
    },
    {
      "cell_type": "code",
      "execution_count": null,
      "id": "f17f6988",
      "metadata": {
        "id": "f17f6988",
        "outputId": "6953f143-e1ca-4d48-a326-49e8f609ef5d"
      },
      "outputs": [
        {
          "name": "stdout",
          "output_type": "stream",
          "text": [
            "200\n"
          ]
        }
      ],
      "source": [
        "a = 5\n",
        "b = 4\n",
        "c = 10\n",
        "\n",
        "prod = a * b * c\n",
        "\n",
        "print (prod)"
      ]
    },
    {
      "cell_type": "markdown",
      "id": "31fe3ecf",
      "metadata": {
        "id": "31fe3ecf"
      },
      "source": [
        "###  Addition of 2 numbers (Dynamic)"
      ]
    },
    {
      "cell_type": "code",
      "execution_count": null,
      "id": "8dff8359",
      "metadata": {
        "id": "8dff8359",
        "outputId": "8756d127-6bd7-44f9-a51e-9ccec4f1d34e"
      },
      "outputs": [
        {
          "name": "stdout",
          "output_type": "stream",
          "text": [
            "Enter the first number: 5\n",
            "Enter the second number: 10\n",
            "15\n"
          ]
        }
      ],
      "source": [
        "a = int(input (\"Enter the first number: \"))\n",
        "b = int(input (\"Enter the second number: \"))\n",
        "\n",
        "c = a + b\n",
        "\n",
        "print (c)"
      ]
    },
    {
      "cell_type": "markdown",
      "id": "ffbd6bc5",
      "metadata": {
        "id": "ffbd6bc5"
      },
      "source": [
        "### Average of 3 numbers (Dynamic)"
      ]
    },
    {
      "cell_type": "code",
      "execution_count": null,
      "id": "fbe5ed80",
      "metadata": {
        "id": "fbe5ed80",
        "outputId": "acb8d6dc-de1d-4401-ccc5-730acad3397f"
      },
      "outputs": [
        {
          "name": "stdout",
          "output_type": "stream",
          "text": [
            "Enter the first number: 5\n",
            "Enter the second number: 10\n",
            "Enter the third number: 15\n",
            "10.0\n"
          ]
        }
      ],
      "source": [
        "a = int(input (\"Enter the first number: \"))\n",
        "b = int(input (\"Enter the second number: \"))\n",
        "c = int(input (\"Enter the third number: \"))\n",
        "\n",
        "avg = (a + b + c)/3\n",
        "\n",
        "print (avg)"
      ]
    },
    {
      "cell_type": "markdown",
      "id": "93d8227e",
      "metadata": {
        "id": "93d8227e"
      },
      "source": [
        "## Type conversions\n",
        "### Convert int to float"
      ]
    },
    {
      "cell_type": "code",
      "execution_count": null,
      "id": "49bf5435",
      "metadata": {
        "id": "49bf5435",
        "outputId": "22d8884e-ff14-418c-e4f6-8938e5bcf579"
      },
      "outputs": [
        {
          "name": "stdout",
          "output_type": "stream",
          "text": [
            "<class 'int'>\n",
            "<class 'float'>\n"
          ]
        }
      ],
      "source": [
        "a = 10\n",
        "b = float(a)\n",
        "print (type(a))\n",
        "print (type(b))"
      ]
    },
    {
      "cell_type": "markdown",
      "id": "405cb663",
      "metadata": {
        "id": "405cb663"
      },
      "source": [
        "### Convert float to int"
      ]
    },
    {
      "cell_type": "code",
      "execution_count": null,
      "id": "008778a2",
      "metadata": {
        "id": "008778a2",
        "outputId": "01e9b633-52d3-45e0-dde5-0baabfce2250"
      },
      "outputs": [
        {
          "name": "stdout",
          "output_type": "stream",
          "text": [
            "<class 'float'>\n",
            "<class 'int'>\n"
          ]
        }
      ],
      "source": [
        "a = 10.0\n",
        "b = int (a)\n",
        "print (type(a))\n",
        "print (type(b))\n"
      ]
    },
    {
      "cell_type": "markdown",
      "id": "0e0650f4",
      "metadata": {
        "id": "0e0650f4"
      },
      "source": [
        "### Convert int to string"
      ]
    },
    {
      "cell_type": "code",
      "execution_count": null,
      "id": "c98ebf79",
      "metadata": {
        "id": "c98ebf79",
        "outputId": "68d339b7-161c-4ab7-b3bc-5912b44fb7c4"
      },
      "outputs": [
        {
          "name": "stdout",
          "output_type": "stream",
          "text": [
            "<class 'int'>\n",
            "<class 'str'>\n",
            "10\n"
          ]
        }
      ],
      "source": [
        "a = 10\n",
        "b = str (a)\n",
        "print (type (a))\n",
        "print (type (b))\n",
        "print (b)"
      ]
    },
    {
      "cell_type": "markdown",
      "id": "b9e85613",
      "metadata": {
        "id": "b9e85613"
      },
      "source": [
        "### Convert string to int"
      ]
    },
    {
      "cell_type": "code",
      "execution_count": null,
      "id": "c5a3335a",
      "metadata": {
        "id": "c5a3335a",
        "outputId": "7072fb15-72d2-4ab4-eb6f-be6cbea1b883"
      },
      "outputs": [
        {
          "name": "stdout",
          "output_type": "stream",
          "text": [
            "<class 'str'>\n",
            "<class 'int'>\n",
            "10\n"
          ]
        }
      ],
      "source": [
        "a = \"10\"\n",
        "b = int(a)\n",
        "print (type (a))\n",
        "print (type (b))\n",
        "print (b)"
      ]
    },
    {
      "cell_type": "markdown",
      "id": "ee749150",
      "metadata": {
        "id": "ee749150"
      },
      "source": [
        "# Boolean to int"
      ]
    },
    {
      "cell_type": "code",
      "execution_count": null,
      "id": "11e3769a",
      "metadata": {
        "id": "11e3769a",
        "outputId": "ffd44e41-8f36-466f-a486-d57b536d0232"
      },
      "outputs": [
        {
          "name": "stdout",
          "output_type": "stream",
          "text": [
            "False\n",
            "<class 'bool'>\n",
            "0\n",
            "<class 'int'>\n"
          ]
        }
      ],
      "source": [
        "a = 10\n",
        "b = a==1\n",
        "c = int(b)\n",
        "print(b)\n",
        "print (type(b))\n",
        "print(c)\n",
        "print (type(c))\n"
      ]
    },
    {
      "cell_type": "markdown",
      "id": "c149f049",
      "metadata": {
        "id": "c149f049"
      },
      "source": [
        "### Boolean to float"
      ]
    },
    {
      "cell_type": "code",
      "execution_count": null,
      "id": "402286b1",
      "metadata": {
        "id": "402286b1",
        "outputId": "3510bc9b-744c-423e-ef4d-78de49717083"
      },
      "outputs": [
        {
          "name": "stdout",
          "output_type": "stream",
          "text": [
            "False\n",
            "<class 'bool'>\n",
            "0.0\n",
            "<class 'float'>\n"
          ]
        }
      ],
      "source": [
        "a = 10\n",
        "b = a==1\n",
        "c = float(b)\n",
        "print(b)\n",
        "print (type(b))\n",
        "print(c)\n",
        "print (type(c))\n"
      ]
    },
    {
      "cell_type": "markdown",
      "id": "adf7862f",
      "metadata": {
        "id": "adf7862f"
      },
      "source": [
        "### Bool to str"
      ]
    },
    {
      "cell_type": "code",
      "execution_count": null,
      "id": "6a64d1af",
      "metadata": {
        "id": "6a64d1af",
        "outputId": "433c3bd7-85a0-40ff-d00f-290be52a617f"
      },
      "outputs": [
        {
          "name": "stdout",
          "output_type": "stream",
          "text": [
            "False\n",
            "<class 'bool'>\n",
            "False\n",
            "<class 'str'>\n"
          ]
        }
      ],
      "source": [
        "a = 10\n",
        "b = a==1\n",
        "c = str(b)\n",
        "print(b)\n",
        "print (type(b))\n",
        "print(c)\n",
        "print (type(c))"
      ]
    },
    {
      "cell_type": "markdown",
      "id": "5e232c2c",
      "metadata": {
        "id": "5e232c2c"
      },
      "source": [
        "### Complex data type"
      ]
    },
    {
      "cell_type": "code",
      "execution_count": null,
      "id": "8e62c4c1",
      "metadata": {
        "id": "8e62c4c1",
        "outputId": "6c7635dc-e433-4018-be20-b3e816b16ea3"
      },
      "outputs": [
        {
          "name": "stdout",
          "output_type": "stream",
          "text": [
            "<class 'complex'>\n"
          ]
        }
      ],
      "source": [
        "a = 5 + 2j\n",
        "print (type(a))"
      ]
    },
    {
      "cell_type": "code",
      "execution_count": null,
      "id": "65faf499",
      "metadata": {
        "id": "65faf499",
        "outputId": "58802842-46ff-4447-9b0a-7e082a2da190"
      },
      "outputs": [
        {
          "name": "stdout",
          "output_type": "stream",
          "text": [
            "(10+2j)\n",
            "<class 'complex'>\n",
            "(10+2j)\n",
            "<class 'str'>\n"
          ]
        }
      ],
      "source": [
        "a = 10 + 2j\n",
        "c = str(a)\n",
        "print(a)\n",
        "print (type(a))\n",
        "print(c)\n",
        "print (type(c))"
      ]
    },
    {
      "cell_type": "code",
      "execution_count": null,
      "id": "e81a7f7a",
      "metadata": {
        "id": "e81a7f7a",
        "outputId": "4af11992-5155-4d38-96ae-22ac304e9651"
      },
      "outputs": [
        {
          "name": "stdout",
          "output_type": "stream",
          "text": [
            "(10+2j)\n",
            "<class 'complex'>\n",
            "True\n",
            "<class 'bool'>\n"
          ]
        }
      ],
      "source": [
        "a = 10 + 2j\n",
        "c = bool(a)\n",
        "print(a)\n",
        "print (type(a))\n",
        "print(c)\n",
        "print (type(c))"
      ]
    },
    {
      "cell_type": "code",
      "execution_count": null,
      "id": "013167b6",
      "metadata": {
        "id": "013167b6"
      },
      "outputs": [],
      "source": [
        ""
      ]
    }
  ],
  "metadata": {
    "kernelspec": {
      "display_name": "Python 3 (ipykernel)",
      "language": "python",
      "name": "python3"
    },
    "language_info": {
      "codemirror_mode": {
        "name": "ipython",
        "version": 3
      },
      "file_extension": ".py",
      "mimetype": "text/x-python",
      "name": "python",
      "nbconvert_exporter": "python",
      "pygments_lexer": "ipython3",
      "version": "3.9.7"
    },
    "colab": {
      "name": "PYTHON_EXERCISE.ipynb",
      "provenance": [],
      "include_colab_link": true
    }
  },
  "nbformat": 4,
  "nbformat_minor": 5
}