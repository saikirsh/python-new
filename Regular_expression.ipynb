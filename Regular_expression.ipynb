{
  "nbformat": 4,
  "nbformat_minor": 0,
  "metadata": {
    "colab": {
      "name": "Regular expression.ipynb",
      "provenance": [],
      "authorship_tag": "ABX9TyONGs4N0JG/0b0PihNxDbhH",
      "include_colab_link": true
    },
    "kernelspec": {
      "name": "python3",
      "display_name": "Python 3"
    },
    "language_info": {
      "name": "python"
    }
  },
  "cells": [
    {
      "cell_type": "markdown",
      "metadata": {
        "id": "view-in-github",
        "colab_type": "text"
      },
      "source": [
        "<a href=\"https://colab.research.google.com/github/saikirsh/python-new/blob/module-5/Regular_expression.ipynb\" target=\"_parent\"><img src=\"https://colab.research.google.com/assets/colab-badge.svg\" alt=\"Open In Colab\"/></a>"
      ]
    },
    {
      "cell_type": "markdown",
      "source": [
        "Python RegEx"
      ],
      "metadata": {
        "id": "Sp_4kA0bMsxl"
      }
    },
    {
      "cell_type": "code",
      "execution_count": null,
      "metadata": {
        "colab": {
          "base_uri": "https://localhost:8080/"
        },
        "id": "LP36YTHhJV1Y",
        "outputId": "2e7ce272-77ff-4aa4-e0cc-90e778404dd7"
      },
      "outputs": [
        {
          "output_type": "stream",
          "name": "stdout",
          "text": [
            "YES! We have a match!\n"
          ]
        }
      ],
      "source": [
        "import re \n",
        "txt=\"I am krishna.study in Gitam vizag\"\n",
        "x = re.search(\"^I.*vizag$\", txt)\n",
        "if x:\n",
        "  print(\"YES! We have a match!\")\n",
        "else:\n",
        "  print(\"No match\")"
      ]
    },
    {
      "cell_type": "code",
      "source": [
        "##findall()\n",
        "import re\n",
        "txt = \"I am krishna.study in Gitam vizag\"\n",
        "x = re.findall(\"ri\", txt)\n",
        "print(x)"
      ],
      "metadata": {
        "colab": {
          "base_uri": "https://localhost:8080/"
        },
        "id": "_Ju5sCCtMK_h",
        "outputId": "75c148eb-dbac-4810-97d9-4e9e66b2a83c"
      },
      "execution_count": null,
      "outputs": [
        {
          "output_type": "stream",
          "name": "stdout",
          "text": [
            "['ri']\n"
          ]
        }
      ]
    },
    {
      "cell_type": "markdown",
      "source": [
        "Metacharacters"
      ],
      "metadata": {
        "id": "uqXcquVCOPuB"
      }
    },
    {
      "cell_type": "code",
      "source": [
        "##findall []\n",
        "import re\n",
        "txt = \"I am krishna.study in Gitam vizag\"\n",
        "x = re.findall(\"[a-n]\", txt)\n",
        "print(x)"
      ],
      "metadata": {
        "colab": {
          "base_uri": "https://localhost:8080/"
        },
        "id": "-lXqK4ZbMrpj",
        "outputId": "2e813101-9ae1-47d4-c082-5c1af8e0f072"
      },
      "execution_count": 30,
      "outputs": [
        {
          "output_type": "stream",
          "name": "stdout",
          "text": [
            "['a', 'm', 'k', 'i', 'h', 'n', 'a', 'd', 'i', 'n', 'i', 'a', 'm', 'i', 'a', 'g']\n"
          ]
        }
      ]
    },
    {
      "cell_type": "code",
      "source": [
        "import re\n",
        "txt = \"i won 1000 dollars\"\n",
        "x = re.findall(\"\\d\", txt)\n",
        "print(x)"
      ],
      "metadata": {
        "colab": {
          "base_uri": "https://localhost:8080/"
        },
        "id": "RcW4qEqwNYMA",
        "outputId": "6f21d33d-c3cb-4b0d-b924-a26d7c64908c"
      },
      "execution_count": null,
      "outputs": [
        {
          "output_type": "stream",
          "name": "stdout",
          "text": [
            "['1', '0', '0', '0']\n"
          ]
        }
      ]
    },
    {
      "cell_type": "code",
      "source": [
        "import re\n",
        "txt = \"krishna\"\n",
        "x = re.findall(\"..is...\", txt)\n",
        "print(x)"
      ],
      "metadata": {
        "colab": {
          "base_uri": "https://localhost:8080/"
        },
        "id": "q_1RfqJAOxFj",
        "outputId": "ff6960d6-f40a-495a-d1d8-961de779cec9"
      },
      "execution_count": null,
      "outputs": [
        {
          "output_type": "stream",
          "name": "stdout",
          "text": [
            "['krishna']\n"
          ]
        }
      ]
    },
    {
      "cell_type": "code",
      "source": [
        "##start with\n",
        "import re\n",
        "txt = \"I am krishna.study in Gitam vizag\"\n",
        "x = re.findall(\"^I\", txt)\n",
        "print(x)\n",
        "if x:\n",
        "  print(\"Yes, the string starts with 'I'\")\n",
        "else:\n",
        "  print(\"No match\")"
      ],
      "metadata": {
        "colab": {
          "base_uri": "https://localhost:8080/"
        },
        "id": "hg_TlqhdPC_T",
        "outputId": "613f8080-1b33-43fe-b198-3f66532d8940"
      },
      "execution_count": null,
      "outputs": [
        {
          "output_type": "stream",
          "name": "stdout",
          "text": [
            "['I']\n",
            "Yes, the string starts with 'I'\n"
          ]
        }
      ]
    },
    {
      "cell_type": "code",
      "source": [
        "##ends with\n",
        "import re\n",
        "txt = \"I am krishna.study in Gitam vizag\"\n",
        "x = re.findall(\"vizag$\", txt)\n",
        "print(x)\n",
        "if x:\n",
        "  print(\"Yes, the string ends with 'vizag'\")\n",
        "else:\n",
        "  print(\"No match\")"
      ],
      "metadata": {
        "colab": {
          "base_uri": "https://localhost:8080/"
        },
        "id": "53cRBnQBPZ6K",
        "outputId": "06284df1-11ef-488d-efc3-fd1ce16cdbd0"
      },
      "execution_count": null,
      "outputs": [
        {
          "output_type": "stream",
          "name": "stdout",
          "text": [
            "['vizag']\n",
            "Yes, the string ends with 'vizag'\n"
          ]
        }
      ]
    },
    {
      "cell_type": "code",
      "source": [
        "import re\n",
        "txt = \"I am krishna.study in Gitam vizag\"\n",
        "x = re.findall(\"kri.*zag\", txt)\n",
        "print(x)"
      ],
      "metadata": {
        "colab": {
          "base_uri": "https://localhost:8080/"
        },
        "id": "T17l_fT3PpSq",
        "outputId": "aa46de91-bf95-4c9a-df89-bce000cee262"
      },
      "execution_count": null,
      "outputs": [
        {
          "output_type": "stream",
          "name": "stdout",
          "text": [
            "['krishna.study in Gitam vizag']\n"
          ]
        }
      ]
    },
    {
      "cell_type": "code",
      "source": [
        "import re\n",
        "txt = \"I am krishna.study in Gitam vizag\"\n",
        "x = re.findall(\"kri.+zag\", txt)\n",
        "print(x)"
      ],
      "metadata": {
        "colab": {
          "base_uri": "https://localhost:8080/"
        },
        "id": "_lIm-vlLRACV",
        "outputId": "288e99fa-0aee-4d96-c403-cd103bae7fa1"
      },
      "execution_count": null,
      "outputs": [
        {
          "output_type": "stream",
          "name": "stdout",
          "text": [
            "['krishna.study in Gitam vizag']\n"
          ]
        }
      ]
    },
    {
      "cell_type": "code",
      "source": [
        "import re\n",
        "txt = \"I am krishna.study in Gitam vizag\"\n",
        "x = re.findall(\"kri.?zag\", txt)\n",
        "print(x)"
      ],
      "metadata": {
        "colab": {
          "base_uri": "https://localhost:8080/"
        },
        "id": "FwifwjrsRMay",
        "outputId": "2cf5a4b8-c4f1-4267-efe3-0f08823b8905"
      },
      "execution_count": null,
      "outputs": [
        {
          "output_type": "stream",
          "name": "stdout",
          "text": [
            "[]\n"
          ]
        }
      ]
    },
    {
      "cell_type": "code",
      "source": [
        "import re\n",
        "txt = \"I am krishna.study in Gitam vizag\"\n",
        "x = re.findall(\"kri.{22}zag\", txt)\n",
        "print(x)"
      ],
      "metadata": {
        "colab": {
          "base_uri": "https://localhost:8080/"
        },
        "id": "-QacE70oRU26",
        "outputId": "82cf5786-6ff7-42ea-92b2-09f422d1f055"
      },
      "execution_count": null,
      "outputs": [
        {
          "output_type": "stream",
          "name": "stdout",
          "text": [
            "['krishna.study in Gitam vizag']\n"
          ]
        }
      ]
    },
    {
      "cell_type": "code",
      "source": [
        "import re\n",
        "txt = \"I am krishna.study in Gitam vizag\"\n",
        "x = re.findall(\"in|or\", txt)\n",
        "print(x)\n",
        "if x:\n",
        "  print(\"Yes, there is at least one match!\")\n",
        "else:\n",
        "  print(\"No match\")"
      ],
      "metadata": {
        "colab": {
          "base_uri": "https://localhost:8080/"
        },
        "id": "GZJWq23RSKtS",
        "outputId": "4079c213-09fe-4818-bf5e-d6bfb03b5fdc"
      },
      "execution_count": null,
      "outputs": [
        {
          "output_type": "stream",
          "name": "stdout",
          "text": [
            "['in']\n",
            "Yes, there is at least one match!\n"
          ]
        }
      ]
    },
    {
      "cell_type": "markdown",
      "source": [
        "Special Sequences"
      ],
      "metadata": {
        "id": "C244WlH4Tq2C"
      }
    },
    {
      "cell_type": "code",
      "source": [
        "##\\A\n",
        "import re\n",
        "txt = \"I am krishna.study in Gitam vizag\"\n",
        "x = re.findall(\"\\AI\", txt)\n",
        "print(x)\n",
        "if x:\n",
        "  print(\"Yes, there is a match!\")\n",
        "else:\n",
        "  print(\"No match\")"
      ],
      "metadata": {
        "colab": {
          "base_uri": "https://localhost:8080/"
        },
        "id": "J-dG4BlfTnvL",
        "outputId": "007fa584-4e3b-4f25-f2b1-29791f4dafa1"
      },
      "execution_count": null,
      "outputs": [
        {
          "output_type": "stream",
          "name": "stdout",
          "text": [
            "['I']\n",
            "Yes, there is a match!\n"
          ]
        }
      ]
    },
    {
      "cell_type": "markdown",
      "source": [
        "search() Function"
      ],
      "metadata": {
        "id": "_JEvSnXD2Fbt"
      }
    },
    {
      "cell_type": "code",
      "source": [
        "##search()\n",
        "import re\n",
        "txt = \"I am krishna.study in Gitam vizag\"\n",
        "x = re.search(\"\\s\", txt)\n",
        "print(\"The first white-space character is located in position:\", x.start()) "
      ],
      "metadata": {
        "colab": {
          "base_uri": "https://localhost:8080/"
        },
        "id": "w5C-_Few2Gjd",
        "outputId": "baf63a68-5d08-40f1-e9f3-a13af86bfaca"
      },
      "execution_count": null,
      "outputs": [
        {
          "output_type": "stream",
          "name": "stdout",
          "text": [
            "The first white-space character is located in position: 1\n"
          ]
        }
      ]
    },
    {
      "cell_type": "code",
      "source": [
        "##If no matches are found, the value None is returned:\n",
        "import re\n",
        "txt = \"I am krishna.study in Gitam vizag\"\n",
        "x = re.search(\"vijaywada\", txt)\n",
        "print(x)"
      ],
      "metadata": {
        "colab": {
          "base_uri": "https://localhost:8080/"
        },
        "id": "myFz-tyd2q28",
        "outputId": "40446b02-0e15-40c4-ea09-75db858f218f"
      },
      "execution_count": null,
      "outputs": [
        {
          "output_type": "stream",
          "name": "stdout",
          "text": [
            "None\n"
          ]
        }
      ]
    },
    {
      "cell_type": "markdown",
      "source": [
        "split() function"
      ],
      "metadata": {
        "id": "NeOna2IB5LnO"
      }
    },
    {
      "cell_type": "code",
      "source": [
        "##Example\n",
        "##Split at each white-space character:\n",
        "import re\n",
        "txt = \"I am krishna.study in Gitam vizag\"\n",
        "x = re.split(\"\\s\", txt)\n",
        "print(x)"
      ],
      "metadata": {
        "colab": {
          "base_uri": "https://localhost:8080/"
        },
        "id": "6wyWtxLS5Pc9",
        "outputId": "f983b16f-9187-4462-bfcc-fe12779bdc50"
      },
      "execution_count": null,
      "outputs": [
        {
          "output_type": "stream",
          "name": "stdout",
          "text": [
            "['I', 'am', 'krishna.study', 'in', 'Gitam', 'vizag']\n"
          ]
        }
      ]
    },
    {
      "cell_type": "code",
      "source": [
        "##You can control the number of occurrences by specifying the maxsplit parameter:\n",
        "import re\n",
        "txt = \"I am krishna.study in Gitam vizag\"\n",
        "x = re.split(\"\\s\", txt, 3)\n",
        "print(x)"
      ],
      "metadata": {
        "colab": {
          "base_uri": "https://localhost:8080/"
        },
        "id": "6EAk1Xxt5hVm",
        "outputId": "c688f645-671c-4fdc-9ed2-27deb8f97fe3"
      },
      "execution_count": null,
      "outputs": [
        {
          "output_type": "stream",
          "name": "stdout",
          "text": [
            "['I', 'am', 'krishna.study', 'in Gitam vizag']\n"
          ]
        }
      ]
    },
    {
      "cell_type": "markdown",
      "source": [
        "Special Sequences"
      ],
      "metadata": {
        "id": "aGgDW-Bhp92v"
      }
    },
    {
      "cell_type": "code",
      "source": [
        "##\tReturns a match if the specified characters are at the beginning of the string \\A\n",
        "import re\n",
        "txt = \"The family on my father's side is descended from Caspar Keller, a native of Switzerland, who settled in Maryland.\"\n",
        "x = re.findall(\"\\AThe\", txt)\n",
        "print(x)\n",
        "if x:\n",
        "  print(\"Yes, there is a match!\")\n",
        "else:\n",
        "  print(\"No match\")\n"
      ],
      "metadata": {
        "colab": {
          "base_uri": "https://localhost:8080/"
        },
        "id": "ssidkYYbp6zv",
        "outputId": "b377540b-2b2a-4a38-f2e5-9178ab51bb77"
      },
      "execution_count": 1,
      "outputs": [
        {
          "output_type": "stream",
          "name": "stdout",
          "text": [
            "['The']\n",
            "Yes, there is a match!\n"
          ]
        }
      ]
    },
    {
      "cell_type": "code",
      "source": [
        "import re\n",
        "txt = \"I am krishna.study in Gitam vizag\"\n",
        "x = re.findall(\"\\AI\", txt)\n",
        "print(x)\n",
        "if x:\n",
        "  print(\"Yes, there is a match!\")\n",
        "else:\n",
        "  print(\"No match\")\n"
      ],
      "metadata": {
        "colab": {
          "base_uri": "https://localhost:8080/"
        },
        "id": "x8d0o7pyrDAG",
        "outputId": "9731b797-08d3-4797-b44a-99601f4bbeb7"
      },
      "execution_count": 36,
      "outputs": [
        {
          "output_type": "stream",
          "name": "stdout",
          "text": [
            "['I']\n",
            "Yes, there is a match!\n"
          ]
        }
      ]
    },
    {
      "cell_type": "code",
      "source": [
        "##Returns a match where the specified characters are at the beginning or at the end of a word\n",
        "import re\n",
        "txt = \"The family on my father's side is descended from Caspar Keller, a native of Switzerland, who settled in Maryland.\"\n",
        "x = re.findall(r\"\\bain\", txt)\n",
        "print(x)\n",
        "if x:\n",
        "  print(\"Yes, there is at least one match!\")\n",
        "else:\n",
        "  print(\"No match\")"
      ],
      "metadata": {
        "colab": {
          "base_uri": "https://localhost:8080/"
        },
        "id": "jq69_6DKrXy3",
        "outputId": "a2d48ab9-fb9d-471d-c6d0-66d39e2b9ac0"
      },
      "execution_count": 3,
      "outputs": [
        {
          "output_type": "stream",
          "name": "stdout",
          "text": [
            "[]\n",
            "No match\n"
          ]
        }
      ]
    },
    {
      "cell_type": "code",
      "source": [
        "import re\n",
        "txt = \"The family on my father's side is descended from Caspar Keller, a native of Switzerland, who settled in Maryland.\"\n",
        "x = re.findall(r\"and\\b\", txt)\n",
        "print(x)\n",
        "if x:\n",
        "  print(\"Yes, there is at least one match!\")\n",
        "else:\n",
        "  print(\"No match\")"
      ],
      "metadata": {
        "colab": {
          "base_uri": "https://localhost:8080/"
        },
        "id": "FfSb_ZSIsOoP",
        "outputId": "d091beef-4ebe-4478-c938-9afca453bc1e"
      },
      "execution_count": 5,
      "outputs": [
        {
          "output_type": "stream",
          "name": "stdout",
          "text": [
            "['and', 'and']\n",
            "Yes, there is at least one match!\n"
          ]
        }
      ]
    },
    {
      "cell_type": "code",
      "source": [
        "##Returns a match where the specified characters are present, but NOT at the beginning (or at the end) of a word\n",
        "import re\n",
        "txt = \"The family on my father's side is descended from Caspar Keller, a native of Switzerland, who settled in Maryland.\"\n",
        "x = re.findall(r\"\\Band\", txt)\n",
        "print(x)\n",
        "if x:\n",
        "  print(\"Yes, there is at least one match!\")\n",
        "else:\n",
        "  print(\"No match\")"
      ],
      "metadata": {
        "colab": {
          "base_uri": "https://localhost:8080/"
        },
        "id": "eXmxXieYsyh-",
        "outputId": "0996f22e-e63f-4ddc-9409-3fa8ae06805a"
      },
      "execution_count": 6,
      "outputs": [
        {
          "output_type": "stream",
          "name": "stdout",
          "text": [
            "['and', 'and']\n",
            "Yes, there is at least one match!\n"
          ]
        }
      ]
    },
    {
      "cell_type": "code",
      "source": [
        "import re\n",
        "txt = \"The family on my father's side is descended from Caspar Keller and a native of Switzerland, who settled in Maryl.\"\n",
        "x = re.findall(r\"and\\B\", txt)\n",
        "print(x)\n",
        "if x:\n",
        "  print(\"Yes, there is at least one match!\")\n",
        "else:\n",
        "  print(\"No match\")"
      ],
      "metadata": {
        "colab": {
          "base_uri": "https://localhost:8080/"
        },
        "id": "a5tgo_DvtB43",
        "outputId": "ce53cedf-df2a-493c-e9f7-70c68ed826cd"
      },
      "execution_count": 11,
      "outputs": [
        {
          "output_type": "stream",
          "name": "stdout",
          "text": [
            "[]\n",
            "No match\n"
          ]
        }
      ]
    },
    {
      "cell_type": "code",
      "source": [
        "##\tReturns a match where the string contains digits (numbers from 0-9)\n",
        "import re\n",
        "txt = \"I am krishna.I have 20 dollars\"\n",
        "x = re.findall(r\"\\d\", txt)\n",
        "print(x)\n",
        "if x:\n",
        "  print(\"Yes, there is at least one match!\")\n",
        "else:\n",
        "  print(\"No match\")"
      ],
      "metadata": {
        "colab": {
          "base_uri": "https://localhost:8080/"
        },
        "id": "VCScEGDYt7ml",
        "outputId": "04fc1246-5234-43c9-9a25-4bad8f470c10"
      },
      "execution_count": 14,
      "outputs": [
        {
          "output_type": "stream",
          "name": "stdout",
          "text": [
            "['2', '0']\n",
            "Yes, there is at least one match!\n"
          ]
        }
      ]
    },
    {
      "cell_type": "code",
      "source": [
        "##\tReturns a match where the string DOES NOT contain digits\n",
        "import re\n",
        "txt = \"The family on my father's side is descended from Caspar Keller, a native of Switzerland, who settled in Maryland.\"\n",
        "x = re.findall(r\"\\D\", txt)\n",
        "print(x)\n",
        "if x:\n",
        "  print(\"Yes, there is at least one match!\")\n",
        "else:\n",
        "  print(\"No match\")"
      ],
      "metadata": {
        "colab": {
          "base_uri": "https://localhost:8080/"
        },
        "id": "Mo_DxKenuekO",
        "outputId": "cf2842f3-13b6-487b-e292-62753948b932"
      },
      "execution_count": 15,
      "outputs": [
        {
          "output_type": "stream",
          "name": "stdout",
          "text": [
            "['T', 'h', 'e', ' ', 'f', 'a', 'm', 'i', 'l', 'y', ' ', 'o', 'n', ' ', 'm', 'y', ' ', 'f', 'a', 't', 'h', 'e', 'r', \"'\", 's', ' ', 's', 'i', 'd', 'e', ' ', 'i', 's', ' ', 'd', 'e', 's', 'c', 'e', 'n', 'd', 'e', 'd', ' ', 'f', 'r', 'o', 'm', ' ', 'C', 'a', 's', 'p', 'a', 'r', ' ', 'K', 'e', 'l', 'l', 'e', 'r', ',', ' ', 'a', ' ', 'n', 'a', 't', 'i', 'v', 'e', ' ', 'o', 'f', ' ', 'S', 'w', 'i', 't', 'z', 'e', 'r', 'l', 'a', 'n', 'd', ',', ' ', 'w', 'h', 'o', ' ', 's', 'e', 't', 't', 'l', 'e', 'd', ' ', 'i', 'n', ' ', 'M', 'a', 'r', 'y', 'l', 'a', 'n', 'd', '.']\n",
            "Yes, there is at least one match!\n"
          ]
        }
      ]
    },
    {
      "cell_type": "code",
      "source": [
        "##Returns a match where the string contains a white space character\n",
        "import re\n",
        "txt = \"The family on my father's side is descended from Caspar Keller, a native of Switzerland, who settled in Maryland.\"\n",
        "x = re.findall(r\"\\s\", txt)\n",
        "print(x)\n",
        "if x:\n",
        "  print(\"Yes, there is at least one match!\")\n",
        "else:\n",
        "  print(\"No match\")"
      ],
      "metadata": {
        "colab": {
          "base_uri": "https://localhost:8080/"
        },
        "id": "SqnC7B1JvhH_",
        "outputId": "d03924a7-33ee-4254-c967-70a8b03f95af"
      },
      "execution_count": 16,
      "outputs": [
        {
          "output_type": "stream",
          "name": "stdout",
          "text": [
            "[' ', ' ', ' ', ' ', ' ', ' ', ' ', ' ', ' ', ' ', ' ', ' ', ' ', ' ', ' ', ' ', ' ', ' ']\n",
            "Yes, there is at least one match!\n"
          ]
        }
      ]
    },
    {
      "cell_type": "code",
      "source": [
        "##Returns a match where the string DOES NOT contain a white space character\n",
        "import re\n",
        "txt = \"The family on my father's side is descended from Caspar Keller, a native of Switzerland, who settled in Maryland.\"\n",
        "x = re.findall(r\"\\S\", txt)\n",
        "print(x)\n",
        "if x:\n",
        "  print(\"Yes, there is at least one match!\")\n",
        "else:\n",
        "  print(\"No match\")"
      ],
      "metadata": {
        "colab": {
          "base_uri": "https://localhost:8080/"
        },
        "id": "yncNFp4ewEp2",
        "outputId": "316b410c-1518-4308-cdad-0d24aa6081c6"
      },
      "execution_count": 18,
      "outputs": [
        {
          "output_type": "stream",
          "name": "stdout",
          "text": [
            "['T', 'h', 'e', 'f', 'a', 'm', 'i', 'l', 'y', 'o', 'n', 'm', 'y', 'f', 'a', 't', 'h', 'e', 'r', \"'\", 's', 's', 'i', 'd', 'e', 'i', 's', 'd', 'e', 's', 'c', 'e', 'n', 'd', 'e', 'd', 'f', 'r', 'o', 'm', 'C', 'a', 's', 'p', 'a', 'r', 'K', 'e', 'l', 'l', 'e', 'r', ',', 'a', 'n', 'a', 't', 'i', 'v', 'e', 'o', 'f', 'S', 'w', 'i', 't', 'z', 'e', 'r', 'l', 'a', 'n', 'd', ',', 'w', 'h', 'o', 's', 'e', 't', 't', 'l', 'e', 'd', 'i', 'n', 'M', 'a', 'r', 'y', 'l', 'a', 'n', 'd', '.']\n",
            "Yes, there is at least one match!\n"
          ]
        }
      ]
    },
    {
      "cell_type": "code",
      "source": [
        "##\tReturns a match where the string contains any word characters (characters from a to Z, digits from 0-9, and the underscore _ character)\n",
        "import re\n",
        "txt = \"The family on my father's side is descended from Caspar Keller, a native of Switzerland, who settled in Maryland.\"\n",
        "x = re.findall(r\"\\w\", txt)\n",
        "print(x)\n",
        "if x:\n",
        "  print(\"Yes, there is at least one match!\")\n",
        "else:\n",
        "  print(\"No match\")"
      ],
      "metadata": {
        "colab": {
          "base_uri": "https://localhost:8080/"
        },
        "id": "ezhcgg_Gw3km",
        "outputId": "82c74d2f-7697-45fb-a05e-788838abd3aa"
      },
      "execution_count": 19,
      "outputs": [
        {
          "output_type": "stream",
          "name": "stdout",
          "text": [
            "['T', 'h', 'e', 'f', 'a', 'm', 'i', 'l', 'y', 'o', 'n', 'm', 'y', 'f', 'a', 't', 'h', 'e', 'r', 's', 's', 'i', 'd', 'e', 'i', 's', 'd', 'e', 's', 'c', 'e', 'n', 'd', 'e', 'd', 'f', 'r', 'o', 'm', 'C', 'a', 's', 'p', 'a', 'r', 'K', 'e', 'l', 'l', 'e', 'r', 'a', 'n', 'a', 't', 'i', 'v', 'e', 'o', 'f', 'S', 'w', 'i', 't', 'z', 'e', 'r', 'l', 'a', 'n', 'd', 'w', 'h', 'o', 's', 'e', 't', 't', 'l', 'e', 'd', 'i', 'n', 'M', 'a', 'r', 'y', 'l', 'a', 'n', 'd']\n",
            "Yes, there is at least one match!\n"
          ]
        }
      ]
    },
    {
      "cell_type": "code",
      "source": [
        "##Returns a match where the string DOES NOT contain any word characters\n",
        "import re\n",
        "txt = \"The family on my father's side is descended from Caspar Keller, a native of Switzerland, who settled in Maryland.\"\n",
        "x = re.findall(r\"\\W\", txt)\n",
        "print(x)\n",
        "if x:\n",
        "  print(\"Yes, there is at least one match!\")\n",
        "else:\n",
        "  print(\"No match\")"
      ],
      "metadata": {
        "colab": {
          "base_uri": "https://localhost:8080/"
        },
        "id": "c8P3NTlrxEmG",
        "outputId": "0f40b280-70e4-44d5-8d14-4a3d4c6643c0"
      },
      "execution_count": 20,
      "outputs": [
        {
          "output_type": "stream",
          "name": "stdout",
          "text": [
            "[' ', ' ', ' ', ' ', \"'\", ' ', ' ', ' ', ' ', ' ', ' ', ',', ' ', ' ', ' ', ' ', ',', ' ', ' ', ' ', ' ', '.']\n",
            "Yes, there is at least one match!\n"
          ]
        }
      ]
    },
    {
      "cell_type": "code",
      "source": [
        "##Returns a match if the specified characters are at the end of the string\n",
        "import re\n",
        "txt = \"The family on my father's side is descended from Caspar Keller, a native of Switzerland, who settled in Maryland\"\n",
        "x = re.findall(r\"Maryland\\Z\", txt)\n",
        "print(x)\n",
        "if x:\n",
        "  print(\"Yes, there is at least one match!\")\n",
        "else:\n",
        "  print(\"No match\")"
      ],
      "metadata": {
        "colab": {
          "base_uri": "https://localhost:8080/"
        },
        "id": "9jj3BsAUxSTW",
        "outputId": "3dc1c000-26d9-4b8e-a56c-6cf574600c6e"
      },
      "execution_count": 27,
      "outputs": [
        {
          "output_type": "stream",
          "name": "stdout",
          "text": [
            "['Maryland']\n",
            "Yes, there is at least one match!\n"
          ]
        }
      ]
    },
    {
      "cell_type": "markdown",
      "source": [
        "The sub() Function"
      ],
      "metadata": {
        "id": "A4gWeH99zOn_"
      }
    },
    {
      "cell_type": "code",
      "source": [
        "##Replace every white-space character with the number 6:\n",
        "import re\n",
        "txt = \"The family on my father's side is descended from Caspar Keller, a native of Switzerland, who settled in Maryland\"\n",
        "x = re.sub(\"\\s\", \"6\", txt)\n",
        "print(x)"
      ],
      "metadata": {
        "colab": {
          "base_uri": "https://localhost:8080/"
        },
        "id": "ya8HfVSvzPr_",
        "outputId": "07480bbc-2685-45e2-f721-7241bf537690"
      },
      "execution_count": 28,
      "outputs": [
        {
          "output_type": "stream",
          "name": "stdout",
          "text": [
            "The6family6on6my6father's6side6is6descended6from6Caspar6Keller,6a6native6of6Switzerland,6who6settled6in6Maryland\n"
          ]
        }
      ]
    },
    {
      "cell_type": "code",
      "source": [
        "##Replace the first 5 occurrences:\n",
        "import re\n",
        "txt = \"The family on my father's side is descended from Caspar Keller, a native of Switzerland, who settled in Maryland\"\n",
        "x = re.sub(\"\\s\", \"6\", txt,5)\n",
        "print(x)"
      ],
      "metadata": {
        "colab": {
          "base_uri": "https://localhost:8080/"
        },
        "id": "1egG7I1bzikO",
        "outputId": "285f373d-e445-4314-e3b5-d45920963a46"
      },
      "execution_count": 29,
      "outputs": [
        {
          "output_type": "stream",
          "name": "stdout",
          "text": [
            "The6family6on6my6father's6side is descended from Caspar Keller, a native of Switzerland, who settled in Maryland\n"
          ]
        }
      ]
    },
    {
      "cell_type": "markdown",
      "source": [
        "Match Object,                                                                     \n",
        "A Match Object is an object containing information about the search and the result."
      ],
      "metadata": {
        "id": "j7CaTNEC1fjl"
      }
    },
    {
      "cell_type": "code",
      "source": [
        "import re\n",
        "txt = \"The family on my father's side is descended from Caspar Keller, a native of Switzerland, who settled in Maryland\"\n",
        "x = re.search(\"and\", txt)\n",
        "print(x)"
      ],
      "metadata": {
        "colab": {
          "base_uri": "https://localhost:8080/"
        },
        "id": "73Oumh7k1H32",
        "outputId": "27900bed-2d83-46a4-de59-5b746bf57071"
      },
      "execution_count": 35,
      "outputs": [
        {
          "output_type": "stream",
          "name": "stdout",
          "text": [
            "<re.Match object; span=(84, 87), match='and'>\n"
          ]
        }
      ]
    },
    {
      "cell_type": "markdown",
      "source": [
        "The Match object has properties and methods used to retrieve information about the search, and the result:                                                       \n",
        "span() returns a tuple containing the start-, and end positions of the match."
      ],
      "metadata": {
        "id": "mSjEuNcD3Wyl"
      }
    },
    {
      "cell_type": "markdown",
      "source": [
        "Print the position (start- and end-position) of the first match occurrence.\n",
        "\n",
        "The regular expression looks for any words that starts with an upper case \"S\":"
      ],
      "metadata": {
        "id": "CSwb3L0a3k8d"
      }
    },
    {
      "cell_type": "code",
      "source": [
        "##span() returns a tuple containing the start-, and end positions of the match.\n",
        "import re\n",
        "txt = \"The family on my father's side is descended from Caspar Keller, a native of Switzerland, who settled in Maryland\"\n",
        "x = re.search(r\"\\bf\\w+\", txt)\n",
        "print(x.span())"
      ],
      "metadata": {
        "colab": {
          "base_uri": "https://localhost:8080/"
        },
        "id": "lRns7fAL3eEF",
        "outputId": "4a382bf2-2ed5-44ba-dac7-9a650b98284c"
      },
      "execution_count": 41,
      "outputs": [
        {
          "output_type": "stream",
          "name": "stdout",
          "text": [
            "(4, 10)\n"
          ]
        }
      ]
    },
    {
      "cell_type": "code",
      "source": [
        "##string returns the string passed into the function\n",
        "import re\n",
        "txt = \"The family on my father's side is descended from Caspar Keller, a native of Switzerland, who settled in Maryland\"\n",
        "x = re.search(r\"\\bf\\w+\", txt)\n",
        "print(x.string)"
      ],
      "metadata": {
        "colab": {
          "base_uri": "https://localhost:8080/"
        },
        "id": "vmOaYubg32uF",
        "outputId": "a883761b-9eb7-446f-e1a6-97aad2187af3"
      },
      "execution_count": 39,
      "outputs": [
        {
          "output_type": "stream",
          "name": "stdout",
          "text": [
            "The family on my father's side is descended from Caspar Keller, a native of Switzerland, who settled in Maryland\n"
          ]
        }
      ]
    },
    {
      "cell_type": "markdown",
      "source": [
        "Print the part of the string where there was a match.\n",
        "\n",
        "The regular expression looks for any words that starts with an upper case \"S\":"
      ],
      "metadata": {
        "id": "IJ-TF3hk4NDl"
      }
    },
    {
      "cell_type": "code",
      "source": [
        "##group() returns the part of the string where there was a match\n",
        "import re\n",
        "txt = \"The family on my father's side is descended from Caspar Keller, a native of Switzerland, who settled in Maryland\"\n",
        "x = re.search(r\"\\bf\\w+\", txt)\n",
        "print(x.group())"
      ],
      "metadata": {
        "colab": {
          "base_uri": "https://localhost:8080/"
        },
        "id": "zXhv4q-J4JsN",
        "outputId": "762ac442-2a7d-43f0-8854-a0110b43f4aa"
      },
      "execution_count": 40,
      "outputs": [
        {
          "output_type": "stream",
          "name": "stdout",
          "text": [
            "family\n"
          ]
        }
      ]
    }
  ]
}