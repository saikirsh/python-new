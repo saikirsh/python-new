{
  "nbformat": 4,
  "nbformat_minor": 0,
  "metadata": {
    "colab": {
      "name": "sets.ipynb",
      "provenance": [],
      "authorship_tag": "ABX9TyOlqERUI2E37QW/kooMLgY0",
      "include_colab_link": true
    },
    "kernelspec": {
      "name": "python3",
      "display_name": "Python 3"
    },
    "language_info": {
      "name": "python"
    }
  },
  "cells": [
    {
      "cell_type": "markdown",
      "metadata": {
        "id": "view-in-github",
        "colab_type": "text"
      },
      "source": [
        "<a href=\"https://colab.research.google.com/github/saikirsh/python-new/blob/module-2/sets.ipynb\" target=\"_parent\"><img src=\"https://colab.research.google.com/assets/colab-badge.svg\" alt=\"Open In Colab\"/></a>"
      ]
    },
    {
      "cell_type": "markdown",
      "source": [
        "SETS"
      ],
      "metadata": {
        "id": "1EsHBrRaBnis"
      }
    },
    {
      "cell_type": "code",
      "execution_count": null,
      "metadata": {
        "colab": {
          "base_uri": "https://localhost:8080/"
        },
        "id": "FY4teIh_BkGJ",
        "outputId": "4508c1eb-d9cc-42b9-821a-9b9cecaabe89"
      },
      "outputs": [
        {
          "output_type": "stream",
          "name": "stdout",
          "text": [
            "{'sai', 'krishna', 'praneeth'}\n"
          ]
        }
      ],
      "source": [
        "#Python Sets\n",
        "x={\"sai\",\"krishna\",\"praneeth\"}\n",
        "print(x)"
      ]
    },
    {
      "cell_type": "code",
      "source": [
        "# SETS Duplicates Not Allowed\n",
        "x={\"sai\",\"krishna\",\"praneeth\",\"sai\"}\n",
        "print(x)"
      ],
      "metadata": {
        "colab": {
          "base_uri": "https://localhost:8080/"
        },
        "id": "VH9YOGLuBxlD",
        "outputId": "9a6110a9-bbf1-4676-c714-1fc92bf4ebe0"
      },
      "execution_count": null,
      "outputs": [
        {
          "output_type": "stream",
          "name": "stdout",
          "text": [
            "{'sai', 'krishna', 'praneeth'}\n"
          ]
        }
      ]
    },
    {
      "cell_type": "code",
      "source": [
        "#Get the Length of a Set\n",
        "x={\"sai\",\"krishna\",\"praneeth\"}\n",
        "print(len(x))"
      ],
      "metadata": {
        "colab": {
          "base_uri": "https://localhost:8080/"
        },
        "id": "HNjnc8v_B-98",
        "outputId": "d4c2a4ba-340b-44cc-c05d-5115c500e95f"
      },
      "execution_count": null,
      "outputs": [
        {
          "output_type": "stream",
          "name": "stdout",
          "text": [
            "3\n"
          ]
        }
      ]
    },
    {
      "cell_type": "code",
      "source": [
        "#Set Items - Data Types\n",
        "x={\"sai\",\"krishna\",\"praneeth\"}\n",
        "y = {1, 5, 7, 9, 3}\n",
        "z = {True, False, False}\n",
        "print(x)\n",
        "print(y)\n",
        "print(z)"
      ],
      "metadata": {
        "colab": {
          "base_uri": "https://localhost:8080/"
        },
        "id": "CsGS28V8CTr7",
        "outputId": "40cad74f-4a85-4abc-ca07-ff56c446507a"
      },
      "execution_count": null,
      "outputs": [
        {
          "output_type": "stream",
          "name": "stdout",
          "text": [
            "{'sai', 'krishna', 'praneeth'}\n",
            "{1, 3, 5, 7, 9}\n",
            "{False, True}\n"
          ]
        }
      ]
    },
    {
      "cell_type": "code",
      "source": [
        "# A set with strings, integers and boolean values:\n",
        "x = {\"sai\", 19, False, 18, \"not\"}\n",
        "\n",
        "print(x)"
      ],
      "metadata": {
        "colab": {
          "base_uri": "https://localhost:8080/"
        },
        "id": "-kTCJQtrC71j",
        "outputId": "8c6d866f-4912-46e1-ef1b-46359408fbda"
      },
      "execution_count": null,
      "outputs": [
        {
          "output_type": "stream",
          "name": "stdout",
          "text": [
            "{False, 'sai', 18, 19, 'not'}\n"
          ]
        }
      ]
    },
    {
      "cell_type": "code",
      "source": [
        "# types in sets \n",
        "x={\"sai\",\"krishna\",\"praneeth\"}\n",
        "print(type(x))"
      ],
      "metadata": {
        "colab": {
          "base_uri": "https://localhost:8080/"
        },
        "id": "JF5bmZz7DjZk",
        "outputId": "add08c3f-b814-4ae8-db47-f8f97aee7a94"
      },
      "execution_count": null,
      "outputs": [
        {
          "output_type": "stream",
          "name": "stdout",
          "text": [
            "<class 'set'>\n"
          ]
        }
      ]
    },
    {
      "cell_type": "code",
      "source": [
        "#The set() Constructor\n",
        "x=set((\"sai\",\"krishna\",\"praneeth\"))\n",
        "print(x)"
      ],
      "metadata": {
        "colab": {
          "base_uri": "https://localhost:8080/"
        },
        "id": "03pXw1WID1iL",
        "outputId": "ad982045-8e47-4f94-b6d9-20540d4c836c"
      },
      "execution_count": null,
      "outputs": [
        {
          "output_type": "stream",
          "name": "stdout",
          "text": [
            "{'sai', 'krishna', 'praneeth'}\n"
          ]
        }
      ]
    },
    {
      "cell_type": "code",
      "source": [
        "#Access Items\n",
        "x={\"sai\",\"krishna\",\"praneeth\"}\n",
        "\n",
        "for y in x:\n",
        "  print(y)\n"
      ],
      "metadata": {
        "colab": {
          "base_uri": "https://localhost:8080/"
        },
        "id": "5LiNP-_-HM0N",
        "outputId": "a370c75f-b14c-411b-8c84-21802b4e9a95"
      },
      "execution_count": null,
      "outputs": [
        {
          "output_type": "stream",
          "name": "stdout",
          "text": [
            "krishna\n",
            "sai\n",
            "praneeth\n"
          ]
        }
      ]
    },
    {
      "cell_type": "code",
      "source": [
        "x={\"sai\",\"krishna\",\"praneeth\"}\n",
        "\n",
        "print(\"sai\" in x)\n"
      ],
      "metadata": {
        "colab": {
          "base_uri": "https://localhost:8080/"
        },
        "id": "xAsc0dkIJgjD",
        "outputId": "552fb65d-e34d-479f-f1aa-1f5e8ea67d17"
      },
      "execution_count": null,
      "outputs": [
        {
          "output_type": "stream",
          "name": "stdout",
          "text": [
            "True\n"
          ]
        }
      ]
    },
    {
      "cell_type": "code",
      "source": [
        "x={\"sai\",\"krishna\",\"praneeth\"}\n",
        "\n",
        "print(\"vivek\" in x)\n"
      ],
      "metadata": {
        "colab": {
          "base_uri": "https://localhost:8080/"
        },
        "id": "x4VdwW5vKQcL",
        "outputId": "656845e7-2301-428b-f456-86ecd05c90ee"
      },
      "execution_count": null,
      "outputs": [
        {
          "output_type": "stream",
          "name": "stdout",
          "text": [
            "False\n"
          ]
        }
      ]
    },
    {
      "cell_type": "code",
      "source": [
        "#Add Items\n",
        "x={\"sai\",\"krishna\",\"praneeth\"}\n",
        "\n",
        "x.add(\"sheshu\")\n",
        "\n",
        "print(x)"
      ],
      "metadata": {
        "colab": {
          "base_uri": "https://localhost:8080/"
        },
        "id": "c_IZbHVhKUhj",
        "outputId": "ba18fbad-9853-4de0-fe94-74d6f82d7a44"
      },
      "execution_count": null,
      "outputs": [
        {
          "output_type": "stream",
          "name": "stdout",
          "text": [
            "{'krishna', 'sheshu', 'sai', 'praneeth'}\n"
          ]
        }
      ]
    },
    {
      "cell_type": "code",
      "source": [
        "#Add Sets\n",
        "x={\"sai\",\"krishna\",\"praneeth\"}\n",
        "y={\"sheshu\",\"vivek\",\"ashok\"}\n",
        "x.update(y)\n",
        "\n",
        "print(x)\n"
      ],
      "metadata": {
        "colab": {
          "base_uri": "https://localhost:8080/"
        },
        "id": "5ccyT4O_KkuC",
        "outputId": "71ee8986-44c4-4878-d183-f8fbff491451"
      },
      "execution_count": null,
      "outputs": [
        {
          "output_type": "stream",
          "name": "stdout",
          "text": [
            "{'krishna', 'sheshu', 'sai', 'praneeth', 'ashok', 'vivek'}\n"
          ]
        }
      ]
    },
    {
      "cell_type": "code",
      "source": [
        "#Add Any Iterable\n",
        "x={\"sai\",\"krishna\",\"praneeth\"}\n",
        "y= [\"sheshu\", \"vivek\"]\n",
        "\n",
        "x.update(y)\n",
        "\n",
        "print(x)"
      ],
      "metadata": {
        "colab": {
          "base_uri": "https://localhost:8080/"
        },
        "id": "ttHdsythMVq6",
        "outputId": "15c392c5-3890-4767-f416-abb1da25991a"
      },
      "execution_count": null,
      "outputs": [
        {
          "output_type": "stream",
          "name": "stdout",
          "text": [
            "{'praneeth', 'vivek', 'krishna', 'sheshu', 'sai'}\n"
          ]
        }
      ]
    },
    {
      "cell_type": "code",
      "source": [
        "# Remove Item\n",
        "x={\"sai\",\"krishna\",\"praneeth\"}\n",
        "\n",
        "x.remove(\"praneeth\")\n",
        "\n",
        "print(x)\n"
      ],
      "metadata": {
        "colab": {
          "base_uri": "https://localhost:8080/"
        },
        "id": "rgF5WNCiMdTR",
        "outputId": "eac9fb89-7202-48f6-857e-c27c898e32c0"
      },
      "execution_count": null,
      "outputs": [
        {
          "output_type": "stream",
          "name": "stdout",
          "text": [
            "{'krishna', 'sai'}\n"
          ]
        }
      ]
    },
    {
      "cell_type": "code",
      "source": [
        "#If the item to remove does not exist, discard() will NOT raise an error.\n",
        "x={\"sai\",\"krishna\",\"praneeth\"}\n",
        "\n",
        "x.discard(\"vivek\")\n",
        "\n",
        "print(x)"
      ],
      "metadata": {
        "colab": {
          "base_uri": "https://localhost:8080/"
        },
        "id": "d29mT4HqNAUZ",
        "outputId": "cc738ea8-b7d1-4669-a6c1-bde3d10b5139"
      },
      "execution_count": null,
      "outputs": [
        {
          "output_type": "stream",
          "name": "stdout",
          "text": [
            "{'krishna', 'sai', 'praneeth'}\n"
          ]
        }
      ]
    },
    {
      "cell_type": "markdown",
      "source": [
        "Note: Sets are unordered, so when using the pop() method, you do not know which item that gets removed.\n"
      ],
      "metadata": {
        "id": "MbgWB7HxNtlC"
      }
    },
    {
      "cell_type": "code",
      "source": [
        "x={\"sai\",\"krishna\",\"praneeth\"}\n",
        "\n",
        "x.pop()\n",
        "\n",
        "print(x)"
      ],
      "metadata": {
        "colab": {
          "base_uri": "https://localhost:8080/"
        },
        "id": "63YLyxdQNu8o",
        "outputId": "840f33b3-3d5e-48c4-b76f-6373b9727fd9"
      },
      "execution_count": null,
      "outputs": [
        {
          "output_type": "stream",
          "name": "stdout",
          "text": [
            "{'sai', 'praneeth'}\n"
          ]
        }
      ]
    },
    {
      "cell_type": "code",
      "source": [
        "x={\"sai\",\"krishna\",\"praneeth\"}\n",
        "\n",
        "x.clear()\n",
        "\n",
        "print(x)"
      ],
      "metadata": {
        "colab": {
          "base_uri": "https://localhost:8080/"
        },
        "id": "dCe6EpBJN9EB",
        "outputId": "3d461f93-9ab3-4573-d4dc-d7f9bf401d41"
      },
      "execution_count": null,
      "outputs": [
        {
          "output_type": "stream",
          "name": "stdout",
          "text": [
            "set()\n"
          ]
        }
      ]
    },
    {
      "cell_type": "code",
      "source": [
        "# loop items\n",
        "x = {\"apple\", \"banana\", \"cherry\"}\n",
        "\n",
        "for y in x:\n",
        "  print(y)\n"
      ],
      "metadata": {
        "colab": {
          "base_uri": "https://localhost:8080/"
        },
        "id": "9iYsihiOOsyY",
        "outputId": "1fb23125-7519-4262-bb32-f1a813d4a838"
      },
      "execution_count": null,
      "outputs": [
        {
          "output_type": "stream",
          "name": "stdout",
          "text": [
            "banana\n",
            "apple\n",
            "cherry\n"
          ]
        }
      ]
    },
    {
      "cell_type": "code",
      "source": [
        "#Join Two Sets\n",
        "x = {\"apple\", \"banana\", \"cherry\"}\n",
        "y={\"a\",\"b\",\"c\"}\n",
        "\n",
        "z=x.union(y)\n",
        "print(z)"
      ],
      "metadata": {
        "colab": {
          "base_uri": "https://localhost:8080/"
        },
        "id": "yUZ3mhZzPPJI",
        "outputId": "e38ceb5d-6abb-4b0d-dc02-5022c3e5dfcc"
      },
      "execution_count": null,
      "outputs": [
        {
          "output_type": "stream",
          "name": "stdout",
          "text": [
            "{'b', 'apple', 'c', 'a', 'banana', 'cherry'}\n"
          ]
        }
      ]
    },
    {
      "cell_type": "code",
      "source": [
        "x = {\"apple\", \"banana\", \"cherry\"}\n",
        "y={\"a\",\"b\",\"c\"}\n",
        "\n",
        "x.update(y)\n",
        "print(x)"
      ],
      "metadata": {
        "colab": {
          "base_uri": "https://localhost:8080/"
        },
        "id": "f6_U9v4aPsCX",
        "outputId": "3909c739-2e88-4cad-cb72-b1cfaed4c744"
      },
      "execution_count": null,
      "outputs": [
        {
          "output_type": "stream",
          "name": "stdout",
          "text": [
            "{'b', 'apple', 'c', 'a', 'banana', 'cherry'}\n"
          ]
        }
      ]
    },
    {
      "cell_type": "code",
      "source": [
        "#Keep ONLY the Duplicates\n",
        "x={\"sai\",\"vivek\",\"praneeth\"}\n",
        "y={\"sheshu\",\"vivek\",\"sai\"}\n",
        "\n",
        "x.intersection_update(y)\n",
        "print(x)"
      ],
      "metadata": {
        "colab": {
          "base_uri": "https://localhost:8080/"
        },
        "id": "uGZjeiD5QDLv",
        "outputId": "7902410c-1fa5-4c88-dbbc-42ca0c77ba89"
      },
      "execution_count": null,
      "outputs": [
        {
          "output_type": "stream",
          "name": "stdout",
          "text": [
            "{'sai', 'vivek'}\n"
          ]
        }
      ]
    },
    {
      "cell_type": "code",
      "source": [
        "x={\"sai\",\"vivek\",\"praneeth\"}\n",
        "y={\"sheshu\",\"vivek\",\"sai\"}\n",
        "\n",
        "z=x.intersection(y)\n",
        "print(z)"
      ],
      "metadata": {
        "colab": {
          "base_uri": "https://localhost:8080/"
        },
        "id": "sgQHUcPyQV-v",
        "outputId": "d74e468f-87d4-4f45-f8a7-82fe01b7db38"
      },
      "execution_count": null,
      "outputs": [
        {
          "output_type": "stream",
          "name": "stdout",
          "text": [
            "{'sai', 'vivek'}\n"
          ]
        }
      ]
    },
    {
      "cell_type": "code",
      "source": [
        "#Keep All, But NOT the Duplicates\n",
        "x={\"sai\",\"krishna\",\"praneeth\"}\n",
        "y={\"sheshu\",\"vivek\",\"sai\"}\n",
        "\n",
        "x.symmetric_difference_update(y)\n",
        "print(x)"
      ],
      "metadata": {
        "colab": {
          "base_uri": "https://localhost:8080/"
        },
        "id": "auwYBCS8Q-eX",
        "outputId": "d90b078b-7b79-486b-8f71-3624e83c37d8"
      },
      "execution_count": null,
      "outputs": [
        {
          "output_type": "stream",
          "name": "stdout",
          "text": [
            "{'praneeth', 'vivek', 'krishna', 'sheshu'}\n"
          ]
        }
      ]
    },
    {
      "cell_type": "code",
      "source": [
        "x={\"sai\",\"krishna\",\"praneeth\"}\n",
        "y={\"sheshu\",\"vivek\",\"sai\"}\n",
        "\n",
        "z=x.symmetric_difference(y)\n",
        "print(z)"
      ],
      "metadata": {
        "colab": {
          "base_uri": "https://localhost:8080/"
        },
        "id": "5ZymL43cRNDN",
        "outputId": "61c64100-b39e-4f3f-c10c-94e152f94f17"
      },
      "execution_count": null,
      "outputs": [
        {
          "output_type": "stream",
          "name": "stdout",
          "text": [
            "{'praneeth', 'vivek', 'sheshu', 'krishna'}\n"
          ]
        }
      ]
    }
  ]
}