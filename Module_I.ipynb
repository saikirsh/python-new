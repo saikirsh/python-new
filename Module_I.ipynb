{
  "cells": [
    {
      "cell_type": "markdown",
      "metadata": {
        "id": "view-in-github",
        "colab_type": "text"
      },
      "source": [
        "<a href=\"https://colab.research.google.com/github/saikirsh/python-new/blob/module-1/Module_I.ipynb\" target=\"_parent\"><img src=\"https://colab.research.google.com/assets/colab-badge.svg\" alt=\"Open In Colab\"/></a>"
      ]
    },
    {
      "cell_type": "markdown",
      "metadata": {
        "id": "20njoN0dSAmJ"
      },
      "source": [
        "1.Accept input from user and store it in variable and print the value"
      ]
    },
    {
      "cell_type": "code",
      "execution_count": null,
      "metadata": {
        "colab": {
          "base_uri": "https://localhost:8080/"
        },
        "id": "jWzqJBeaRVJT",
        "outputId": "49c31821-de72-44b7-bee8-1edde27ae51d"
      },
      "outputs": [
        {
          "output_type": "stream",
          "name": "stdout",
          "text": [
            "enter the value 5\n",
            "5\n"
          ]
        }
      ],
      "source": [
        "x=int(input(\"enter the value\"))\n",
        "print(x)"
      ]
    },
    {
      "cell_type": "markdown",
      "metadata": {
        "id": "E8nX5353WGlp"
      },
      "source": [
        "2.Use of print statements and use of (.format )for printing different data types\n"
      ]
    },
    {
      "cell_type": "code",
      "execution_count": null,
      "metadata": {
        "colab": {
          "base_uri": "https://localhost:8080/"
        },
        "id": "n9VcqcWBWLTh",
        "outputId": "c9f00d58-53ce-4b55-f0ce-4ef798202361"
      },
      "outputs": [
        {
          "name": "stdout",
          "output_type": "stream",
          "text": [
            "<class 'int'>\n",
            "<class 'float'>\n",
            "<class 'complex'>\n"
          ]
        }
      ],
      "source": [
        "a=1\n",
        "b=3.4\n",
        "c=1j\n",
        "print(type(a))\n",
        "print(type(b))\n",
        "print(type(c))"
      ]
    },
    {
      "cell_type": "markdown",
      "metadata": {
        "id": "viketG2dSp7p"
      },
      "source": [
        "3.Take 2 numbers as user input and add, multiply, divide, subtract, remainder and print\n",
        "the output (Same operations on floating point input as well)"
      ]
    },
    {
      "cell_type": "code",
      "execution_count": null,
      "metadata": {
        "colab": {
          "base_uri": "https://localhost:8080/"
        },
        "id": "vfQeq9MjScKP",
        "outputId": "1a6481b5-22be-452d-b3a4-61b38fc6def9"
      },
      "outputs": [
        {
          "output_type": "stream",
          "name": "stdout",
          "text": [
            "5\n",
            "10\n",
            "add 15.0\n",
            "multi 50.0\n",
            "sub -5.0\n",
            "divi 0.5\n"
          ]
        }
      ],
      "source": [
        "x=int(input())\n",
        "y=float(input())\n",
        "print(\"add\",x+y)\n",
        "print(\"multi\",x*y)\n",
        "print(\"sub\",x-y)\n",
        "print(\"divi\",x/y)"
      ]
    },
    {
      "cell_type": "markdown",
      "metadata": {
        "id": "henGWXwkTs8o"
      },
      "source": [
        "4.Conversion of one unit to another (such as hours to minutes, miles to km and etc)"
      ]
    },
    {
      "cell_type": "code",
      "execution_count": null,
      "metadata": {
        "colab": {
          "base_uri": "https://localhost:8080/"
        },
        "id": "oalRfgNzTzcg",
        "outputId": "ad109633-a99a-4202-e10d-259845913927"
      },
      "outputs": [
        {
          "name": "stdout",
          "output_type": "stream",
          "text": [
            "40\n",
            "2400.0\n",
            "64.3736\n"
          ]
        }
      ],
      "source": [
        "x=float(input())\n",
        "\n",
        "print(x*60)  # hours to min \n",
        "print(x*1.60934)  # miles to km \n"
      ]
    },
    {
      "cell_type": "markdown",
      "metadata": {
        "id": "ZOjYcKmmVT-Z"
      },
      "source": [
        "5. Usage of mathematical functions in python like math.ceil, floor, fabs, fmod, trunc,\n",
        "pow, sqrt etc."
      ]
    },
    {
      "cell_type": "code",
      "execution_count": null,
      "metadata": {
        "colab": {
          "base_uri": "https://localhost:8080/"
        },
        "id": "W4sqBcgGVcRI",
        "outputId": "2a9dddc7-5ea7-43ac-a61c-c4e805881314"
      },
      "outputs": [
        {
          "name": "stdout",
          "output_type": "stream",
          "text": [
            "3\n",
            "2\n",
            "2.516\n",
            "5.693\n"
          ]
        }
      ],
      "source": [
        "import math\n",
        "\n",
        "x=2.365\n",
        "print(math.ceil(x))\n",
        "y=2.3698\n",
        "print(math.floor(y))\n",
        "z=2.516\n",
        "print(math.fabs(z))\n",
        "a=-5.693\n",
        "print(math.copysign(a,z))\n"
      ]
    },
    {
      "cell_type": "markdown",
      "metadata": {
        "id": "RB6-nOm3aZRa"
      },
      "source": [
        "6.Building a mathematical calculator that can perform operations according to user input.\n",
        "Use decision making statement."
      ]
    },
    {
      "cell_type": "code",
      "execution_count": null,
      "metadata": {
        "colab": {
          "base_uri": "https://localhost:8080/"
        },
        "id": "GXzGXkhDah5b",
        "outputId": "56c6fc61-2fc3-4540-abef-7eb57b06a71c"
      },
      "outputs": [
        {
          "name": "stdout",
          "output_type": "stream",
          "text": [
            "Select operation.\n",
            "1.Add\n",
            "2.Subtract\n",
            "3.Multiply\n",
            "4.Divide\n",
            "Enter choice(1/2/3/4): 5\n",
            "Invalid Input\n",
            "Enter choice(1/2/3/4): 5\n",
            "Invalid Input\n",
            "Enter choice(1/2/3/4): 2\n",
            "Enter first number: 4\n",
            "Enter second number: 5\n",
            "4.0 - 5.0 = -1.0\n",
            "Let's do next calculation? (yes/no): 2\n",
            "Enter choice(1/2/3/4): 1\n",
            "Enter first number: 2\n",
            "Enter second number: 3\n",
            "2.0 + 3.0 = 5.0\n",
            "Let's do next calculation? (yes/no): yes\n",
            "Enter choice(1/2/3/4): 1\n",
            "Enter first number: 2\n",
            "Enter second number: 3\n",
            "2.0 + 3.0 = 5.0\n",
            "Let's do next calculation? (yes/no): no\n"
          ]
        }
      ],
      "source": [
        "def add(x, y):\n",
        "    return x + y\n",
        "def subtract(x, y):\n",
        "    return x - y\n",
        "def multiply(x, y):\n",
        "    return x * y\n",
        "def divide(x, y):\n",
        "    return x / y\n",
        "\n",
        "\n",
        "print(\"Select operation.\")\n",
        "print(\"1.Add\")\n",
        "print(\"2.Subtract\")\n",
        "print(\"3.Multiply\")\n",
        "print(\"4.Divide\")\n",
        "\n",
        "while True:\n",
        "  \n",
        "    choice = input(\"Enter choice(1/2/3/4): \")\n",
        "\n",
        "    if choice in ('1', '2', '3', '4'):\n",
        "        num1 = float(input(\"Enter first number: \"))\n",
        "        num2 = float(input(\"Enter second number: \"))\n",
        "\n",
        "        if choice == '1':\n",
        "            print(num1, \"+\", num2, \"=\", add(num1, num2))\n",
        "\n",
        "        elif choice == '2':\n",
        "            print(num1, \"-\", num2, \"=\", subtract(num1, num2))\n",
        "\n",
        "        elif choice == '3':\n",
        "            print(num1, \"*\", num2, \"=\", multiply(num1, num2))\n",
        "\n",
        "        elif choice == '4':\n",
        "            print(num1, \"/\", num2, \"=\", divide(num1, num2))\n",
        "        \n",
        "        next_calculation = input(\"Let's do next calculation? (yes/no): \")\n",
        "        if next_calculation == \"no\":\n",
        "          break\n",
        "    \n",
        "    else:\n",
        "        print(\"Invalid Input\")"
      ]
    },
    {
      "cell_type": "markdown",
      "source": [
        "7.x Accepting 5 different subject marks from user and displaying the grade of the student."
      ],
      "metadata": {
        "id": "rPvLjLnayDKk"
      }
    },
    {
      "cell_type": "code",
      "source": [
        "a=int(input())\n",
        "b=int(input())\n",
        "c=int(input())\n",
        "d=int(input())\n",
        "e=int(input())\n",
        "total=a+b+c+d+e;\n",
        "if total>=90:\n",
        "  print(\"10 points\")\n",
        "elif total>80 and total<90:\n",
        "  print(\"9 points\")\n",
        "elif total>70 and total<60:\n",
        "  print(\"8 points\")\n",
        "else:\n",
        "  print(\"Better luck next time\")"
      ],
      "metadata": {
        "colab": {
          "base_uri": "https://localhost:8080/"
        },
        "id": "OOnqBXPTyIUD",
        "outputId": "dcb41e5d-dbff-43f4-c90b-9db6d1c91516"
      },
      "execution_count": null,
      "outputs": [
        {
          "output_type": "stream",
          "name": "stdout",
          "text": [
            "82\n",
            "95\n",
            "78\n",
            "86\n",
            "90\n",
            "10 points\n"
          ]
        }
      ]
    },
    {
      "cell_type": "markdown",
      "source": [
        "8.Printing all even numbers, odd numbers, count of even numbers, count of odd numbers within a given range"
      ],
      "metadata": {
        "id": "eiAk7C3ZyTbL"
      }
    },
    {
      "cell_type": "code",
      "source": [
        "even,odd=0,0\n",
        "for i in range(1,100):\n",
        " if i%2 == 0:\n",
        "   print(i)\n",
        "   even+=1\n",
        "\n",
        " elif i%2!=0:\n",
        "   print(i)\n",
        "   odd+=1\n",
        "   \n",
        "print(\"Odd:\",odd)\n",
        "print(\"Even :\",even)"
      ],
      "metadata": {
        "colab": {
          "base_uri": "https://localhost:8080/"
        },
        "id": "XN7kCQC6yZ-s",
        "outputId": "ca9d96b3-c28a-4671-d142-35a42bbde4fe"
      },
      "execution_count": null,
      "outputs": [
        {
          "output_type": "stream",
          "name": "stdout",
          "text": [
            "1\n",
            "2\n",
            "3\n",
            "4\n",
            "5\n",
            "6\n",
            "7\n",
            "8\n",
            "9\n",
            "10\n",
            "11\n",
            "12\n",
            "13\n",
            "14\n",
            "15\n",
            "16\n",
            "17\n",
            "18\n",
            "19\n",
            "20\n",
            "21\n",
            "22\n",
            "23\n",
            "24\n",
            "25\n",
            "26\n",
            "27\n",
            "28\n",
            "29\n",
            "30\n",
            "31\n",
            "32\n",
            "33\n",
            "34\n",
            "35\n",
            "36\n",
            "37\n",
            "38\n",
            "39\n",
            "40\n",
            "41\n",
            "42\n",
            "43\n",
            "44\n",
            "45\n",
            "46\n",
            "47\n",
            "48\n",
            "49\n",
            "50\n",
            "51\n",
            "52\n",
            "53\n",
            "54\n",
            "55\n",
            "56\n",
            "57\n",
            "58\n",
            "59\n",
            "60\n",
            "61\n",
            "62\n",
            "63\n",
            "64\n",
            "65\n",
            "66\n",
            "67\n",
            "68\n",
            "69\n",
            "70\n",
            "71\n",
            "72\n",
            "73\n",
            "74\n",
            "75\n",
            "76\n",
            "77\n",
            "78\n",
            "79\n",
            "80\n",
            "81\n",
            "82\n",
            "83\n",
            "84\n",
            "85\n",
            "86\n",
            "87\n",
            "88\n",
            "89\n",
            "90\n",
            "91\n",
            "92\n",
            "93\n",
            "94\n",
            "95\n",
            "96\n",
            "97\n",
            "98\n",
            "99\n",
            "Odd: 50\n",
            "Even : 49\n"
          ]
        }
      ]
    },
    {
      "cell_type": "markdown",
      "source": [
        "9.Compute the factorial of a given number. b) Compute GCD of two given numbers. c) Generate Fibonacci series up to N numbers"
      ],
      "metadata": {
        "id": "2zWShkswyepF"
      }
    },
    {
      "cell_type": "code",
      "source": [
        "num =int(input())\n",
        "factorial = 1\n",
        "for i in range(1,num + 1):\n",
        " factorial = factorial*i\n",
        "print(\"The factorial of\",num,\"is\",factorial)\n",
        "\n",
        "def gcdfun (x, y):  \n",
        "    if (y == 0): \n",
        "        return x  \n",
        "    else:  \n",
        "        return gcdfun (y, x % y)  \n",
        "x =int (input ())    \n",
        "y =int (input ())  \n",
        "num = gcdfun(x, y) \n",
        "print(\"GCD of two number is: \")  \n",
        "print(num)"
      ],
      "metadata": {
        "colab": {
          "base_uri": "https://localhost:8080/"
        },
        "id": "09xW_4rN0Pc0",
        "outputId": "c9caf084-d255-4e72-8cc4-a02aa431c412"
      },
      "execution_count": null,
      "outputs": [
        {
          "output_type": "stream",
          "name": "stdout",
          "text": [
            "50\n",
            "The factorial of 50 is 30414093201713378043612608166064768844377641568960512000000000000\n",
            "452\n",
            "452\n",
            "GCD of two number is: \n",
            "452\n"
          ]
        }
      ]
    },
    {
      "cell_type": "markdown",
      "source": [
        "10.Check whether the given input is a) palindrome b) strong c) perfect"
      ],
      "metadata": {
        "id": "oH_8Tlhf0a-E"
      }
    },
    {
      "cell_type": "code",
      "source": [
        "n=int(input())\n",
        "temp=n\n",
        "rev=0\n",
        "while(n>0):\n",
        "    dig=n%10\n",
        "    rev=rev*10+dig\n",
        "    n=n//10\n",
        "if(temp==rev):\n",
        "    print(\"The number is a palindrome\")\n",
        "else:\n",
        "    print(\"The number isn't a palindrome!\")\n",
        "\n",
        "#strong number\n",
        "sum1=0\n",
        "temp=n\n",
        "while(n):\n",
        "    i=1\n",
        "    f=1\n",
        "    r=n%10\n",
        "    while(i<=r):\n",
        "        f=f*i\n",
        "        i=i+1\n",
        "    sum1=sum1+f\n",
        "    n=n//10\n",
        "if(sum1==temp):\n",
        "    print(\"The number is a strong number\")\n",
        "else:\n",
        "    print(\"The number is not a strong number!\")\n",
        "\n",
        "#perfect number\n",
        "sum1 = 0\n",
        "for i in range(1, n):\n",
        "    if(n % i == 0):\n",
        "        sum1 = sum1 + i\n",
        "if (sum1 == n):\n",
        "    print(\"The number is a Perfect number\")\n",
        "else:\n",
        "    print(\"The number is not a Perfect number!\")"
      ],
      "metadata": {
        "colab": {
          "base_uri": "https://localhost:8080/"
        },
        "id": "GynUDV_G0dar",
        "outputId": "d93c7db8-cc6b-4564-a5d8-412ed3a82786"
      },
      "execution_count": null,
      "outputs": [
        {
          "output_type": "stream",
          "name": "stdout",
          "text": [
            "49\n",
            "The number isn't a palindrome!\n",
            "The number is a strong number\n",
            "The number is a Perfect number\n"
          ]
        }
      ]
    },
    {
      "cell_type": "markdown",
      "source": [
        "11.Compute compound interest using loop for a certain principal and interest amount"
      ],
      "metadata": {
        "id": "BI8gB9Ya0pLE"
      }
    },
    {
      "cell_type": "code",
      "source": [
        "p = float(input(\"Enter the principal amount : \"))\n",
        "t = float(input(\"Enter the number of years : \"))\n",
        "r = float(input(\"Enter the rate of interest : \"))\n",
        "ci =  p * (pow((1 + r / 100), t))\n",
        "print(\"Compound interest : {}\".format(ci))"
      ],
      "metadata": {
        "colab": {
          "base_uri": "https://localhost:8080/"
        },
        "id": "xGipn7Rx0tWc",
        "outputId": "184c02d3-c679-4bfe-fed5-13a4712a5310"
      },
      "execution_count": null,
      "outputs": [
        {
          "output_type": "stream",
          "name": "stdout",
          "text": [
            "Enter the principal amount : 10000\n",
            "Enter the number of years : 0.5\n",
            "Enter the rate of interest : 25\n",
            "Compound interest : 11180.339887498949\n"
          ]
        }
      ]
    }
  ],
  "metadata": {
    "colab": {
      "name": "Module I.ipynb",
      "provenance": [],
      "authorship_tag": "ABX9TyP8ii+lipS9sJ++ERCGHXr8",
      "include_colab_link": true
    },
    "kernelspec": {
      "display_name": "Python 3",
      "name": "python3"
    },
    "language_info": {
      "name": "python"
    }
  },
  "nbformat": 4,
  "nbformat_minor": 0
}