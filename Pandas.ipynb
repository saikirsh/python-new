{
  "nbformat": 4,
  "nbformat_minor": 0,
  "metadata": {
    "colab": {
      "name": "Pandas.ipynb",
      "provenance": [],
      "authorship_tag": "ABX9TyOYdx0L++Hv9uV5cmGk36wG",
      "include_colab_link": true
    },
    "kernelspec": {
      "name": "python3",
      "display_name": "Python 3"
    },
    "language_info": {
      "name": "python"
    }
  },
  "cells": [
    {
      "cell_type": "markdown",
      "metadata": {
        "id": "view-in-github",
        "colab_type": "text"
      },
      "source": [
        "<a href=\"https://colab.research.google.com/github/saikirsh/python-new/blob/module-3/Pandas.ipynb\" target=\"_parent\"><img src=\"https://colab.research.google.com/assets/colab-badge.svg\" alt=\"Open In Colab\"/></a>"
      ]
    },
    {
      "cell_type": "code",
      "source": [
        "import pandas as pd\n",
        "\n",
        "mydataset = {\n",
        "  'menu': [\"idly\", \"Dosa\", \"puri\"],\n",
        "  'costs': [20, 40, 50]\n",
        "}\n",
        "\n",
        "myvar = pd.DataFrame(mydataset)\n",
        "\n",
        "print(myvar)\n"
      ],
      "metadata": {
        "colab": {
          "base_uri": "https://localhost:8080/"
        },
        "id": "lDKdFeh0tKjP",
        "outputId": "c8c09138-389c-43bb-e235-4a76b531497b"
      },
      "execution_count": null,
      "outputs": [
        {
          "output_type": "stream",
          "name": "stdout",
          "text": [
            "   menu  costs\n",
            "0  idly     20\n",
            "1  Dosa     40\n",
            "2  puri     50\n"
          ]
        }
      ]
    },
    {
      "cell_type": "markdown",
      "source": [
        "Checking Panadas Version "
      ],
      "metadata": {
        "id": "8Owm-yX0tisW"
      }
    },
    {
      "cell_type": "code",
      "source": [
        "import pandas as pd\n",
        "\n",
        "print(pd.__version__)"
      ],
      "metadata": {
        "colab": {
          "base_uri": "https://localhost:8080/"
        },
        "id": "5s94JsqKt3NX",
        "outputId": "1024460c-7208-4c49-82b2-854ef0bf7c73"
      },
      "execution_count": null,
      "outputs": [
        {
          "output_type": "stream",
          "name": "stdout",
          "text": [
            "1.3.5\n"
          ]
        }
      ]
    },
    {
      "cell_type": "markdown",
      "source": [
        "Pandas series "
      ],
      "metadata": {
        "id": "iVxAHsuNuESD"
      }
    },
    {
      "cell_type": "code",
      "source": [
        "import pandas as pd\n",
        "\n",
        "a = [1, 5, 2]\n",
        "\n",
        "x = pd.Series(a)\n",
        "\n",
        "print(x)"
      ],
      "metadata": {
        "colab": {
          "base_uri": "https://localhost:8080/"
        },
        "id": "ubOnob4duD9D",
        "outputId": "3730a3e7-d2b9-4fce-ed95-4019116b51f5"
      },
      "execution_count": null,
      "outputs": [
        {
          "output_type": "stream",
          "name": "stdout",
          "text": [
            "0    1\n",
            "1    5\n",
            "2    2\n",
            "dtype: int64\n"
          ]
        }
      ]
    },
    {
      "cell_type": "code",
      "source": [
        "#Labels\n",
        "import pandas as pd\n",
        "\n",
        "a = [1, 5, 2]\n",
        "\n",
        "x = pd.Series(a)\n",
        "\n",
        "print(x[0])"
      ],
      "metadata": {
        "colab": {
          "base_uri": "https://localhost:8080/"
        },
        "id": "8OFRIRxHuR6G",
        "outputId": "7d1106a6-cd6a-4b0d-b2d3-5827a23845c6"
      },
      "execution_count": null,
      "outputs": [
        {
          "output_type": "stream",
          "name": "stdout",
          "text": [
            "1\n"
          ]
        }
      ]
    },
    {
      "cell_type": "code",
      "source": [
        "import pandas as pd\n",
        "\n",
        "a = [1, 1, 2]\n",
        "\n",
        "x = pd.Series(a)\n",
        "\n",
        "print(x[1])"
      ],
      "metadata": {
        "colab": {
          "base_uri": "https://localhost:8080/"
        },
        "id": "gYcWs7B6uvsW",
        "outputId": "debce568-f28e-4b3a-c3da-ff215b0d43ee"
      },
      "execution_count": null,
      "outputs": [
        {
          "output_type": "stream",
          "name": "stdout",
          "text": [
            "1\n"
          ]
        }
      ]
    },
    {
      "cell_type": "code",
      "source": [
        "#Create Labels\n",
        "import pandas as pd\n",
        "\n",
        "a = [1, 3, 2]\n",
        "\n",
        "x = pd.Series(a, index = [\"x\", \"y\", \"z\"])\n",
        "\n",
        "print(x)"
      ],
      "metadata": {
        "colab": {
          "base_uri": "https://localhost:8080/"
        },
        "id": "bBf9VqnWucdu",
        "outputId": "0cf3b7b0-db6e-4a32-e8ca-bf3fd4885452"
      },
      "execution_count": null,
      "outputs": [
        {
          "output_type": "stream",
          "name": "stdout",
          "text": [
            "x    1\n",
            "y    3\n",
            "z    2\n",
            "dtype: int64\n"
          ]
        }
      ]
    },
    {
      "cell_type": "code",
      "source": [
        "import pandas as pd\n",
        "\n",
        "a = [1, 5, 2]\n",
        "\n",
        "x = pd.Series(a, index = [\"x\", \"y\", \"z\"])\n",
        "\n",
        "print(x[\"z\"])"
      ],
      "metadata": {
        "colab": {
          "base_uri": "https://localhost:8080/"
        },
        "id": "SH-8IufVu5Xu",
        "outputId": "dc9b9c38-3038-41bc-88d9-6fc8bfd21388"
      },
      "execution_count": null,
      "outputs": [
        {
          "output_type": "stream",
          "name": "stdout",
          "text": [
            "2\n"
          ]
        }
      ]
    },
    {
      "cell_type": "code",
      "source": [
        "#Key/Value Objects as Series\n",
        "import pandas as pd\n",
        "\n",
        "Expendicture = {\"day1\": 300, \"day2\": 350, \"day3\": 330}\n",
        "\n",
        "x = pd.Series(Expendicture)\n",
        "\n",
        "print(x)"
      ],
      "metadata": {
        "colab": {
          "base_uri": "https://localhost:8080/"
        },
        "id": "yAzDOzewvKj2",
        "outputId": "49eed32c-320a-4d2f-d3fb-e95112051b1b"
      },
      "execution_count": null,
      "outputs": [
        {
          "output_type": "stream",
          "name": "stdout",
          "text": [
            "day1    300\n",
            "day2    350\n",
            "day3    330\n",
            "dtype: int64\n"
          ]
        }
      ]
    },
    {
      "cell_type": "code",
      "source": [
        "import pandas as pd\n",
        "\n",
        "Expendicture = {\"day1\": 300, \"day2\": 350, \"day3\": 330}\n",
        "\n",
        "x = pd.Series(Expendicture, index = [\"day1\",\"day2\"])\n",
        "\n",
        "print(x)"
      ],
      "metadata": {
        "colab": {
          "base_uri": "https://localhost:8080/"
        },
        "id": "BTM5YWqXv5Ie",
        "outputId": "07455621-0507-4b14-9602-1cc3cbe68459"
      },
      "execution_count": null,
      "outputs": [
        {
          "output_type": "stream",
          "name": "stdout",
          "text": [
            "day1    300\n",
            "day2    350\n",
            "dtype: int64\n"
          ]
        }
      ]
    },
    {
      "cell_type": "code",
      "source": [
        "# Data Frames\n",
        "import pandas as pd\n",
        "\n",
        "data = {\n",
        "  \"calories\": [550, 430, 490],\n",
        "  \"duration\": [50, 40, 45]\n",
        "}\n",
        "\n",
        "x= pd.DataFrame(data)\n",
        "\n",
        "print(x)\n"
      ],
      "metadata": {
        "colab": {
          "base_uri": "https://localhost:8080/"
        },
        "id": "1KgdJj5-xZQM",
        "outputId": "4f1391d3-8b8e-4cc0-956c-9d6f39f4cf83"
      },
      "execution_count": null,
      "outputs": [
        {
          "output_type": "stream",
          "name": "stdout",
          "text": [
            "   calories  duration\n",
            "0       550        50\n",
            "1       430        40\n",
            "2       490        45\n"
          ]
        }
      ]
    },
    {
      "cell_type": "markdown",
      "source": [
        "Pandas DataFrames"
      ],
      "metadata": {
        "id": "174Wz3z0zuvc"
      }
    },
    {
      "cell_type": "code",
      "source": [
        "import pandas as pd\n",
        "\n",
        "data = {\n",
        "  \"calories\": [550, 430, 490],\n",
        "  \"duration\": [50, 40, 45]\n",
        "}\n",
        "\n",
        "x= pd.DataFrame(data)\n",
        "\n",
        "print(x)\n"
      ],
      "metadata": {
        "colab": {
          "base_uri": "https://localhost:8080/"
        },
        "id": "bscPi39pxkG8",
        "outputId": "d29be82c-b30c-43f1-c855-70a24d26ebf8"
      },
      "execution_count": null,
      "outputs": [
        {
          "output_type": "stream",
          "name": "stdout",
          "text": [
            "   calories  duration\n",
            "0       550        50\n",
            "1       430        40\n",
            "2       490        45\n"
          ]
        }
      ]
    },
    {
      "cell_type": "code",
      "source": [
        "#Locate Row\n",
        "import pandas as pd\n",
        "\n",
        "data = {\n",
        "  \"calories\": [550, 430, 490],\n",
        "  \"duration\": [50, 40, 45]\n",
        "}\n",
        "\n",
        "x= pd.DataFrame(data)\n",
        "\n",
        "print(x.loc[1])"
      ],
      "metadata": {
        "colab": {
          "base_uri": "https://localhost:8080/"
        },
        "id": "D0O2fIuzz3Bk",
        "outputId": "e38e8df7-a6c5-44e3-fafe-b4fcb9310183"
      },
      "execution_count": null,
      "outputs": [
        {
          "output_type": "stream",
          "name": "stdout",
          "text": [
            "calories    430\n",
            "duration     40\n",
            "Name: 1, dtype: int64\n"
          ]
        }
      ]
    },
    {
      "cell_type": "code",
      "source": [
        "import pandas as pd\n",
        "\n",
        "data = {\n",
        "  \"calories\": [550, 430, 490],\n",
        "  \"duration\": [50, 40, 45]\n",
        "}\n",
        "\n",
        "x= pd.DataFrame(data)\n",
        "\n",
        "print(x.loc[[0,1]])"
      ],
      "metadata": {
        "colab": {
          "base_uri": "https://localhost:8080/"
        },
        "id": "DiI5Yf7I0GHU",
        "outputId": "742740d7-8c6a-4c12-fd6b-10965c065dc2"
      },
      "execution_count": null,
      "outputs": [
        {
          "output_type": "stream",
          "name": "stdout",
          "text": [
            "   calories  duration\n",
            "0       550        50\n",
            "1       430        40\n"
          ]
        }
      ]
    },
    {
      "cell_type": "markdown",
      "source": [
        "Named Indexes"
      ],
      "metadata": {
        "id": "FG6y2SYe0eiL"
      }
    },
    {
      "cell_type": "code",
      "source": [
        "import pandas as pd\n",
        "\n",
        "data = {\n",
        "  \"calories\": [550, 430, 490],\n",
        "  \"duration\": [50, 40, 45]\n",
        "}\n",
        "\n",
        "x= pd.DataFrame(data,index = [\"day1\",\"day2\",\"day3\"])\n",
        "\n",
        "print(x)"
      ],
      "metadata": {
        "colab": {
          "base_uri": "https://localhost:8080/"
        },
        "id": "C6BaXGpZ0aJ8",
        "outputId": "8b03c77b-ba5d-4298-cf37-cbfcba997284"
      },
      "execution_count": null,
      "outputs": [
        {
          "output_type": "stream",
          "name": "stdout",
          "text": [
            "      calories  duration\n",
            "day1       550        50\n",
            "day2       430        40\n",
            "day3       490        45\n"
          ]
        }
      ]
    },
    {
      "cell_type": "code",
      "source": [
        "#Locate Named Indexes\n",
        "import pandas as pd\n",
        "\n",
        "data = {\n",
        "  \"calories\": [550, 430, 490],\n",
        "  \"duration\": [50, 40, 45]\n",
        "}\n",
        "\n",
        "x= pd.DataFrame(data,index = [\"day1\",\"day2\",\"day3\"])\n",
        "\n",
        "print(x.loc[\"day3\"])"
      ],
      "metadata": {
        "colab": {
          "base_uri": "https://localhost:8080/"
        },
        "id": "zVT-OhD10zNz",
        "outputId": "27545eb0-6e78-4a55-939f-774000138095"
      },
      "execution_count": null,
      "outputs": [
        {
          "output_type": "stream",
          "name": "stdout",
          "text": [
            "calories    490\n",
            "duration     45\n",
            "Name: day3, dtype: int64\n"
          ]
        }
      ]
    }
  ]
}